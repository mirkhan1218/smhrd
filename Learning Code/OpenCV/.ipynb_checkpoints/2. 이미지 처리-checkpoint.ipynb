{
 "cells": [
  {
   "cell_type": "code",
   "execution_count": 1,
   "id": "9f556c05",
   "metadata": {},
   "outputs": [],
   "source": [
    "import cv2\n",
    "\n",
    "img = cv2.imread('data/img_1115.jpg')\n",
    "\n",
    "cv2.imshow('img', img)\n",
    "cv2.waitKey(0)\n",
    "cv2.destroyAllWindows()"
   ]
  },
  {
   "cell_type": "code",
   "execution_count": 2,
   "id": "5fbd2c37",
   "metadata": {},
   "outputs": [],
   "source": [
    "def end(ms=0):\n",
    "    cv2.waitKey(ms)\n",
    "    cv2.destroyAllWindows()"
   ]
  },
  {
   "cell_type": "markdown",
   "id": "fe0d63f7",
   "metadata": {},
   "source": [
    "# 픽셀값 변경하기"
   ]
  },
  {
   "cell_type": "code",
   "execution_count": 3,
   "id": "f96817ee",
   "metadata": {},
   "outputs": [
    {
     "data": {
      "text/plain": [
       "(1400, 1000, 3)"
      ]
     },
     "execution_count": 3,
     "metadata": {},
     "output_type": "execute_result"
    }
   ],
   "source": [
    "# 가로 : 320\n",
    "# 세로 : 790\n",
    "img.shape"
   ]
  },
  {
   "cell_type": "code",
   "execution_count": 4,
   "id": "82f1ef42",
   "metadata": {},
   "outputs": [],
   "source": [
    "# [세로,가로] = 픽셀의 RGB\n",
    "img[790, 320] = [0,0,0]"
   ]
  },
  {
   "cell_type": "code",
   "execution_count": 5,
   "id": "677c6755",
   "metadata": {},
   "outputs": [],
   "source": [
    "cv2.imshow('img',img)\n",
    "end()"
   ]
  },
  {
   "cell_type": "markdown",
   "id": "c04bd278",
   "metadata": {},
   "source": [
    "# 색상 추적"
   ]
  },
  {
   "cell_type": "code",
   "execution_count": 6,
   "id": "f1cb117d",
   "metadata": {},
   "outputs": [],
   "source": [
    "# HSV : Hue(색상), Saturation(채도), Value(명도)\n",
    "# 색상 : -180 ~ 180\n",
    "# 채도, 명도 : 0 ~ 255"
   ]
  },
  {
   "cell_type": "code",
   "execution_count": 7,
   "id": "3deb04f3",
   "metadata": {},
   "outputs": [],
   "source": [
    "import cv2\n",
    "import numpy as np\n",
    "\n",
    "img = cv2.imread('data/balloon.jpg')\n",
    "\n",
    "img_hsv = cv2.cvtColor(img, cv2.COLOR_RGB2HSV)\n",
    "\n",
    "# 최소값\n",
    "lower = np.array([-10, 100, 100])\n",
    "\n",
    "# 최대값\n",
    "upper = np.array([10, 255, 255])\n",
    "\n",
    "# 최소값과 최대값을 사용해서 색의 범위를 마스킹\n",
    "mask = cv2.inRange(img_hsv, lower, upper)\n",
    "\n",
    "img_range = cv2.bitwise_and(img, img, mask=mask)\n",
    "\n",
    "cv2.imshow('balloon',img)\n",
    "cv2.imshow('hsv', img_hsv)\n",
    "cv2.imshow('range', img_range)\n",
    "end()"
   ]
  },
  {
   "cell_type": "markdown",
   "id": "f30b383d",
   "metadata": {},
   "source": [
    "# 이미지 자르기"
   ]
  },
  {
   "cell_type": "code",
   "execution_count": 8,
   "id": "63b62df7",
   "metadata": {},
   "outputs": [],
   "source": [
    "import cv2\n",
    "\n",
    "img = cv2.imread('data/img_1115.jpg')\n",
    "\n",
    "cv2.imshow('img',img)\n",
    "\n",
    "end()"
   ]
  },
  {
   "cell_type": "code",
   "execution_count": 9,
   "id": "9928d143",
   "metadata": {},
   "outputs": [],
   "source": [
    "# x, y\n",
    "# 좌상단 170,0\n",
    "# 우하단 910, 850"
   ]
  },
  {
   "cell_type": "code",
   "execution_count": 10,
   "id": "d016fb61",
   "metadata": {},
   "outputs": [],
   "source": [
    "# y, x로 접근\n",
    "# roi = Region of Image\n",
    "roi = img[0:850, 170:910]\n",
    "cv2.imshow('roi', roi)\n",
    "end()"
   ]
  },
  {
   "cell_type": "code",
   "execution_count": 11,
   "id": "2f3302c3",
   "metadata": {},
   "outputs": [],
   "source": [
    "# roi를 원래 이미지에 표시\n",
    "# cv2.rectangle = 이미지에 사각형 그리기\n",
    "# cv2.putText = 이미지에 글씨 쓰기"
   ]
  },
  {
   "cell_type": "code",
   "execution_count": 12,
   "id": "06f6c500",
   "metadata": {},
   "outputs": [],
   "source": [
    "import cv2\n",
    "\n",
    "img = cv2.imread('data/img_1115.jpg')\n",
    "\n",
    "# rectangle(사용할 이미지, 좌상단 좌표(x,y), 우하단 좌표(x,y), 색상(BGR), 선두께)\n",
    "roi_img = cv2.rectangle(img, (170, 0), (910, 850), (0, 255, 0), 3)\n",
    "\n",
    "# putText(사용할 이미지, 출력할 내용, 출력 좌표(좌측하단), 폰트, 글씨크기, 색상(BGR), 선두께)\n",
    "roi_img = cv2.putText(roi_img, 'img', (170, 850), cv2.FONT_HERSHEY_PLAIN, 4, (0, 255, 0), 3)\n",
    "\n",
    "cv2.imshow('roi_img', roi_img)\n",
    "end()"
   ]
  },
  {
   "cell_type": "markdown",
   "id": "97c85b6f",
   "metadata": {},
   "source": [
    "# 이미지 필터링 - 모자이크"
   ]
  },
  {
   "cell_type": "code",
   "execution_count": 13,
   "id": "0e87d8aa",
   "metadata": {},
   "outputs": [
    {
     "name": "stderr",
     "output_type": "stream",
     "text": [
      "C:\\Users\\smhrd\\AppData\\Local\\Temp\\ipykernel_26604\\1382840295.py:6: DeprecationWarning: `np.float` is a deprecated alias for the builtin `float`. To silence this warning, use `float` by itself. Doing this will not modify any behavior and is safe. If you specifically wanted the numpy scalar type, use `np.float64` here.\n",
      "Deprecated in NumPy 1.20; for more details and guidance: https://numpy.org/devdocs/release/1.20.0-notes.html#deprecations\n",
      "  kernel = np.ones((5,5), np.float) / 25\n"
     ]
    }
   ],
   "source": [
    "import cv2\n",
    "import numpy as np\n",
    "\n",
    "img = cv2.imread('data/img_1115.jpg')\n",
    "\n",
    "kernel = np.ones((5,5), np.float) / 25\n",
    "\n",
    "blur = cv2.filter2D(img, -1, kernel)\n",
    "\n",
    "cv2.imshow('blur', blur)\n",
    "end()"
   ]
  },
  {
   "cell_type": "markdown",
   "id": "fce2a2a4",
   "metadata": {},
   "source": [
    "# 침식과 팽창\n",
    "- 검정배경에 흰색 물체에 사용하는 방법 > 흑백이미지\n",
    "- erosion(침식) : 이미지의 경계부분을 배경부분로 변경하는 작업\n",
    "    - 흰색이 검은색으로 변경\n",
    "    - 물체의 테두리가 작아짐\n",
    "- dilation(팽창) : 이미지의 배경부분을 경게부분로 변경하는 작업\n",
    "    - 검은색이 흰색으로 변경\n",
    "    - 물체의 테두리가 커짐"
   ]
  },
  {
   "cell_type": "code",
   "execution_count": 14,
   "id": "68ceefbf",
   "metadata": {},
   "outputs": [],
   "source": [
    "import cv2\n",
    "import numpy as np\n",
    "\n",
    "img = cv2.imread('data/number.png', cv2.IMREAD_GRAYSCALE)\n",
    "\n",
    "kernel = np.ones((3,3), np.float32)\n",
    "\n",
    "erosion = cv2.erode(img, kernel, iterations = 1)\n",
    "dilation = cv2.dilate(img, kernel, iterations = 1)\n",
    "\n",
    "cv2.imshow('original', img)\n",
    "cv2.imshow('erosion', erosion)\n",
    "cv2.imshow('dilation', dilation)\n",
    "\n",
    "end()"
   ]
  },
  {
   "cell_type": "markdown",
   "id": "df7b2240",
   "metadata": {},
   "source": [
    "# Opening과 Closing\n",
    "- Opening : 침식후에 팽창을 수행하는것, 배경에 노이즈가 있을때\n",
    "- Closing : 팽창후에 침식을 수행하는것, 물체에 노이즈가 있을때"
   ]
  },
  {
   "cell_type": "code",
   "execution_count": 15,
   "id": "e57fa6d9",
   "metadata": {},
   "outputs": [],
   "source": [
    "import cv2\n",
    "import numpy as np\n",
    "\n",
    "imgA = cv2.imread('data/noise_A.png', cv2.IMREAD_GRAYSCALE)\n",
    "imgB = cv2.imread('data/noise_B.png', cv2.IMREAD_GRAYSCALE)\n",
    "\n",
    "cv2.imshow('A_original', imgA)\n",
    "cv2.imshow('B_original', imgB)\n",
    "\n",
    "kernel = np.ones((3,3), np.float32)\n",
    "\n",
    "img_a_opening = cv2.morphologyEx(imgA, cv2.MORPH_OPEN, kernel)\n",
    "img_b_closing = cv2.morphologyEx(imgB, cv2.MORPH_CLOSE, kernel)\n",
    "\n",
    "cv2.imshow('A_opening', img_a_opening)\n",
    "cv2.imshow('B_closing', img_b_closing)\n",
    "\n",
    "end()"
   ]
  },
  {
   "cell_type": "markdown",
   "id": "37940f4a",
   "metadata": {},
   "source": [
    "# 에지 추출기 - Canny\n",
    "- 테두리 판별기"
   ]
  },
  {
   "cell_type": "code",
   "execution_count": 16,
   "id": "60039144",
   "metadata": {},
   "outputs": [],
   "source": [
    "import cv2\n",
    "\n",
    "img = cv2.imread('data/img_1115.jpg', cv2.IMREAD_GRAYSCALE)\n",
    "\n",
    "# 이미지, 최소값, 최대값\n",
    "# 값의 범위가 클수록 적은 테두리가 나옴\n",
    "edge = cv2.Canny(img, 100, 150)\n",
    "\n",
    "# 색상 반전\n",
    "edge2 = cv2.bitwise_not(edge)\n",
    "\n",
    "cv2.imshow('img', img)\n",
    "cv2.imshow('edge', edge)\n",
    "cv2.imshow('edge2', edge2)\n",
    "\n",
    "end()"
   ]
  },
  {
   "cell_type": "markdown",
   "id": "70c4278d",
   "metadata": {},
   "source": [
    "# 윤곽선 추출\n",
    "- 이진이미지를 대상으로 윤곽선 추출"
   ]
  },
  {
   "cell_type": "code",
   "execution_count": 17,
   "id": "637a5fff",
   "metadata": {},
   "outputs": [],
   "source": [
    "import cv2\n",
    "\n",
    "img = cv2.imread('data/img_1115.jpg')\n",
    "\n",
    "gray = cv2.cvtColor(img, cv2.COLOR_RGB2GRAY)\n",
    "\n",
    "# 이진 이미지 변환\n",
    "ret, thr = cv2.threshold(gray, 50, 255, 0)\n",
    "\n",
    "# 윤곽선 추출\n",
    "contours, _ = cv2.findContours(thr, cv2.RETR_TREE, cv2.CHAIN_APPROX_SIMPLE)\n",
    "\n",
    "# 추출된 윤곽선 그리기\n",
    "# drawContours(이미지, 윤곽선 값, 외곽선 인덱스(-1이면 전체 출력), 색상(BGR), 선두께) \n",
    "cv2.drawContours(img, contours, -1, (0,255,0), 4)\n",
    "\n",
    "cv2.imshow('thr',thr)\n",
    "cv2.imshow('contour', img)\n",
    "\n",
    "end()"
   ]
  },
  {
   "cell_type": "markdown",
   "id": "760732f0",
   "metadata": {},
   "source": [
    "# 이미지 색상분포 균일화"
   ]
  },
  {
   "cell_type": "code",
   "execution_count": 18,
   "id": "680d4687",
   "metadata": {},
   "outputs": [],
   "source": [
    "import cv2\n",
    "import matplotlib.pyplot as plt\n",
    "\n",
    "img = cv2.imread('data/histogram.png', cv2.IMREAD_GRAYSCALE)\n",
    "cv2.imshow('original', img)\n",
    "\n",
    "end()"
   ]
  },
  {
   "cell_type": "code",
   "execution_count": 19,
   "id": "07844b98",
   "metadata": {},
   "outputs": [
    {
     "data": {
      "image/png": "[encoded data removed]",
      "text/plain": [
       "<Figure size 640x480 with 1 Axes>"
      ]
     },
     "metadata": {},
     "output_type": "display_data"
    }
   ],
   "source": [
    "# calcHist(이미지, 채널, 특정부분 마스크, 색상 개수, 픽셀값의 범위)\n",
    "hist = cv2.calcHist([img],[0],None,[256],[0,255])\n",
    "\n",
    "plt.plot(hist)\n",
    "plt.xlim([0, 255])\n",
    "plt.show()\n",
    "\n",
    "end()"
   ]
  },
  {
   "cell_type": "code",
   "execution_count": 20,
   "id": "51559ce1",
   "metadata": {},
   "outputs": [
    {
     "data": {
      "image/png": "[encoded data removed]",
      "text/plain": [
       "<Figure size 640x480 with 1 Axes>"
      ]
     },
     "metadata": {},
     "output_type": "display_data"
    }
   ],
   "source": [
    "img = cv2.equalizeHist(img)\n",
    "\n",
    "cv2.imshow('equalize', img)\n",
    "\n",
    "hist = cv2.calcHist([img],[0],None,[256],[0,255])\n",
    "\n",
    "plt.plot(hist)\n",
    "plt.xlim([0, 255])\n",
    "plt.show()\n",
    "\n",
    "end()"
   ]
  },
  {
   "cell_type": "markdown",
   "id": "a6dbc6b2",
   "metadata": {},
   "source": [
    "# 이미지에서 원 찾기"
   ]
  },
  {
   "cell_type": "code",
   "execution_count": 21,
   "id": "0c96c648",
   "metadata": {},
   "outputs": [
    {
     "name": "stdout",
     "output_type": "stream",
     "text": [
      "[[[339.5 265.5  36.9]\n",
      "  [335.5 168.5  36.4]\n",
      "  [331.5  72.5  37.9]]]\n"
     ]
    }
   ],
   "source": [
    "import cv2\n",
    "import numpy as np\n",
    "\n",
    "img = cv2.imread('data/signal_light.jpg')\n",
    "img_gray = cv2.cvtColor(img, cv2.COLOR_RGB2GRAY)\n",
    "\n",
    "# 원 찾기\n",
    "circles = cv2.HoughCircles(img_gray, # 사용 이미지\n",
    "                           cv2.HOUGH_GRADIENT, # 찾는 방법\n",
    "                           1, # 변환 이미지 비율(1 추천)\n",
    "                           10, # 원 중심간의 최소거리\n",
    "                           param1 = 60, # Canny 연산자의 최대값\n",
    "                           param2 = 50, # 카운트 값(작으면 많은 원을 찾음)\n",
    "                           minRadius = 10, # 원의 최소 반지름\n",
    "                           maxRadius = 100 # 원의 최대 반지름\n",
    "                          )\n",
    "\n",
    "print(circles)"
   ]
  },
  {
   "cell_type": "code",
   "execution_count": 22,
   "id": "d7094941",
   "metadata": {},
   "outputs": [],
   "source": [
    "# (X중심점,  Y중심점, 반지름)\n",
    "# 찾은 원 이미지에 표현하기\n",
    "if circles is not None:\n",
    "    circles = np.uint16(np.around(circles))\n",
    "    \n",
    "    # 원을 하나씩 그리기\n",
    "    for circle in circles[0,:]:\n",
    "        cv2.circle(img, # 사용이미지\n",
    "                   (circle[0], circle[1]), # 중심좌표\n",
    "                   circle[2], # 반지름\n",
    "                   (255,0,0), # 원 색상(BGR)\n",
    "                   2 # 선 두께\n",
    "                  )\n",
    "    cv2.imshow('circle', img)\n",
    "    end()"
   ]
  },
  {
   "cell_type": "markdown",
   "id": "6dd9945e",
   "metadata": {},
   "source": [
    "# 템플릿 매칭\n",
    "- 이미지안에서 원하는 이미지를 검색하는 방법"
   ]
  },
  {
   "cell_type": "code",
   "execution_count": 23,
   "id": "176f74fb",
   "metadata": {},
   "outputs": [
    {
     "data": {
      "text/plain": [
       "array([[-0.27828193, -0.26786092, -0.26797706, ..., -0.2678619 ,\n",
       "        -0.2678619 , -0.2804727 ],\n",
       "       [-0.16234161,  0.        ,  0.        , ...,  0.        ,\n",
       "         0.        , -0.19911349],\n",
       "       [-0.16234764,  0.        ,  0.        , ...,  0.        ,\n",
       "         0.        , -0.19911274],\n",
       "       ...,\n",
       "       [-0.03787773,  0.00655395,  0.03424266, ...,  0.        ,\n",
       "         0.        , -0.19911198],\n",
       "       [-0.04360088,  0.0011822 ,  0.02795814, ...,  0.        ,\n",
       "         0.        , -0.19911198],\n",
       "       [-0.05025474, -0.00467988,  0.02220466, ...,  0.        ,\n",
       "         0.        , -0.19910997]], dtype=float32)"
      ]
     },
     "execution_count": 23,
     "metadata": {},
     "output_type": "execute_result"
    }
   ],
   "source": [
    "import cv2\n",
    "import numpy as np\n",
    "\n",
    "img = cv2.imread('data/game.png')\n",
    "img_gray = cv2.cvtColor(img, cv2.COLOR_RGB2GRAY)\n",
    "temp = cv2.imread('data/game_cut.png', cv2.IMREAD_GRAYSCALE)\n",
    "\n",
    "# 찾을 이미지의 가로, 세로 크기\n",
    "h, w = temp.shape\n",
    "\n",
    "# matchTemplate(배경이미지, 찾을이미지, 찾을방법)\n",
    "res = cv2.matchTemplate(img_gray, temp, cv2.TM_CCOEFF_NORMED)\n",
    "res\n"
   ]
  },
  {
   "cell_type": "code",
   "execution_count": 24,
   "id": "8ebf123c",
   "metadata": {},
   "outputs": [],
   "source": [
    "# 각 픽셀에서 찾을 이미지와 배경이미지가 얼마나 유사한지 표현\n",
    "# 0.6 ~ 0.7 정도 나와야 유사\n",
    "# np.where : True값의 위치(인덱스)를 반환\n",
    "loc = np.where(res >= 0.678)\n",
    "for pt in zip(*loc[::-1]):\n",
    "    cv2.rectangle(img, pt, (pt[0] + w, pt[1] + h), (0,255,0), 2)\n",
    "\n",
    "cv2.imshow('img',img)\n",
    "end()"
   ]
  },
  {
   "cell_type": "code",
   "execution_count": 25,
   "id": "8c26400c",
   "metadata": {},
   "outputs": [
    {
     "data": {
      "text/plain": [
       "(array([108, 227, 316,  33, 182, 346,  48, 227, 391, 152], dtype=int64),\n",
       " array([ 77,  77,  77, 137, 137, 137, 256, 256, 256, 315], dtype=int64))"
      ]
     },
     "execution_count": 25,
     "metadata": {},
     "output_type": "execute_result"
    }
   ],
   "source": [
    "loc[::-1] # 순서를 역순으로 출력"
   ]
  },
  {
   "cell_type": "code",
   "execution_count": 26,
   "id": "c8645282",
   "metadata": {},
   "outputs": [
    {
     "name": "stdout",
     "output_type": "stream",
     "text": [
      "[0 1 2 3 4 5 6 7 8 9]\n",
      "[0 2 4 6 8]\n",
      "[9 7 5 3 1]\n",
      "[1 3 5 7 9]\n",
      "[1 3 5]\n"
     ]
    }
   ],
   "source": [
    "arr = np.arange(10)\n",
    "print(arr)\n",
    "print(arr[::2]) # 처음부터 끝까지 2 칸 간격으로 출력\n",
    "print(arr[::-2]) # 처음부터 끝까지 -2 칸 간격으로 출력(=역순, 두칸간격으로)\n",
    "print(arr[1::2]) # 1번 인텍스부터 끝까지 두칸 간격으로 출력\n",
    "print(arr[1:6:2]) # 1번 인텍스부터 5번 인덱스까지 두칸 간격으로 출력"
   ]
  },
  {
   "cell_type": "markdown",
   "id": "afd25a2b",
   "metadata": {},
   "source": [
    "# Haar Cascade 분류기를 사용한 얼굴, 눈 검출"
   ]
  },
  {
   "cell_type": "code",
   "execution_count": 40,
   "id": "f92c7bf8",
   "metadata": {},
   "outputs": [],
   "source": [
    "import cv2\n",
    "\n",
    "# 얼굴 검출기 (얼굴 알고리즘)\n",
    "face_cascade = cv2.CascadeClassifier(\"data/haarcascade_frontalface_default.xml\")\n",
    "# 얼굴 안에 있는 눈 검출기 (눈 알고리즘)\n",
    "eye_cascade = cv2.CascadeClassifier(\"data/haarcascade_eye.xml\")\n",
    "\n",
    "img = cv2.imread('data/face.jpg')\n",
    "img_gray = cv2.cvtColor(img, cv2.COLOR_RGB2GRAY)\n",
    "\n",
    "# 얼굴 검출기 적용해서 얼굴좌표 가져오기(좌상단 x, 좌상단 y, 너비(w), 높이(h))\n",
    "# detectMultiScale(이미지, 스케일 값, 최소이웃값)\n",
    "faces = face_cascade.detectMultiScale(img_gray, 1.3, 5)\n",
    "\n",
    "for (x, y, w, h) in faces:\n",
    "    cv2.rectangle(img, (x, y), (x + w, y + h), (0,255,0), 2)\n",
    "    \n",
    "    # 눈 검출\n",
    "    # 얼굴안에 눈이 있기 때문에 얼굴영역 안에서 진행\n",
    "    # 얼굴 ROI(Region of Image) 저장\n",
    "    roi_gray = img_gray[y:y+h, x:x+w]\n",
    "    roi_color = img[y:y+h, x:x+w]\n",
    "    \n",
    "    # 눈 영역 검출 (좌상단 x, 좌상단 y, 너비(w), 높이(h))\n",
    "    eyes = eye_cascade.detectMultiScale(roi_gray, 1.035, 2)\n",
    "    for (ex, ey, eh, ew) in eyes:\n",
    "        cv2.rectangle(roi_color, (ex, ey), (ex+ew, ey+eh), (255,0,0), 2)\n",
    "    \n",
    "cv2.imshow('face', img)\n",
    "end()"
   ]
  },
  {
   "cell_type": "code",
   "execution_count": 51,
   "id": "3af0e6ce",
   "metadata": {},
   "outputs": [],
   "source": [
    "cap1 = cv2.VideoCapture('data/ellon.mp4')\n",
    "cap = cv2.VideoCapture('data/cat.mp4')\n",
    "\n",
    "# 얼굴 검출기 (얼굴 알고리즘)\n",
    "face_cascade = cv2.CascadeClassifier(\"data/haarcascade_frontalface_default.xml\")\n",
    "# 얼굴 안에 있는 눈 검출기 (눈 알고리즘)\n",
    "eye_cascade = cv2.CascadeClassifier(\"data/haarcascade_eye.xml\")\n",
    "\n",
    "while True:\n",
    "    ret, frame = cap.read()\n",
    "    \n",
    "    if not ret:\n",
    "        print('동영상을 종료합니다')\n",
    "        cap.release()\n",
    "        cv2.destroyAllWindows()\n",
    "        break\n",
    "        \n",
    "    img_gray = cv2.cvtColor(frame, cv2.COLOR_RGB2GRAY)\n",
    "    \n",
    "    faces = face_cascade.detectMultiScale(img_gray, 1.3, 5)\n",
    "\n",
    "    for (x, y, w, h) in faces:\n",
    "        cv2.rectangle(frame, (x, y), (x + w, y + h), (0,255,0), 2)\n",
    "\n",
    "#         # 눈 검출\n",
    "#         # 얼굴안에 눈이 있기 때문에 얼굴영역 안에서 진행\n",
    "#         # 얼굴 ROI(Region of Image) 저장\n",
    "#         roi_gray = img_gray[y:y+h, x:x+w]\n",
    "#         roi_color = frame[y:y+h, x:x+w]\n",
    "\n",
    "#         # 눈 영역 검출 (좌상단 x, 좌상단 y, 너비(w), 높이(h))\n",
    "#         eyes = eye_cascade.detectMultiScale(roi_gray, 1.15, 2)\n",
    "#         for (ex, ey, eh, ew) in eyes:\n",
    "#             cv2.rectangle(roi_color, (ex, ey), (ex+ew, ey+eh), (255,0,0), 2)\n",
    "    \n",
    "    cv2.imshow('face', frame)\n",
    "    \n",
    "    k = cv2.waitKey(33)\n",
    "    \n",
    "    if k == 49:\n",
    "        cap.release()\n",
    "        cv2.destroyAllWindows()\n",
    "        break"
   ]
  },
  {
   "cell_type": "code",
   "execution_count": null,
   "id": "499b831d",
   "metadata": {},
   "outputs": [],
   "source": []
  }
 ],
 "metadata": {
  "kernelspec": {
   "display_name": "Python 3 (ipykernel)",
   "language": "python",
   "name": "python3"
  },
  "language_info": {
   "codemirror_mode": {
    "name": "ipython",
    "version": 3
   },
   "file_extension": ".py",
   "mimetype": "text/x-python",
   "name": "python",
   "nbconvert_exporter": "python",
   "pygments_lexer": "ipython3",
   "version": "3.8.15"
  }
 },
 "nbformat": 4,
 "nbformat_minor": 5
}
