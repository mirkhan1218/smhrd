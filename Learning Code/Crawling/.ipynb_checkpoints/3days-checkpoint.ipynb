{
 "cells": [
  {
   "cell_type": "markdown",
   "id": "1ae985a4",
   "metadata": {},
   "source": [
    "#### 1. 네이버 베스트 셀러 정보 수집"
   ]
  },
  {
   "cell_type": "code",
   "execution_count": 36,
   "id": "6c513782",
   "metadata": {},
   "outputs": [],
   "source": [
    "import requests as req\n",
    "from bs4 import BeautifulSoup as bs\n",
    "res=req.get(\"https://book.naver.com/bestsell/bestseller_list.naver\")\n",
    "soup=bs(res.content,'lxml')"
   ]
  },
  {
   "cell_type": "code",
   "execution_count": 50,
   "id": "e1785d8d",
   "metadata": {},
   "outputs": [
    {
     "data": {
      "text/plain": [
       "25"
      ]
     },
     "execution_count": 50,
     "metadata": {},
     "output_type": "execute_result"
    }
   ],
   "source": [
    "# 책 제목\n",
    "title = soup.find_all('a', 'N=a:bel.title')\n",
    "\n",
    "len(title)"
   ]
  },
  {
   "cell_type": "code",
   "execution_count": 51,
   "id": "7aa33375",
   "metadata": {},
   "outputs": [],
   "source": [
    "date = soup.find_all('.thumb.type_best + dl > dt+dd ')\n",
    "for i in date:\n",
    "    date=i.text[-10:]\n",
    "    print(date)"
   ]
  },
  {
   "cell_type": "code",
   "execution_count": 52,
   "id": "177adfe4",
   "metadata": {},
   "outputs": [
    {
     "data": {
      "text/plain": [
       "25"
      ]
     },
     "execution_count": 52,
     "metadata": {},
     "output_type": "execute_result"
    }
   ],
   "source": [
    "# 책 저자\n",
    "author=soup.select('.thumb.type_best + dl > dt+dd ')\n",
    "len(author)"
   ]
  },
  {
   "cell_type": "code",
   "execution_count": 53,
   "id": "751923a6",
   "metadata": {},
   "outputs": [],
   "source": [
    "#제목 ,저자, 가격 ,날짜\n",
    "titles=[]\n",
    "authors=[]\n",
    "prices=[]\n",
    "dates=[]\n",
    "\n",
    "for i in range(len(title)):\n",
    "    title = soup.find_all('a', 'N=a:bel.title')[i].text\n",
    "    author = soup.select('.thumb.type_best + dl > dt+dd')[i].text\n",
    "    price = soup.find_all('em','price')[i].text\n",
    "    date = soup.select('.thumb.type_best + dl > dt+dd')[i].text\n",
    "    \n",
    "    idx = author.index(\" |\")\n",
    "    \n",
    "    titles.append(title)\n",
    "    authors.append(author[:idx].strip())\n",
    "    prices.append(price)\n",
    "    dates.append(date[-10:])"
   ]
  },
  {
   "cell_type": "code",
   "execution_count": 54,
   "id": "b1b82bd1",
   "metadata": {},
   "outputs": [
    {
     "data": {
      "text/plain": [
       "(25, 25, 25, 25)"
      ]
     },
     "execution_count": 54,
     "metadata": {},
     "output_type": "execute_result"
    }
   ],
   "source": [
    "len(titles), len(authors), len(prices), len(dates)"
   ]
  },
  {
   "cell_type": "code",
   "execution_count": 55,
   "id": "ef7527b2",
   "metadata": {},
   "outputs": [],
   "source": [
    "import pandas as pd"
   ]
  },
  {
   "cell_type": "code",
   "execution_count": 56,
   "id": "47754e05",
   "metadata": {},
   "outputs": [],
   "source": [
    "book_info = {'title':titles, 'author':authors, 'price':prices, 'date':dates}"
   ]
  },
  {
   "cell_type": "code",
   "execution_count": 57,
   "id": "d6228084",
   "metadata": {},
   "outputs": [
    {
     "data": {
      "text/html": [
       "<div>\n",
       "<style scoped>\n",
       "    .dataframe tbody tr th:only-of-type {\n",
       "        vertical-align: middle;\n",
       "    }\n",
       "\n",
       "    .dataframe tbody tr th {\n",
       "        vertical-align: top;\n",
       "    }\n",
       "\n",
       "    .dataframe thead th {\n",
       "        text-align: right;\n",
       "    }\n",
       "</style>\n",
       "<table border=\"1\" class=\"dataframe\">\n",
       "  <thead>\n",
       "    <tr style=\"text-align: right;\">\n",
       "      <th></th>\n",
       "      <th>title</th>\n",
       "      <th>author</th>\n",
       "      <th>price</th>\n",
       "      <th>date</th>\n",
       "    </tr>\n",
       "  </thead>\n",
       "  <tbody>\n",
       "    <tr>\n",
       "      <th>0</th>\n",
       "      <td>헤어질 결심 각본</td>\n",
       "      <td>정서경(시나리오작가), 박찬욱 저</td>\n",
       "      <td>13,500원(-10%)</td>\n",
       "      <td>2022.08.05</td>\n",
       "    </tr>\n",
       "    <tr>\n",
       "      <th>1</th>\n",
       "      <td>흔한남매 11</td>\n",
       "      <td>흔한남매, 백난도 글</td>\n",
       "      <td>13,050원(-10%)</td>\n",
       "      <td>2022.07.28</td>\n",
       "    </tr>\n",
       "    <tr>\n",
       "      <th>2</th>\n",
       "      <td>불편한 편의점</td>\n",
       "      <td>김호연(소설가) 저</td>\n",
       "      <td>12,600원(-10%)</td>\n",
       "      <td>2021.04.20</td>\n",
       "    </tr>\n",
       "    <tr>\n",
       "      <th>3</th>\n",
       "      <td>역행자</td>\n",
       "      <td>자청(기업인) 저</td>\n",
       "      <td>15,750원(-10%)</td>\n",
       "      <td>2022.05.30</td>\n",
       "    </tr>\n",
       "    <tr>\n",
       "      <th>4</th>\n",
       "      <td>계속 가보겠습니다</td>\n",
       "      <td>임은정 저</td>\n",
       "      <td>16,200원(-10%)</td>\n",
       "      <td>2022.07.28</td>\n",
       "    </tr>\n",
       "  </tbody>\n",
       "</table>\n",
       "</div>"
      ],
      "text/plain": [
       "       title              author          price        date\n",
       "0  헤어질 결심 각본  정서경(시나리오작가), 박찬욱 저  13,500원(-10%)  2022.08.05\n",
       "1    흔한남매 11         흔한남매, 백난도 글  13,050원(-10%)  2022.07.28\n",
       "2    불편한 편의점          김호연(소설가) 저  12,600원(-10%)  2021.04.20\n",
       "3        역행자           자청(기업인) 저  15,750원(-10%)  2022.05.30\n",
       "4  계속 가보겠습니다               임은정 저  16,200원(-10%)  2022.07.28"
      ]
     },
     "execution_count": 57,
     "metadata": {},
     "output_type": "execute_result"
    }
   ],
   "source": [
    "book = pd.DataFrame(book_info)\n",
    "book.head()"
   ]
  },
  {
   "cell_type": "markdown",
   "id": "e998999b",
   "metadata": {},
   "source": [
    "#### 2. 네이버 영화 순위 제목 평점 수집"
   ]
  },
  {
   "cell_type": "code",
   "execution_count": 59,
   "id": "7f47f37c",
   "metadata": {},
   "outputs": [],
   "source": [
    "import requests as req\n",
    "from bs4 import BeautifulSoup as bs\n",
    "res=req.get(\"https://movie.naver.com/movie/sdb/rank/rmovie.naver?sel=cur&date=20220817\")\n",
    "soup=bs(res.content,'lxml')"
   ]
  },
  {
   "cell_type": "code",
   "execution_count": 60,
   "id": "89fea6b2",
   "metadata": {},
   "outputs": [
    {
     "data": {
      "text/plain": [
       "35"
      ]
     },
     "execution_count": 60,
     "metadata": {},
     "output_type": "execute_result"
    }
   ],
   "source": [
    "# 영화 제목 가져오기\n",
    "name = soup.select('div.tit5 > a')\n",
    "len(name)"
   ]
  },
  {
   "cell_type": "code",
   "execution_count": 62,
   "id": "bf8d3778",
   "metadata": {},
   "outputs": [],
   "source": [
    "# 순위, 영화제목, 평점수집\n",
    "ranks = []\n",
    "names = []\n",
    "ratings = []\n",
    "\n",
    "for i in range(len(name)):\n",
    "    rank = i+1\n",
    "    name = soup.select('div.tit5 > a')[i].text\n",
    "    rating = soup.select('td.point')[i].text\n",
    "    \n",
    "    ranks.append(rank)\n",
    "    names.append(name)\n",
    "    ratings.append(rating)"
   ]
  },
  {
   "cell_type": "code",
   "execution_count": 67,
   "id": "f9fa5638",
   "metadata": {},
   "outputs": [
    {
     "data": {
      "text/plain": [
       "(35, 35, 35)"
      ]
     },
     "execution_count": 67,
     "metadata": {},
     "output_type": "execute_result"
    }
   ],
   "source": [
    "len(ranks), len(names), len(ratings)"
   ]
  },
  {
   "cell_type": "code",
   "execution_count": 63,
   "id": "4749536d",
   "metadata": {},
   "outputs": [],
   "source": [
    "import pandas as pd"
   ]
  },
  {
   "cell_type": "code",
   "execution_count": 69,
   "id": "a40071de",
   "metadata": {},
   "outputs": [
    {
     "data": {
      "text/html": [
       "<div>\n",
       "<style scoped>\n",
       "    .dataframe tbody tr th:only-of-type {\n",
       "        vertical-align: middle;\n",
       "    }\n",
       "\n",
       "    .dataframe tbody tr th {\n",
       "        vertical-align: top;\n",
       "    }\n",
       "\n",
       "    .dataframe thead th {\n",
       "        text-align: right;\n",
       "    }\n",
       "</style>\n",
       "<table border=\"1\" class=\"dataframe\">\n",
       "  <thead>\n",
       "    <tr style=\"text-align: right;\">\n",
       "      <th></th>\n",
       "      <th>name</th>\n",
       "      <th>rating</th>\n",
       "    </tr>\n",
       "    <tr>\n",
       "      <th>rank</th>\n",
       "      <th></th>\n",
       "      <th></th>\n",
       "    </tr>\n",
       "  </thead>\n",
       "  <tbody>\n",
       "    <tr>\n",
       "      <th>1</th>\n",
       "      <td>탑건: 매버릭</td>\n",
       "      <td>9.77</td>\n",
       "    </tr>\n",
       "    <tr>\n",
       "      <th>2</th>\n",
       "      <td>명탐정 코난: 할로윈의 신부</td>\n",
       "      <td>9.48</td>\n",
       "    </tr>\n",
       "    <tr>\n",
       "      <th>3</th>\n",
       "      <td>범죄도시2</td>\n",
       "      <td>9.36</td>\n",
       "    </tr>\n",
       "    <tr>\n",
       "      <th>4</th>\n",
       "      <td>나, 다니엘 블레이크</td>\n",
       "      <td>9.29</td>\n",
       "    </tr>\n",
       "    <tr>\n",
       "      <th>5</th>\n",
       "      <td>극장판 주술회전 0</td>\n",
       "      <td>9.24</td>\n",
       "    </tr>\n",
       "  </tbody>\n",
       "</table>\n",
       "</div>"
      ],
      "text/plain": [
       "                 name rating\n",
       "rank                        \n",
       "1             탑건: 매버릭   9.77\n",
       "2     명탐정 코난: 할로윈의 신부   9.48\n",
       "3               범죄도시2   9.36\n",
       "4         나, 다니엘 블레이크   9.29\n",
       "5          극장판 주술회전 0   9.24"
      ]
     },
     "execution_count": 69,
     "metadata": {},
     "output_type": "execute_result"
    }
   ],
   "source": [
    "movie_info = {'rank':ranks, 'name':names, 'rating':ratings}\n",
    "movie = pd.DataFrame(movie_info)\n",
    "movie.set_index('rank', inplace=True)\n",
    "movie.head()"
   ]
  },
  {
   "cell_type": "code",
   "execution_count": 70,
   "id": "c72c818f",
   "metadata": {},
   "outputs": [],
   "source": [
    "movie.to_csv(\"movie.csv\", encoding=\"utf-8\")"
   ]
  },
  {
   "cell_type": "markdown",
   "id": "93ac0e0e",
   "metadata": {},
   "source": [
    "#### 3. 날짜별 영화 제목, 평점 수집"
   ]
  },
  {
   "cell_type": "code",
   "execution_count": 71,
   "id": "e6af6e3d",
   "metadata": {},
   "outputs": [
    {
     "name": "stdout",
     "output_type": "stream",
     "text": [
      "Requirement already satisfied: tqdm in c:\\users\\smhrd\\anaconda3\\lib\\site-packages (4.64.0)\n",
      "Requirement already satisfied: colorama in c:\\users\\smhrd\\anaconda3\\lib\\site-packages (from tqdm) (0.4.4)\n"
     ]
    }
   ],
   "source": [
    "!pip install tqdm"
   ]
  },
  {
   "cell_type": "code",
   "execution_count": 72,
   "id": "b12dcd77",
   "metadata": {},
   "outputs": [],
   "source": [
    "from tqdm.notebook import tqdm"
   ]
  },
  {
   "cell_type": "code",
   "execution_count": 73,
   "id": "66e3dd29",
   "metadata": {},
   "outputs": [],
   "source": [
    "url_main = 'https://movie.naver.com/movie/'\n",
    "url_sub = 'sdb/rank/rmovie.naver?sel=cur&date=20220817'"
   ]
  },
  {
   "cell_type": "code",
   "execution_count": 77,
   "id": "aca2ff8c",
   "metadata": {},
   "outputs": [],
   "source": [
    "date = pd.date_range('2022-05-10', periods=100, freq='d')    # 하루씩 증가는 d, 이틀씩 증가는 2d"
   ]
  },
  {
   "cell_type": "code",
   "execution_count": 79,
   "id": "2fdf74fd",
   "metadata": {},
   "outputs": [
    {
     "data": {
      "application/vnd.jupyter.widget-view+json": {
       "model_id": "936f5d01ef2947d49bd45fa9307b86cc",
       "version_major": 2,
       "version_minor": 0
      },
      "text/plain": [
       "  0%|          | 0/100 [00:00<?, ?it/s]"
      ]
     },
     "metadata": {},
     "output_type": "display_data"
    }
   ],
   "source": [
    "# 날짜, 영화제목, 평점 수집\n",
    "movie_date = []\n",
    "movie_name = []\n",
    "movie_rate = []\n",
    "\n",
    "# 생성된 날짜 만큼 반복 => 영화제목, 평점 수집\n",
    "for day in tqdm(date):\n",
    "    # 1. 영화 페이지에 접근\n",
    "    url_sub = 'sdb/rank/rmovie.naver?sel=cur&date='+day.strftime('%Y%m%d')\n",
    "    page = url_main+url_sub\n",
    "    res=req.get(page)\n",
    "    soup=bs(res.content,'lxml')\n",
    "    \n",
    "    # 2. 영화제목 길이 구하기\n",
    "    length = soup.select('div.tit5 > a')\n",
    "    \n",
    "    # 3. 영화 제목 평점 수집 -> 리스트에 저장\n",
    "\n",
    "    for i in range(len(length)):\n",
    "        name = soup.select('div.tit5 > a')[i].text\n",
    "        rate = soup.select('td.point')[i].text\n",
    "    \n",
    "        movie_date.append(day)\n",
    "        movie_name.append(name)\n",
    "        movie_rate.append(rate)"
   ]
  },
  {
   "cell_type": "code",
   "execution_count": 80,
   "id": "3666c805",
   "metadata": {},
   "outputs": [
    {
     "data": {
      "text/plain": [
       "(3642, 3642, 3642)"
      ]
     },
     "execution_count": 80,
     "metadata": {},
     "output_type": "execute_result"
    }
   ],
   "source": [
    "len(movie_date), len(movie_name), len(movie_rate)"
   ]
  },
  {
   "cell_type": "code",
   "execution_count": 84,
   "id": "9861884f",
   "metadata": {},
   "outputs": [],
   "source": [
    "import pandas as pd"
   ]
  },
  {
   "cell_type": "code",
   "execution_count": 85,
   "id": "d41be98d",
   "metadata": {},
   "outputs": [
    {
     "data": {
      "text/html": [
       "<div>\n",
       "<style scoped>\n",
       "    .dataframe tbody tr th:only-of-type {\n",
       "        vertical-align: middle;\n",
       "    }\n",
       "\n",
       "    .dataframe tbody tr th {\n",
       "        vertical-align: top;\n",
       "    }\n",
       "\n",
       "    .dataframe thead th {\n",
       "        text-align: right;\n",
       "    }\n",
       "</style>\n",
       "<table border=\"1\" class=\"dataframe\">\n",
       "  <thead>\n",
       "    <tr style=\"text-align: right;\">\n",
       "      <th></th>\n",
       "      <th>name</th>\n",
       "      <th>rating</th>\n",
       "    </tr>\n",
       "    <tr>\n",
       "      <th>rank</th>\n",
       "      <th></th>\n",
       "      <th></th>\n",
       "    </tr>\n",
       "  </thead>\n",
       "  <tbody>\n",
       "    <tr>\n",
       "      <th>1</th>\n",
       "      <td>탑건: 매버릭</td>\n",
       "      <td>9.77</td>\n",
       "    </tr>\n",
       "    <tr>\n",
       "      <th>2</th>\n",
       "      <td>명탐정 코난: 할로윈의 신부</td>\n",
       "      <td>9.48</td>\n",
       "    </tr>\n",
       "    <tr>\n",
       "      <th>3</th>\n",
       "      <td>범죄도시2</td>\n",
       "      <td>9.36</td>\n",
       "    </tr>\n",
       "    <tr>\n",
       "      <th>4</th>\n",
       "      <td>나, 다니엘 블레이크</td>\n",
       "      <td>9.29</td>\n",
       "    </tr>\n",
       "    <tr>\n",
       "      <th>5</th>\n",
       "      <td>극장판 주술회전 0</td>\n",
       "      <td>9.24</td>\n",
       "    </tr>\n",
       "  </tbody>\n",
       "</table>\n",
       "</div>"
      ],
      "text/plain": [
       "                 name rating\n",
       "rank                        \n",
       "1             탑건: 매버릭   9.77\n",
       "2     명탐정 코난: 할로윈의 신부   9.48\n",
       "3               범죄도시2   9.36\n",
       "4         나, 다니엘 블레이크   9.29\n",
       "5          극장판 주술회전 0   9.24"
      ]
     },
     "execution_count": 85,
     "metadata": {},
     "output_type": "execute_result"
    }
   ],
   "source": [
    "movie_info_100 = {'day':movie_date, 'name':movie_name, 'rating':movie_rate}\n",
    "movie_100 = pd.DataFrame(movie_info_100)\n",
    "movie.head()"
   ]
  },
  {
   "cell_type": "code",
   "execution_count": 86,
   "id": "72705716",
   "metadata": {},
   "outputs": [],
   "source": [
    "movie_100.to_csv(\"movie_220510_220817.csv\", encoding=\"utf-8\")"
   ]
  },
  {
   "attachments": {
    "image-2.png": {
     "image/png": "[encoded data removed]"
    }
   },
   "cell_type": "markdown",
   "id": "95a0c638",
   "metadata": {},
   "source": [
    "#### 4. 네이버 영화리뷰 수집(iframe)\n",
    "![image-2.png](attachment:image-2.png)"
   ]
  },
  {
   "cell_type": "code",
   "execution_count": 114,
   "id": "7706069c",
   "metadata": {},
   "outputs": [],
   "source": [
    "# 상영 예정작 헌트 리뷰 수집\n",
    "url_main = 'https://movie.naver.com/'\n",
    "url_sub = '/movie/bi/mi/point.naver?code=195758'\n",
    "page = url_main + url_sub\n",
    "res = req.get(page)\n",
    "soup = bs(res.content, 'lxml')"
   ]
  },
  {
   "cell_type": "code",
   "execution_count": 115,
   "id": "71524728",
   "metadata": {},
   "outputs": [
    {
     "name": "stdout",
     "output_type": "stream",
     "text": [
      "/movie/bi/mi/pointWriteFormList.naver?code=195758&type=after&isActualPointWriteExecute=false&isMileageSubscriptionAlready=false&isMileageSubscriptionReject=false\n"
     ]
    }
   ],
   "source": [
    "frameSrc = soup.find('iframe', id='pointAfterListIframe')\n",
    "print(frameSrc['src'])"
   ]
  },
  {
   "cell_type": "code",
   "execution_count": 116,
   "id": "ff631445",
   "metadata": {},
   "outputs": [
    {
     "name": "stdout",
     "output_type": "stream",
     "text": [
      "https://movie.naver.com//movie/bi/mi/pointWriteFormList.naver?code=195758&type=after&isActualPointWriteExecute=false&isMileageSubscriptionAlready=false&isMileageSubscriptionReject=false\n"
     ]
    }
   ],
   "source": [
    "# 원하는 url 확인\n",
    "print(url_main+frameSrc['src'])"
   ]
  },
  {
   "cell_type": "code",
   "execution_count": 117,
   "id": "8503fc4f",
   "metadata": {},
   "outputs": [],
   "source": [
    "repalPage=url_main+frameSrc['src']\n",
    "res = req.get(repalPage)\n",
    "soup = bs(res.content, 'lxml')"
   ]
  },
  {
   "cell_type": "code",
   "execution_count": 118,
   "id": "8dcf943e",
   "metadata": {},
   "outputs": [
    {
     "data": {
      "text/plain": [
       "10"
      ]
     },
     "execution_count": 118,
     "metadata": {},
     "output_type": "execute_result"
    }
   ],
   "source": [
    "length = soup.select('div.score_reple > p')\n",
    "len(length)"
   ]
  },
  {
   "cell_type": "code",
   "execution_count": 119,
   "id": "6868df79",
   "metadata": {
    "scrolled": true
   },
   "outputs": [
    {
     "name": "stdout",
     "output_type": "stream",
     "text": [
      "내용관람객\r",
      "\t\t\t\t\t\t\t\t\t\t\t\t\t\t\r",
      "\t\t\t\t\t\t\t\t\t\t\t\t\t\t\t\r",
      "\t\t\t\t\t\t\t\t\t\t\t\t\t\t\t\r",
      "\t\t\t\t\t\t\t\t\t\t\t\t\t\t\t\t비상선언보다 더 재밌게 봄\n",
      "공감1912\n",
      "비공감497\n",
      "----------------------------------------------------------------------------------------------------\n",
      "내용관람객\r",
      "\t\t\t\t\t\t\t\t\t\t\t\t\t\t\r",
      "\t\t\t\t\t\t\t\t\t\t\t\t\t\t\t\r",
      "\t\t\t\t\t\t\t\t\t\t\t\t\t\t\t\r",
      "\t\t\t\t\t\t\t\t\t\t\t\t\t\t\t\t배우 이정재의 데뷔 이래 감독으로써 대성공적인 데뷔! 스피디있는 액션과 긴장감까지 다 잡은 영화!\n",
      "공감1292\n",
      "비공감226\n",
      "----------------------------------------------------------------------------------------------------\n",
      "내용관람객\r",
      "\t\t\t\t\t\t\t\t\t\t\t\t\t\t\r",
      "\t\t\t\t\t\t\t\t\t\t\t\t\t\t\t\r",
      "\t\t\t\t\t\t\t\t\t\t\t\t\t\t\t\r",
      "\t\t\t\t\t\t\t\t\t\t\t\t\t\t\t\t여름 개봉작 중 헌트가 최고다정우성의 연기는 역대급\n",
      "공감1137\n",
      "비공감249\n",
      "----------------------------------------------------------------------------------------------------\n",
      "내용관람객\r",
      "\t\t\t\t\t\t\t\t\t\t\t\t\t\t\r",
      "\t\t\t\t\t\t\t\t\t\t\t\t\t\t\t\r",
      "\t\t\t\t\t\t\t\t\t\t\t\t\t\t\t\r",
      "\t\t\t\t\t\t\t\t\t\t\t\t\t\t\t\t이 영화의 최대 반전은 이정재의 입봉작이라는거\n",
      "공감1135\n",
      "비공감353\n",
      "----------------------------------------------------------------------------------------------------\n",
      "내용관람객\r",
      "\t\t\t\t\t\t\t\t\t\t\t\t\t\t\r",
      "\t\t\t\t\t\t\t\t\t\t\t\t\t\t\t\r",
      "\t\t\t\t\t\t\t\t\t\t\t\t\t\t\t\r",
      "\t\t\t\t\t\t\t\t\t\t\t\t\t\t\t\t지루할 틈이 없어요 간만에 볼만했어요\n",
      "공감922\n",
      "비공감176\n",
      "----------------------------------------------------------------------------------------------------\n",
      "내용관람객\r",
      "\t\t\t\t\t\t\t\t\t\t\t\t\t\t\r",
      "\t\t\t\t\t\t\t\t\t\t\t\t\t\t\t\r",
      "\t\t\t\t\t\t\t\t\t\t\t\t\t\t\t\r",
      "\t\t\t\t\t\t\t\t\t\t\t\t\t\t\t\t짱… 진짜 너무 재밌게 봤어요. 배우들 라인업은 물론 연기, 연출, 스토리까지 전부 다 너무 좋았음. p.s. 서스펜더 정우성 사랑해요…\n",
      "공감841\n",
      "비공감180\n",
      "----------------------------------------------------------------------------------------------------\n",
      "내용관람객\r",
      "\t\t\t\t\t\t\t\t\t\t\t\t\t\t\r",
      "\t\t\t\t\t\t\t\t\t\t\t\t\t\t\t\r",
      "\t\t\t\t\t\t\t\t\t\t\t\t\t\t\t\r",
      "\t\t\t\t\t\t\t\t\t\t\t\t\t\t\t\t비싸진 영화 티켓값이 전혀 아깝지 않았던 영화. 육박감과 속도감만으로도 충분히 그 값 이상을 하고 사운드 빵빵한 관에서 재관람 하고 싶음.\n",
      "공감750\n",
      "비공감156\n",
      "----------------------------------------------------------------------------------------------------\n",
      "내용관람객\r",
      "\t\t\t\t\t\t\t\t\t\t\t\t\t\t\r",
      "\t\t\t\t\t\t\t\t\t\t\t\t\t\t\t\r",
      "\t\t\t\t\t\t\t\t\t\t\t\t\t\t\t\r",
      "\t\t\t\t\t\t\t\t\t\t\t\t\t\t\t\t잘 만들었지만 도무지 대사가 안 들림\n",
      "공감658\n",
      "비공감75\n",
      "----------------------------------------------------------------------------------------------------\n",
      "내용관람객\r",
      "\t\t\t\t\t\t\t\t\t\t\t\t\t\t\r",
      "\t\t\t\t\t\t\t\t\t\t\t\t\t\t\t\r",
      "\t\t\t\t\t\t\t\t\t\t\t\t\t\t\t\r",
      "\t\t\t\t\t\t\t\t\t\t\t\t\t\t\t\t오랜만에 재밌는 영화 첫 작품이라는게 안믿기는 완성도\n",
      "공감682\n",
      "비공감144\n",
      "----------------------------------------------------------------------------------------------------\n",
      "내용관람객\r",
      "\t\t\t\t\t\t\t\t\t\t\t\t\t\t\r",
      "\t\t\t\t\t\t\t\t\t\t\t\t\t\t\t\r",
      "\t\t\t\t\t\t\t\t\t\t\t\t\t\t\t\r",
      "\t\t\t\t\t\t\t\t\t\t\t\t\t\t\t\t이정재 감독의 차기작이 기대되는 작품. 간만에 처음부터 끝까지 긴장감 엄청났다\n",
      "공감649\n",
      "비공감141\n",
      "----------------------------------------------------------------------------------------------------\n"
     ]
    }
   ],
   "source": [
    "length = soup.select('div.score_reple > p')\n",
    "for i in range(len(length)):\n",
    "    content = soup.select('div.score_reple > p')[i].text.strip().replace(\"\\n\",\"\")\n",
    "    sym = soup.select('a._sympathyButton > strong')[i].text\n",
    "    not_sym = soup.select('a._notSympathyButton > strong')[i].text\n",
    "    \n",
    "    print(\"내용\" + content)\n",
    "    print(\"공감\" + sym)\n",
    "    print(\"비공감\" + not_sym)\n",
    "    print(\"-\" * 100)"
   ]
  },
  {
   "cell_type": "markdown",
   "id": "b9f17a2b",
   "metadata": {},
   "source": [
    "##### 5. 페이지 이동하면서 저장하기\n",
    "- https://movie.naver.com/movie/bi/mi/pointWriteFormList.naver?code=195758&type=after&isActualPointWriteExecute=false&isMileageSubscriptionAlready=false&isMileageSubscriptionReject=false"
   ]
  },
  {
   "cell_type": "code",
   "execution_count": 122,
   "id": "2bc21e57",
   "metadata": {},
   "outputs": [
    {
     "name": "stdout",
     "output_type": "stream",
     "text": [
      "\t\t\t\t\t\t\t\t\t\t\t\t\t\t\t\t비상선언보다 더 재밌게 봄\n",
      "공감:1912\n",
      "비공감:497\n",
      "--------------------------------------------------------------------------------\n",
      "\t\t\t\t\t\t\t\t\t\t\t\t\t\t\t\t배우 이정재의 데뷔 이래 감독으로써 대성공적인 데뷔! 스피디있는 액션과 긴장감까지 다 잡은 영화!\n",
      "공감:1292\n",
      "비공감:226\n",
      "--------------------------------------------------------------------------------\n",
      "\t\t\t\t\t\t\t\t\t\t\t\t\t\t\t\t여름 개봉작 중 헌트가 최고다정우성의 연기는 역대급\n",
      "공감:1137\n",
      "비공감:249\n",
      "--------------------------------------------------------------------------------\n",
      "\t\t\t\t\t\t\t\t\t\t\t\t\t\t\t\t이 영화의 최대 반전은 이정재의 입봉작이라는거\n",
      "공감:1135\n",
      "비공감:353\n",
      "--------------------------------------------------------------------------------\n",
      "\t\t\t\t\t\t\t\t\t\t\t\t\t\t\t\t지루할 틈이 없어요 간만에 볼만했어요\n",
      "공감:922\n",
      "비공감:176\n",
      "--------------------------------------------------------------------------------\n",
      "\t\t\t\t\t\t\t\t\t\t\t\t\t\t\t\t짱… 진짜 너무 재밌게 봤어요. 배우들 라인업은 물론 연기, 연출, 스토리까지 전부 다 너무 좋았음. p.s. 서스펜더 정우성 사랑해요…\n",
      "공감:841\n",
      "비공감:180\n",
      "--------------------------------------------------------------------------------\n",
      "\t\t\t\t\t\t\t\t\t\t\t\t\t\t\t\t비싸진 영화 티켓값이 전혀 아깝지 않았던 영화. 육박감과 속도감만으로도 충분히 그 값 이상을 하고 사운드 빵빵한 관에서 재관람 하고 싶음.\n",
      "공감:750\n",
      "비공감:156\n",
      "--------------------------------------------------------------------------------\n",
      "\t\t\t\t\t\t\t\t\t\t\t\t\t\t\t\t잘 만들었지만 도무지 대사가 안 들림\n",
      "공감:658\n",
      "비공감:75\n",
      "--------------------------------------------------------------------------------\n",
      "\t\t\t\t\t\t\t\t\t\t\t\t\t\t\t\t오랜만에 재밌는 영화 첫 작품이라는게 안믿기는 완성도\n",
      "공감:682\n",
      "비공감:144\n",
      "--------------------------------------------------------------------------------\n",
      "\t\t\t\t\t\t\t\t\t\t\t\t\t\t\t\t이정재 감독의 차기작이 기대되는 작품. 간만에 처음부터 끝까지 긴장감 엄청났다\n",
      "공감:649\n",
      "비공감:141\n",
      "--------------------------------------------------------------------------------\n",
      "\t\t\t\t\t\t\t\t\t\t\t\t\t\t\t\t비상선언보다 더 재밌게 봄\n",
      "공감:1912\n",
      "비공감:497\n",
      "--------------------------------------------------------------------------------\n",
      "\t\t\t\t\t\t\t\t\t\t\t\t\t\t\t\t배우 이정재의 데뷔 이래 감독으로써 대성공적인 데뷔! 스피디있는 액션과 긴장감까지 다 잡은 영화!\n",
      "공감:1292\n",
      "비공감:226\n",
      "--------------------------------------------------------------------------------\n",
      "\t\t\t\t\t\t\t\t\t\t\t\t\t\t\t\t여름 개봉작 중 헌트가 최고다정우성의 연기는 역대급\n",
      "공감:1137\n",
      "비공감:249\n",
      "--------------------------------------------------------------------------------\n",
      "\t\t\t\t\t\t\t\t\t\t\t\t\t\t\t\t이 영화의 최대 반전은 이정재의 입봉작이라는거\n",
      "공감:1135\n",
      "비공감:353\n",
      "--------------------------------------------------------------------------------\n",
      "\t\t\t\t\t\t\t\t\t\t\t\t\t\t\t\t지루할 틈이 없어요 간만에 볼만했어요\n",
      "공감:922\n",
      "비공감:176\n",
      "--------------------------------------------------------------------------------\n",
      "\t\t\t\t\t\t\t\t\t\t\t\t\t\t\t\t짱… 진짜 너무 재밌게 봤어요. 배우들 라인업은 물론 연기, 연출, 스토리까지 전부 다 너무 좋았음. p.s. 서스펜더 정우성 사랑해요…\n",
      "공감:841\n",
      "비공감:180\n",
      "--------------------------------------------------------------------------------\n",
      "\t\t\t\t\t\t\t\t\t\t\t\t\t\t\t\t비싸진 영화 티켓값이 전혀 아깝지 않았던 영화. 육박감과 속도감만으로도 충분히 그 값 이상을 하고 사운드 빵빵한 관에서 재관람 하고 싶음.\n",
      "공감:750\n",
      "비공감:156\n",
      "--------------------------------------------------------------------------------\n",
      "\t\t\t\t\t\t\t\t\t\t\t\t\t\t\t\t잘 만들었지만 도무지 대사가 안 들림\n",
      "공감:658\n",
      "비공감:75\n",
      "--------------------------------------------------------------------------------\n",
      "\t\t\t\t\t\t\t\t\t\t\t\t\t\t\t\t오랜만에 재밌는 영화 첫 작품이라는게 안믿기는 완성도\n",
      "공감:682\n",
      "비공감:144\n",
      "--------------------------------------------------------------------------------\n",
      "\t\t\t\t\t\t\t\t\t\t\t\t\t\t\t\t이정재 감독의 차기작이 기대되는 작품. 간만에 처음부터 끝까지 긴장감 엄청났다\n",
      "공감:649\n",
      "비공감:141\n",
      "--------------------------------------------------------------------------------\n",
      "\t\t\t\t\t\t\t\t\t\t\t\t\t\t\t\t비상선언보다 더 재밌게 봄\n",
      "공감:1912\n",
      "비공감:497\n",
      "--------------------------------------------------------------------------------\n",
      "\t\t\t\t\t\t\t\t\t\t\t\t\t\t\t\t배우 이정재의 데뷔 이래 감독으로써 대성공적인 데뷔! 스피디있는 액션과 긴장감까지 다 잡은 영화!\n",
      "공감:1292\n",
      "비공감:226\n",
      "--------------------------------------------------------------------------------\n",
      "\t\t\t\t\t\t\t\t\t\t\t\t\t\t\t\t여름 개봉작 중 헌트가 최고다정우성의 연기는 역대급\n",
      "공감:1137\n",
      "비공감:249\n",
      "--------------------------------------------------------------------------------\n",
      "\t\t\t\t\t\t\t\t\t\t\t\t\t\t\t\t이 영화의 최대 반전은 이정재의 입봉작이라는거\n",
      "공감:1135\n",
      "비공감:353\n",
      "--------------------------------------------------------------------------------\n",
      "\t\t\t\t\t\t\t\t\t\t\t\t\t\t\t\t지루할 틈이 없어요 간만에 볼만했어요\n",
      "공감:922\n",
      "비공감:176\n",
      "--------------------------------------------------------------------------------\n",
      "\t\t\t\t\t\t\t\t\t\t\t\t\t\t\t\t짱… 진짜 너무 재밌게 봤어요. 배우들 라인업은 물론 연기, 연출, 스토리까지 전부 다 너무 좋았음. p.s. 서스펜더 정우성 사랑해요…\n",
      "공감:841\n",
      "비공감:180\n",
      "--------------------------------------------------------------------------------\n",
      "\t\t\t\t\t\t\t\t\t\t\t\t\t\t\t\t비싸진 영화 티켓값이 전혀 아깝지 않았던 영화. 육박감과 속도감만으로도 충분히 그 값 이상을 하고 사운드 빵빵한 관에서 재관람 하고 싶음.\n",
      "공감:750\n",
      "비공감:156\n",
      "--------------------------------------------------------------------------------\n",
      "\t\t\t\t\t\t\t\t\t\t\t\t\t\t\t\t잘 만들었지만 도무지 대사가 안 들림\n",
      "공감:658\n",
      "비공감:75\n",
      "--------------------------------------------------------------------------------\n",
      "\t\t\t\t\t\t\t\t\t\t\t\t\t\t\t\t오랜만에 재밌는 영화 첫 작품이라는게 안믿기는 완성도\n",
      "공감:682\n",
      "비공감:144\n",
      "--------------------------------------------------------------------------------\n",
      "\t\t\t\t\t\t\t\t\t\t\t\t\t\t\t\t이정재 감독의 차기작이 기대되는 작품. 간만에 처음부터 끝까지 긴장감 엄청났다\n",
      "공감:649\n",
      "비공감:141\n",
      "--------------------------------------------------------------------------------\n",
      "\t\t\t\t\t\t\t\t\t\t\t\t\t\t\t\t비상선언보다 더 재밌게 봄\n",
      "공감:1912\n",
      "비공감:497\n",
      "--------------------------------------------------------------------------------\n",
      "\t\t\t\t\t\t\t\t\t\t\t\t\t\t\t\t배우 이정재의 데뷔 이래 감독으로써 대성공적인 데뷔! 스피디있는 액션과 긴장감까지 다 잡은 영화!\n",
      "공감:1292\n",
      "비공감:226\n",
      "--------------------------------------------------------------------------------\n",
      "\t\t\t\t\t\t\t\t\t\t\t\t\t\t\t\t여름 개봉작 중 헌트가 최고다정우성의 연기는 역대급\n",
      "공감:1137\n",
      "비공감:249\n",
      "--------------------------------------------------------------------------------\n",
      "\t\t\t\t\t\t\t\t\t\t\t\t\t\t\t\t이 영화의 최대 반전은 이정재의 입봉작이라는거\n",
      "공감:1135\n",
      "비공감:353\n",
      "--------------------------------------------------------------------------------\n",
      "\t\t\t\t\t\t\t\t\t\t\t\t\t\t\t\t지루할 틈이 없어요 간만에 볼만했어요\n",
      "공감:922\n",
      "비공감:176\n",
      "--------------------------------------------------------------------------------\n",
      "\t\t\t\t\t\t\t\t\t\t\t\t\t\t\t\t짱… 진짜 너무 재밌게 봤어요. 배우들 라인업은 물론 연기, 연출, 스토리까지 전부 다 너무 좋았음. p.s. 서스펜더 정우성 사랑해요…\n",
      "공감:841\n",
      "비공감:180\n",
      "--------------------------------------------------------------------------------\n",
      "\t\t\t\t\t\t\t\t\t\t\t\t\t\t\t\t비싸진 영화 티켓값이 전혀 아깝지 않았던 영화. 육박감과 속도감만으로도 충분히 그 값 이상을 하고 사운드 빵빵한 관에서 재관람 하고 싶음.\n",
      "공감:750\n",
      "비공감:156\n",
      "--------------------------------------------------------------------------------\n",
      "\t\t\t\t\t\t\t\t\t\t\t\t\t\t\t\t잘 만들었지만 도무지 대사가 안 들림\n",
      "공감:658\n",
      "비공감:75\n",
      "--------------------------------------------------------------------------------\n",
      "\t\t\t\t\t\t\t\t\t\t\t\t\t\t\t\t오랜만에 재밌는 영화 첫 작품이라는게 안믿기는 완성도\n",
      "공감:682\n",
      "비공감:144\n",
      "--------------------------------------------------------------------------------\n",
      "\t\t\t\t\t\t\t\t\t\t\t\t\t\t\t\t이정재 감독의 차기작이 기대되는 작품. 간만에 처음부터 끝까지 긴장감 엄청났다\n",
      "공감:649\n",
      "비공감:141\n",
      "--------------------------------------------------------------------------------\n",
      "\t\t\t\t\t\t\t\t\t\t\t\t\t\t\t\t비상선언보다 더 재밌게 봄\n",
      "공감:1912\n",
      "비공감:497\n",
      "--------------------------------------------------------------------------------\n",
      "\t\t\t\t\t\t\t\t\t\t\t\t\t\t\t\t배우 이정재의 데뷔 이래 감독으로써 대성공적인 데뷔! 스피디있는 액션과 긴장감까지 다 잡은 영화!\n",
      "공감:1292\n",
      "비공감:226\n",
      "--------------------------------------------------------------------------------\n",
      "\t\t\t\t\t\t\t\t\t\t\t\t\t\t\t\t여름 개봉작 중 헌트가 최고다정우성의 연기는 역대급\n",
      "공감:1137\n",
      "비공감:249\n",
      "--------------------------------------------------------------------------------\n",
      "\t\t\t\t\t\t\t\t\t\t\t\t\t\t\t\t이 영화의 최대 반전은 이정재의 입봉작이라는거\n",
      "공감:1135\n",
      "비공감:353\n",
      "--------------------------------------------------------------------------------\n",
      "\t\t\t\t\t\t\t\t\t\t\t\t\t\t\t\t지루할 틈이 없어요 간만에 볼만했어요\n",
      "공감:922\n",
      "비공감:176\n",
      "--------------------------------------------------------------------------------\n",
      "\t\t\t\t\t\t\t\t\t\t\t\t\t\t\t\t짱… 진짜 너무 재밌게 봤어요. 배우들 라인업은 물론 연기, 연출, 스토리까지 전부 다 너무 좋았음. p.s. 서스펜더 정우성 사랑해요…\n",
      "공감:841\n",
      "비공감:180\n",
      "--------------------------------------------------------------------------------\n",
      "\t\t\t\t\t\t\t\t\t\t\t\t\t\t\t\t비싸진 영화 티켓값이 전혀 아깝지 않았던 영화. 육박감과 속도감만으로도 충분히 그 값 이상을 하고 사운드 빵빵한 관에서 재관람 하고 싶음.\n",
      "공감:750\n",
      "비공감:156\n",
      "--------------------------------------------------------------------------------\n",
      "\t\t\t\t\t\t\t\t\t\t\t\t\t\t\t\t잘 만들었지만 도무지 대사가 안 들림\n",
      "공감:658\n",
      "비공감:75\n",
      "--------------------------------------------------------------------------------\n",
      "\t\t\t\t\t\t\t\t\t\t\t\t\t\t\t\t오랜만에 재밌는 영화 첫 작품이라는게 안믿기는 완성도\n",
      "공감:682\n",
      "비공감:144\n",
      "--------------------------------------------------------------------------------\n",
      "\t\t\t\t\t\t\t\t\t\t\t\t\t\t\t\t이정재 감독의 차기작이 기대되는 작품. 간만에 처음부터 끝까지 긴장감 엄청났다\n",
      "공감:649\n",
      "비공감:141\n",
      "--------------------------------------------------------------------------------\n",
      "\t\t\t\t\t\t\t\t\t\t\t\t\t\t\t\t비상선언보다 더 재밌게 봄\n",
      "공감:1912\n",
      "비공감:497\n",
      "--------------------------------------------------------------------------------\n",
      "\t\t\t\t\t\t\t\t\t\t\t\t\t\t\t\t배우 이정재의 데뷔 이래 감독으로써 대성공적인 데뷔! 스피디있는 액션과 긴장감까지 다 잡은 영화!\n",
      "공감:1292\n",
      "비공감:226\n",
      "--------------------------------------------------------------------------------\n",
      "\t\t\t\t\t\t\t\t\t\t\t\t\t\t\t\t여름 개봉작 중 헌트가 최고다정우성의 연기는 역대급\n",
      "공감:1137\n",
      "비공감:249\n",
      "--------------------------------------------------------------------------------\n",
      "\t\t\t\t\t\t\t\t\t\t\t\t\t\t\t\t이 영화의 최대 반전은 이정재의 입봉작이라는거\n",
      "공감:1135\n",
      "비공감:353\n",
      "--------------------------------------------------------------------------------\n",
      "\t\t\t\t\t\t\t\t\t\t\t\t\t\t\t\t지루할 틈이 없어요 간만에 볼만했어요\n",
      "공감:922\n",
      "비공감:176\n",
      "--------------------------------------------------------------------------------\n",
      "\t\t\t\t\t\t\t\t\t\t\t\t\t\t\t\t짱… 진짜 너무 재밌게 봤어요. 배우들 라인업은 물론 연기, 연출, 스토리까지 전부 다 너무 좋았음. p.s. 서스펜더 정우성 사랑해요…\n",
      "공감:841\n",
      "비공감:180\n",
      "--------------------------------------------------------------------------------\n",
      "\t\t\t\t\t\t\t\t\t\t\t\t\t\t\t\t비싸진 영화 티켓값이 전혀 아깝지 않았던 영화. 육박감과 속도감만으로도 충분히 그 값 이상을 하고 사운드 빵빵한 관에서 재관람 하고 싶음.\n",
      "공감:750\n",
      "비공감:156\n",
      "--------------------------------------------------------------------------------\n",
      "\t\t\t\t\t\t\t\t\t\t\t\t\t\t\t\t잘 만들었지만 도무지 대사가 안 들림\n",
      "공감:658\n",
      "비공감:75\n",
      "--------------------------------------------------------------------------------\n",
      "\t\t\t\t\t\t\t\t\t\t\t\t\t\t\t\t오랜만에 재밌는 영화 첫 작품이라는게 안믿기는 완성도\n",
      "공감:682\n",
      "비공감:144\n",
      "--------------------------------------------------------------------------------\n",
      "\t\t\t\t\t\t\t\t\t\t\t\t\t\t\t\t이정재 감독의 차기작이 기대되는 작품. 간만에 처음부터 끝까지 긴장감 엄청났다\n",
      "공감:649\n",
      "비공감:141\n",
      "--------------------------------------------------------------------------------\n",
      "\t\t\t\t\t\t\t\t\t\t\t\t\t\t\t\t비상선언보다 더 재밌게 봄\n",
      "공감:1912\n",
      "비공감:497\n",
      "--------------------------------------------------------------------------------\n",
      "\t\t\t\t\t\t\t\t\t\t\t\t\t\t\t\t배우 이정재의 데뷔 이래 감독으로써 대성공적인 데뷔! 스피디있는 액션과 긴장감까지 다 잡은 영화!\n",
      "공감:1292\n",
      "비공감:226\n",
      "--------------------------------------------------------------------------------\n",
      "\t\t\t\t\t\t\t\t\t\t\t\t\t\t\t\t여름 개봉작 중 헌트가 최고다정우성의 연기는 역대급\n",
      "공감:1137\n",
      "비공감:249\n",
      "--------------------------------------------------------------------------------\n",
      "\t\t\t\t\t\t\t\t\t\t\t\t\t\t\t\t이 영화의 최대 반전은 이정재의 입봉작이라는거\n",
      "공감:1135\n",
      "비공감:353\n",
      "--------------------------------------------------------------------------------\n",
      "\t\t\t\t\t\t\t\t\t\t\t\t\t\t\t\t지루할 틈이 없어요 간만에 볼만했어요\n",
      "공감:922\n",
      "비공감:176\n",
      "--------------------------------------------------------------------------------\n",
      "\t\t\t\t\t\t\t\t\t\t\t\t\t\t\t\t짱… 진짜 너무 재밌게 봤어요. 배우들 라인업은 물론 연기, 연출, 스토리까지 전부 다 너무 좋았음. p.s. 서스펜더 정우성 사랑해요…\n",
      "공감:841\n",
      "비공감:180\n",
      "--------------------------------------------------------------------------------\n",
      "\t\t\t\t\t\t\t\t\t\t\t\t\t\t\t\t비싸진 영화 티켓값이 전혀 아깝지 않았던 영화. 육박감과 속도감만으로도 충분히 그 값 이상을 하고 사운드 빵빵한 관에서 재관람 하고 싶음.\n",
      "공감:750\n",
      "비공감:156\n",
      "--------------------------------------------------------------------------------\n",
      "\t\t\t\t\t\t\t\t\t\t\t\t\t\t\t\t잘 만들었지만 도무지 대사가 안 들림\n",
      "공감:658\n",
      "비공감:75\n",
      "--------------------------------------------------------------------------------\n",
      "\t\t\t\t\t\t\t\t\t\t\t\t\t\t\t\t오랜만에 재밌는 영화 첫 작품이라는게 안믿기는 완성도\n",
      "공감:682\n",
      "비공감:144\n",
      "--------------------------------------------------------------------------------\n",
      "\t\t\t\t\t\t\t\t\t\t\t\t\t\t\t\t이정재 감독의 차기작이 기대되는 작품. 간만에 처음부터 끝까지 긴장감 엄청났다\n",
      "공감:649\n",
      "비공감:141\n",
      "--------------------------------------------------------------------------------\n",
      "\t\t\t\t\t\t\t\t\t\t\t\t\t\t\t\t비상선언보다 더 재밌게 봄\n",
      "공감:1912\n",
      "비공감:497\n",
      "--------------------------------------------------------------------------------\n",
      "\t\t\t\t\t\t\t\t\t\t\t\t\t\t\t\t배우 이정재의 데뷔 이래 감독으로써 대성공적인 데뷔! 스피디있는 액션과 긴장감까지 다 잡은 영화!\n",
      "공감:1292\n",
      "비공감:226\n",
      "--------------------------------------------------------------------------------\n"
     ]
    },
    {
     "name": "stdout",
     "output_type": "stream",
     "text": [
      "\t\t\t\t\t\t\t\t\t\t\t\t\t\t\t\t여름 개봉작 중 헌트가 최고다정우성의 연기는 역대급\n",
      "공감:1137\n",
      "비공감:249\n",
      "--------------------------------------------------------------------------------\n",
      "\t\t\t\t\t\t\t\t\t\t\t\t\t\t\t\t이 영화의 최대 반전은 이정재의 입봉작이라는거\n",
      "공감:1135\n",
      "비공감:353\n",
      "--------------------------------------------------------------------------------\n",
      "\t\t\t\t\t\t\t\t\t\t\t\t\t\t\t\t지루할 틈이 없어요 간만에 볼만했어요\n",
      "공감:922\n",
      "비공감:176\n",
      "--------------------------------------------------------------------------------\n",
      "\t\t\t\t\t\t\t\t\t\t\t\t\t\t\t\t짱… 진짜 너무 재밌게 봤어요. 배우들 라인업은 물론 연기, 연출, 스토리까지 전부 다 너무 좋았음. p.s. 서스펜더 정우성 사랑해요…\n",
      "공감:841\n",
      "비공감:180\n",
      "--------------------------------------------------------------------------------\n",
      "\t\t\t\t\t\t\t\t\t\t\t\t\t\t\t\t비싸진 영화 티켓값이 전혀 아깝지 않았던 영화. 육박감과 속도감만으로도 충분히 그 값 이상을 하고 사운드 빵빵한 관에서 재관람 하고 싶음.\n",
      "공감:750\n",
      "비공감:156\n",
      "--------------------------------------------------------------------------------\n",
      "\t\t\t\t\t\t\t\t\t\t\t\t\t\t\t\t잘 만들었지만 도무지 대사가 안 들림\n",
      "공감:658\n",
      "비공감:75\n",
      "--------------------------------------------------------------------------------\n",
      "\t\t\t\t\t\t\t\t\t\t\t\t\t\t\t\t오랜만에 재밌는 영화 첫 작품이라는게 안믿기는 완성도\n",
      "공감:682\n",
      "비공감:144\n",
      "--------------------------------------------------------------------------------\n",
      "\t\t\t\t\t\t\t\t\t\t\t\t\t\t\t\t이정재 감독의 차기작이 기대되는 작품. 간만에 처음부터 끝까지 긴장감 엄청났다\n",
      "공감:649\n",
      "비공감:141\n",
      "--------------------------------------------------------------------------------\n",
      "\t\t\t\t\t\t\t\t\t\t\t\t\t\t\t\t비상선언보다 더 재밌게 봄\n",
      "공감:1912\n",
      "비공감:497\n",
      "--------------------------------------------------------------------------------\n",
      "\t\t\t\t\t\t\t\t\t\t\t\t\t\t\t\t배우 이정재의 데뷔 이래 감독으로써 대성공적인 데뷔! 스피디있는 액션과 긴장감까지 다 잡은 영화!\n",
      "공감:1292\n",
      "비공감:226\n",
      "--------------------------------------------------------------------------------\n",
      "\t\t\t\t\t\t\t\t\t\t\t\t\t\t\t\t여름 개봉작 중 헌트가 최고다정우성의 연기는 역대급\n",
      "공감:1137\n",
      "비공감:249\n",
      "--------------------------------------------------------------------------------\n",
      "\t\t\t\t\t\t\t\t\t\t\t\t\t\t\t\t이 영화의 최대 반전은 이정재의 입봉작이라는거\n",
      "공감:1135\n",
      "비공감:353\n",
      "--------------------------------------------------------------------------------\n",
      "\t\t\t\t\t\t\t\t\t\t\t\t\t\t\t\t지루할 틈이 없어요 간만에 볼만했어요\n",
      "공감:922\n",
      "비공감:176\n",
      "--------------------------------------------------------------------------------\n",
      "\t\t\t\t\t\t\t\t\t\t\t\t\t\t\t\t짱… 진짜 너무 재밌게 봤어요. 배우들 라인업은 물론 연기, 연출, 스토리까지 전부 다 너무 좋았음. p.s. 서스펜더 정우성 사랑해요…\n",
      "공감:841\n",
      "비공감:180\n",
      "--------------------------------------------------------------------------------\n",
      "\t\t\t\t\t\t\t\t\t\t\t\t\t\t\t\t비싸진 영화 티켓값이 전혀 아깝지 않았던 영화. 육박감과 속도감만으로도 충분히 그 값 이상을 하고 사운드 빵빵한 관에서 재관람 하고 싶음.\n",
      "공감:750\n",
      "비공감:156\n",
      "--------------------------------------------------------------------------------\n",
      "\t\t\t\t\t\t\t\t\t\t\t\t\t\t\t\t잘 만들었지만 도무지 대사가 안 들림\n",
      "공감:658\n",
      "비공감:75\n",
      "--------------------------------------------------------------------------------\n",
      "\t\t\t\t\t\t\t\t\t\t\t\t\t\t\t\t오랜만에 재밌는 영화 첫 작품이라는게 안믿기는 완성도\n",
      "공감:682\n",
      "비공감:144\n",
      "--------------------------------------------------------------------------------\n",
      "\t\t\t\t\t\t\t\t\t\t\t\t\t\t\t\t이정재 감독의 차기작이 기대되는 작품. 간만에 처음부터 끝까지 긴장감 엄청났다\n",
      "공감:649\n",
      "비공감:141\n",
      "--------------------------------------------------------------------------------\n",
      "\t\t\t\t\t\t\t\t\t\t\t\t\t\t\t\t비상선언보다 더 재밌게 봄\n",
      "공감:1912\n",
      "비공감:497\n",
      "--------------------------------------------------------------------------------\n",
      "\t\t\t\t\t\t\t\t\t\t\t\t\t\t\t\t배우 이정재의 데뷔 이래 감독으로써 대성공적인 데뷔! 스피디있는 액션과 긴장감까지 다 잡은 영화!\n",
      "공감:1292\n",
      "비공감:226\n",
      "--------------------------------------------------------------------------------\n",
      "\t\t\t\t\t\t\t\t\t\t\t\t\t\t\t\t여름 개봉작 중 헌트가 최고다정우성의 연기는 역대급\n",
      "공감:1137\n",
      "비공감:249\n",
      "--------------------------------------------------------------------------------\n",
      "\t\t\t\t\t\t\t\t\t\t\t\t\t\t\t\t이 영화의 최대 반전은 이정재의 입봉작이라는거\n",
      "공감:1135\n",
      "비공감:353\n",
      "--------------------------------------------------------------------------------\n",
      "\t\t\t\t\t\t\t\t\t\t\t\t\t\t\t\t지루할 틈이 없어요 간만에 볼만했어요\n",
      "공감:922\n",
      "비공감:176\n",
      "--------------------------------------------------------------------------------\n",
      "\t\t\t\t\t\t\t\t\t\t\t\t\t\t\t\t짱… 진짜 너무 재밌게 봤어요. 배우들 라인업은 물론 연기, 연출, 스토리까지 전부 다 너무 좋았음. p.s. 서스펜더 정우성 사랑해요…\n",
      "공감:841\n",
      "비공감:180\n",
      "--------------------------------------------------------------------------------\n",
      "\t\t\t\t\t\t\t\t\t\t\t\t\t\t\t\t비싸진 영화 티켓값이 전혀 아깝지 않았던 영화. 육박감과 속도감만으로도 충분히 그 값 이상을 하고 사운드 빵빵한 관에서 재관람 하고 싶음.\n",
      "공감:750\n",
      "비공감:156\n",
      "--------------------------------------------------------------------------------\n",
      "\t\t\t\t\t\t\t\t\t\t\t\t\t\t\t\t잘 만들었지만 도무지 대사가 안 들림\n",
      "공감:658\n",
      "비공감:75\n",
      "--------------------------------------------------------------------------------\n",
      "\t\t\t\t\t\t\t\t\t\t\t\t\t\t\t\t오랜만에 재밌는 영화 첫 작품이라는게 안믿기는 완성도\n",
      "공감:682\n",
      "비공감:144\n",
      "--------------------------------------------------------------------------------\n",
      "\t\t\t\t\t\t\t\t\t\t\t\t\t\t\t\t이정재 감독의 차기작이 기대되는 작품. 간만에 처음부터 끝까지 긴장감 엄청났다\n",
      "공감:649\n",
      "비공감:141\n",
      "--------------------------------------------------------------------------------\n"
     ]
    }
   ],
   "source": [
    "f = open('naver_movie_reple.txt','w',encoding='utf-8')\n",
    "\n",
    "for pageNo in range(10):\n",
    "    replePage = url_main + frameSrc['src'] + '&page=' + str(pageNo+1)\n",
    "\n",
    "    res = req.get(repalPage)\n",
    "    soup = bs(res.content, 'lxml')\n",
    "    \n",
    "    length = soup.select('div.score_reple > p')\n",
    "    \n",
    "    for i in range(len(length)):\n",
    "        temp = soup.select('div.score_reple > p')\n",
    "        content = temp[i].select('span')[1].text.strip()\n",
    "        sym = soup.select('a._sympathyButton > strong')[i].text\n",
    "        not_sym = soup.select('a._notSympathyButton > strong')[i].text\n",
    "        \n",
    "        f.write(content)\n",
    "        print(\"내용\" + content)\n",
    "        print(\"공감\" + sym)\n",
    "        print(\"비공감\" + not_sym)\n",
    "        print(\"-\" * 100)\n",
    "    \n",
    "f.close()"
   ]
  },
  {
   "cell_type": "code",
   "execution_count": null,
   "id": "11a0723e",
   "metadata": {},
   "outputs": [],
   "source": []
  }
 ],
 "metadata": {
  "kernelspec": {
   "display_name": "Python 3 (ipykernel)",
   "language": "python",
   "name": "python3"
  },
  "language_info": {
   "codemirror_mode": {
    "name": "ipython",
    "version": 3
   },
   "file_extension": ".py",
   "mimetype": "text/x-python",
   "name": "python",
   "nbconvert_exporter": "python",
   "pygments_lexer": "ipython3",
   "version": "3.9.12"
  }
 },
 "nbformat": 4,
 "nbformat_minor": 5
}
