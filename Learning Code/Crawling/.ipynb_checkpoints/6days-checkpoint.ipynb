{
 "cells": [
  {
   "cell_type": "code",
   "execution_count": 109,
   "metadata": {},
   "outputs": [],
   "source": [
    "from selenium import webdriver as wb\n",
    "from selenium.webdriver.common.keys import Keys\n",
    "from selenium.webdriver.common.by import By\n",
    "import time\n",
    "import pandas as pd\n",
    "from bs4 import BeautifulSoup as bs"
   ]
  },
  {
   "cell_type": "markdown",
   "metadata": {},
   "source": [
    "#### 유튜브 댓글"
   ]
  },
  {
   "cell_type": "code",
   "execution_count": 11,
   "metadata": {},
   "outputs": [],
   "source": [
    "# 1. 브라우저 실행\n",
    "driver = wb.Chrome()\n",
    "driver.get(\"https://www.youtube.com/watch?v=jejLBWMsyHk\")"
   ]
  },
  {
   "cell_type": "code",
   "execution_count": null,
   "metadata": {},
   "outputs": [
    {
     "data": {
      "text/plain": [
       "0"
      ]
     },
     "execution_count": 12,
     "metadata": {},
     "output_type": "execute_result"
    }
   ],
   "source": [
    "# 2. 댓글 정보를 수집\n",
    "# id가 content-text인 댓글 수집\n",
    "review = driver.find_elements(By.ID,'content-text')\n",
    "len(review)"
   ]
  },
  {
   "cell_type": "code",
   "execution_count": null,
   "metadata": {},
   "outputs": [
    {
     "name": "stdout",
     "output_type": "stream",
     "text": [
      "I can’t thank you enough for this life changing opportunity you have given my son Bobby.  ️\n",
      "----------------------------------------------------------------------------------------------------\n",
      "학생들이 순수하게 좋아하는 모습을 보니 왜 눈물이 날까. 그 어여쁜 모습 계속 간직했으면 좋겠다, 얘들아...\n",
      "----------------------------------------------------------------------------------------------------\n",
      "7:07 Bobby 신나하는 거 넘 귀엽다... \n",
      "----------------------------------------------------------------------------------------------------\n",
      "반응봐ㅠㅠ다들 너무 사랑스럽다진짜... 영국남자에서 내 최애 영국고딩들ㅠ.ㅠ  날씨 진짜 덥지만 즐겁게 시원하게 놀고갔으면 좋겠네요~~~  제주도도 갔으면 좋겠다 핵덥겠지만. .  다들 시험잘봤길\n",
      "----------------------------------------------------------------------------------------------------\n",
      "와 미쳤다…\n",
      "Already TOO EXCITED FOR THIS OMG\n",
      "----------------------------------------------------------------------------------------------------\n",
      "캐리어에 쌈장 채운다는 말이 너무 귀여워서 한참 웃었네요 >_< 좋은 추억 많이 많이 쌓고 갔으면 좋겠어요 :)\n",
      "----------------------------------------------------------------------------------------------------\n",
      "이번꺼는 정말 대박이네요. 꼭 한국이라서가 아니라, 학생때 외국 나갈 기회라면, 당연히 엄청 신날 수 밖에 없는데, 조쉬와 주변분들이 한국의 음식으로 좋은 인식을 만들고, 기대하는 한국으로의 여행은 경험이 적은 고등학생에게는 평생가는 기억이 기회가 되겠네요. 보는 내내, 제가 다 행복할 정도입니다. 그 당시 나이에 제가 했던 새로운 경험의 벅참을 대리로 느끼고 있네요. 제 입장에선, 배컴보다 더 대박 에피소드라고 생각합니다.\n",
      "----------------------------------------------------------------------------------------------------\n",
      "마지막에올리님ㅋㅋㅋㅋㅋㅋ 영국남자 크루분들께 한국인으로써 영국학생들에게 한국을 정말 제.대.로. 경험시켜주셔서 너무 감사할따름♡♡♡\n",
      "----------------------------------------------------------------------------------------------------\n",
      "한국 지금 더워서 오면 고생할터인데용^^~\n",
      "어쩌누?~~\n",
      "집나오면 고생인데~~^^~~\n",
      "귀욥다~~^^~~\n",
      "----------------------------------------------------------------------------------------------------\n",
      "Bobby so cute  he says his mom saying “big things ahead” he thinks he made mistake \n",
      "Love this guys!! Been watching since the start their sincere amazement soo love it ️️\n",
      "----------------------------------------------------------------------------------------------------\n",
      "this is so wholesome \n",
      "----------------------------------------------------------------------------------------------------\n",
      "보는 내내 제입에 미소가 떠나질 않네요. 제2, 제3의 조쉬들이 생겨나길..^^  영국남자 최고입니다\n",
      "----------------------------------------------------------------------------------------------------\n",
      "“이번 여행을 통해 왜 제가 한국을 사랑할수 밖에 없는지 알게 될거에요” \n",
      "\n",
      "조쉬의 멘트처럼 내가 좋아하는것들을 보여주고 경험하고 그들이 공감하는 모습을 볼때 말로 다 할수 없는 희열을 느끼죠\n",
      "----------------------------------------------------------------------------------------------------\n",
      "한국에 간다는 뜻이란걸 알았을때 기뻐하는 모습들이 너무 귀엽고 한국에서 여러 경험들을 하며 즐거워하는 학생들을 보니 괜히 찡하네요ㅎ  좋은 추억 많이 만들고 가세요^^\n",
      "----------------------------------------------------------------------------------------------------\n",
      "Why am I emotional watching this?!? I’m so happy and excited for them!! And so freaking proud to see non-Koreans ecstatic about visiting my motherland, damn… thank you Josh, Ollie, and team! This just made my year! Wow. Cannot wait to see the content and see them thriving in the beautiful country of Koreaaaaa, truly immersing themselves in this culture that they’ve been exposed to for the past year thru your guys’ hard work!! AhHhhhhh! 🫰\n",
      "----------------------------------------------------------------------------------------------------\n",
      "무슨 왠만한 공중파 예능보다 영국남자가 훨씬 재밌어요ㅠㅠㅠㅠㅠㅠ 하이틴 그 자체 영상 기획해줘서 고마워요!!!! 한국 문화를 세계에 알릴 수 있다니 너무 뿌듯해요!!\n",
      "----------------------------------------------------------------------------------------------------\n",
      "보비 순수하고 깨끗한 영혼 그 자체 느낌.. 너무 착해 항상 변하지 않았으면!\n",
      "----------------------------------------------------------------------------------------------------\n",
      "미쳤다 넘좋아 하 이건 그냥 미친거라구!!!!제주도까지 세상에!!!!컴온 칭구들!!!!!!🇰🇷️‍️‍️‍\n",
      "----------------------------------------------------------------------------------------------------\n",
      "영국남자 이렇게 한국을 널리 알려주니 나라에서 상 줘야 할듯.\n",
      "----------------------------------------------------------------------------------------------------\n",
      "영국학생들편은 무조건 다챙겨봤어요! 저렇게 행복해하니 저까지 행복해지네요!!! 빨리 영상이 더올라왔으면 좋겠어요!\n",
      "----------------------------------------------------------------------------------------------------\n"
     ]
    }
   ],
   "source": [
    "for i in review:\n",
    "    print(i.text)\n",
    "    print('-'*100)"
   ]
  },
  {
   "cell_type": "code",
   "execution_count": 15,
   "metadata": {},
   "outputs": [
    {
     "ename": "KeyboardInterrupt",
     "evalue": "",
     "output_type": "error",
     "traceback": [
      "\u001b[1;31m---------------------------------------------------------------------------\u001b[0m",
      "\u001b[1;31mKeyboardInterrupt\u001b[0m                         Traceback (most recent call last)",
      "\u001b[1;32mc:\\Users\\smhrd\\crawling\\6days.ipynb 셀 6\u001b[0m in \u001b[0;36m<cell line: 3>\u001b[1;34m()\u001b[0m\n\u001b[0;32m      <a href='vscode-notebook-cell:/c%3A/Users/smhrd/crawling/6days.ipynb#W4sZmlsZQ%3D%3D?line=2'>3</a>\u001b[0m body \u001b[39m=\u001b[39m driver\u001b[39m.\u001b[39mfind_element(By\u001b[39m.\u001b[39mTAG_NAME,\u001b[39m'\u001b[39m\u001b[39mbody\u001b[39m\u001b[39m'\u001b[39m)\n\u001b[0;32m      <a href='vscode-notebook-cell:/c%3A/Users/smhrd/crawling/6days.ipynb#W4sZmlsZQ%3D%3D?line=3'>4</a>\u001b[0m body\u001b[39m.\u001b[39msend_keys(Keys\u001b[39m.\u001b[39mEND)\n\u001b[1;32m----> <a href='vscode-notebook-cell:/c%3A/Users/smhrd/crawling/6days.ipynb#W4sZmlsZQ%3D%3D?line=4'>5</a>\u001b[0m time\u001b[39m.\u001b[39;49msleep(\u001b[39m0.5\u001b[39;49m)\n",
      "\u001b[1;31mKeyboardInterrupt\u001b[0m: "
     ]
    }
   ],
   "source": [
    "# 3. 댓글 정보를 갱신하기 위해서 키보드 end 버튼을 누름\n",
    "while True:\n",
    "    body = driver.find_element(By.TAG_NAME,'body')\n",
    "    body.send_keys(Keys.END)\n",
    "    time.sleep(0.5)"
   ]
  },
  {
   "cell_type": "markdown",
   "metadata": {},
   "source": [
    "#### 네이버에서 키워드 입력, 검색하고 이미지크롤링"
   ]
  },
  {
   "cell_type": "code",
   "execution_count": 55,
   "metadata": {},
   "outputs": [],
   "source": [
    "# 1. 크롬을 열고 네이버에 들어가기\n",
    "driver = wb.Chrome()\n",
    "driver.get(\"http://www.naver.com\")"
   ]
  },
  {
   "cell_type": "code",
   "execution_count": 56,
   "metadata": {},
   "outputs": [],
   "source": [
    "# 2. 원하는 키워드 입력하고 검색하기\n",
    "# 2-1. 검색바를 찾기\n",
    "search = driver.find_element(By.ID,'query')\n",
    "# 2-2. 키워드 입력하기\n",
    "search.send_keys('청하.gif')\n",
    "# 2-3. 검색하기\n",
    "search.send_keys(Keys.ENTER)\n"
   ]
  },
  {
   "cell_type": "code",
   "execution_count": 57,
   "metadata": {},
   "outputs": [],
   "source": [
    "# 3. 이미지탭 클릭하기\n",
    "image_tab = driver.find_element(By.CSS_SELECTOR,'#lnb > div.lnb_group > div > ul > li:nth-child(3) > a')\n",
    "image_tab.click()"
   ]
  },
  {
   "cell_type": "code",
   "execution_count": 58,
   "metadata": {},
   "outputs": [
    {
     "data": {
      "text/plain": [
       "50"
      ]
     },
     "execution_count": 58,
     "metadata": {},
     "output_type": "execute_result"
    }
   ],
   "source": [
    "# 4. 이미지 수집\n",
    "# 4-1. 이미지태그 수집\n",
    "imgs = driver.find_elements(By.CLASS_NAME, '_image._listImage')\n",
    "len(imgs)"
   ]
  },
  {
   "cell_type": "code",
   "execution_count": 38,
   "metadata": {},
   "outputs": [
    {
     "ename": "KeyboardInterrupt",
     "evalue": "",
     "output_type": "error",
     "traceback": [
      "\u001b[1;31m---------------------------------------------------------------------------\u001b[0m",
      "\u001b[1;31mKeyboardInterrupt\u001b[0m                         Traceback (most recent call last)",
      "\u001b[1;32mc:\\Users\\smhrd\\crawling\\6days.ipynb 셀 12\u001b[0m in \u001b[0;36m<cell line: 2>\u001b[1;34m()\u001b[0m\n\u001b[0;32m      <a href='vscode-notebook-cell:/c%3A/Users/smhrd/crawling/6days.ipynb#X22sZmlsZQ%3D%3D?line=1'>2</a>\u001b[0m body \u001b[39m=\u001b[39m driver\u001b[39m.\u001b[39mfind_element(By\u001b[39m.\u001b[39mTAG_NAME,\u001b[39m'\u001b[39m\u001b[39mbody\u001b[39m\u001b[39m'\u001b[39m)\n\u001b[0;32m      <a href='vscode-notebook-cell:/c%3A/Users/smhrd/crawling/6days.ipynb#X22sZmlsZQ%3D%3D?line=2'>3</a>\u001b[0m body\u001b[39m.\u001b[39msend_keys(Keys\u001b[39m.\u001b[39mEND)\n\u001b[1;32m----> <a href='vscode-notebook-cell:/c%3A/Users/smhrd/crawling/6days.ipynb#X22sZmlsZQ%3D%3D?line=3'>4</a>\u001b[0m time\u001b[39m.\u001b[39;49msleep(\u001b[39m0.5\u001b[39;49m)\n",
      "\u001b[1;31mKeyboardInterrupt\u001b[0m: "
     ]
    }
   ],
   "source": [
    "while True:\n",
    "    body = driver.find_element(By.TAG_NAME,'body')\n",
    "    body.send_keys(Keys.END)\n",
    "    time.sleep(0.5)"
   ]
  },
  {
   "cell_type": "code",
   "execution_count": 66,
   "metadata": {},
   "outputs": [
    {
     "data": {
      "text/plain": [
       "50"
      ]
     },
     "execution_count": 66,
     "metadata": {},
     "output_type": "execute_result"
    }
   ],
   "source": [
    "# 4-2. 이미지 태그안에 있는 src 속성값 가져오기\n",
    "# 속성을 가져오는 함수 : get_attribute()\n",
    "# 반복문을 사용해서 전체 img태그에 있는 src값 수집\n",
    "img_url = []\n",
    "for img in imgs:\n",
    "    img_url.append(img.get_attribute('src'))\n",
    "len(img_url)"
   ]
  },
  {
   "cell_type": "code",
   "execution_count": 67,
   "metadata": {},
   "outputs": [
    {
     "name": "stdout",
     "output_type": "stream",
     "text": [
      "1\n",
      "https://search.pstatic.net/common/?src=http%3A%2F%2Fblogfiles.naver.net%2FMjAyMDA5MTVfMjkz%2FMDAxNjAwMTA2MzQ0NTg4.Yrn9Rc_b3QPR8wtNmxnRk6pmkRRw-C7o0UK7FWiRK88g.fKC7jymGtWzevmYbGggkVrYWq3YZy9AY-3-r78dG3lQg.GIF.dkfttl%2F3.gif&type=a340\n",
      "----------------------------------------------------------------------------------------------------\n",
      "2\n",
      "https://search.pstatic.net/common/?src=http%3A%2F%2Fcafefiles.naver.net%2FMjAxODA3MjdfMTQw%2FMDAxNTMyNjc4ODI2MDIw.gZdz9A8f9ApgRxlQuyY-AOsXdnJngGAHf1uVsvuLHj0g.T_slBSpzx1E6rptUeFfalotyH3QzRetOeFP_YfI9XE0g.GIF.elitebonus%2FKakaoTalk_20180122_152356165.gif&type=a340\n",
      "----------------------------------------------------------------------------------------------------\n",
      "3\n",
      "https://search.pstatic.net/common/?src=http%3A%2F%2Fblogfiles.naver.net%2FMjAxODAxMjhfMjMw%2FMDAxNTE3MTMxODExOTA1.UGcdb6O_roXkcwdW8Dimz5FTaNbKr-rN-ahp9lZf8Fkg.o1p2dBxJCADWv5liufnEGS2FGeeqNzoqpUugAQmK2VUg.GIF.gusdlek030%2F20180128_182757.gif&type=l340_165\n",
      "----------------------------------------------------------------------------------------------------\n",
      "4\n",
      "data:image/gif;base64,R0lGODlhAQABAIAAAAAAAP///yH5BAEAAAAALAAAAAABAAEAAAIBRAA7\n",
      "----------------------------------------------------------------------------------------------------\n",
      "5\n",
      "data:image/gif;base64,R0lGODlhAQABAIAAAAAAAP///yH5BAEAAAAALAAAAAABAAEAAAIBRAA7\n",
      "----------------------------------------------------------------------------------------------------\n",
      "6\n",
      "https://search.pstatic.net/common/?src=http%3A%2F%2Fblogfiles.naver.net%2FMjAxODExMDRfMTE2%2FMDAxNTQxMzE4MTYzMjY0.rx0pZH8A-IujkcRcHFhHuEjcYy7CbW8VsxPR2_A6zlgg.tVNK3K7FgkkY4j4FfnMKc6MfAiCfgW0kmolQ3hsWJwUg.JPEG.fstdevil%2F05.jpg&type=a340\n",
      "----------------------------------------------------------------------------------------------------\n",
      "7\n",
      "https://search.pstatic.net/common/?src=http%3A%2F%2Fcafefiles.naver.net%2F20160408_169%2Fjmg1119_1460126868271a0XqA_GIF%2F_-715952621253632001.gif&type=a340\n",
      "----------------------------------------------------------------------------------------------------\n",
      "8\n",
      "data:image/gif;base64,R0lGODlhAQABAIAAAAAAAP///yH5BAEAAAAALAAAAAABAAEAAAIBRAA7\n",
      "----------------------------------------------------------------------------------------------------\n",
      "9\n",
      "https://search.pstatic.net/common/?src=http%3A%2F%2Fcafefiles.naver.net%2FMjAxOTEwMjBfMTEy%2FMDAxNTcxNTUzMjkyNDcw.8SsmEllkZzWLz7DlwX1i4WiQlsyPoeUywNiiYe02gkkg.6e9JYFBiZ9AUcGeVqmw6gcJuAcg5CGunFLylTdfgO_Eg.GIF%2FloHpM4O.gif&type=a340\n",
      "----------------------------------------------------------------------------------------------------\n",
      "10\n",
      "data:image/gif;base64,R0lGODlhAQABAIAAAAAAAP///yH5BAEAAAAALAAAAAABAAEAAAIBRAA7\n",
      "----------------------------------------------------------------------------------------------------\n",
      "11\n",
      "https://search.pstatic.net/common/?src=http%3A%2F%2Fblogfiles.naver.net%2FMjAxODExMDRfMzIg%2FMDAxNTQxMzE4MTYxNjgw.Et9hpQOdWSr31XHIB-HxzTxqqZA0zv3StQtpQ8L-x2wg.soHXlZplVx6qEYGXHWjOxujYM-PG_TCvAl4PH0oCStYg.GIF.fstdevil%2F02.gif&type=a340\n",
      "----------------------------------------------------------------------------------------------------\n",
      "12\n",
      "data:image/gif;base64,R0lGODlhAQABAIAAAAAAAP///yH5BAEAAAAALAAAAAABAAEAAAIBRAA7\n",
      "----------------------------------------------------------------------------------------------------\n",
      "13\n",
      "https://search.pstatic.net/common/?src=http%3A%2F%2Fblogfiles.naver.net%2FMjAxODAxMjhfMjgx%2FMDAxNTE3MDc0NDQwNTg0.wm8AWWGBxJvKG0XwPtG9v2HxoqBohqoBwYfo-jiYotkg.dognvQlzeucT8gxQcqlsIH_Wm00ekgOyTwTSdiFFjL8g.GIF.gusdlek030%2F20180124_011309.gif&type=l340_165\n",
      "----------------------------------------------------------------------------------------------------\n",
      "14\n",
      "https://search.pstatic.net/common/?src=http%3A%2F%2Fblogfiles.naver.net%2FMjAyMDAzMDlfMjg5%2FMDAxNTgzNzIwODM2ODI5.AuncwqQ4trQSruozl2qNJrozbS_j01ZS2-ZfQZacyuAg.87WpwQ37WmKIs7s6SO2f_bHz_UprcK8iYC-ARKAAMjYg.GIF.incur30194%2Fimage.gif&type=a340\n",
      "----------------------------------------------------------------------------------------------------\n",
      "15\n",
      "data:image/gif;base64,R0lGODlhAQABAIAAAAAAAP///yH5BAEAAAAALAAAAAABAAEAAAIBRAA7\n",
      "----------------------------------------------------------------------------------------------------\n",
      "16\n",
      "data:image/gif;base64,R0lGODlhAQABAIAAAAAAAP///yH5BAEAAAAALAAAAAABAAEAAAIBRAA7\n",
      "----------------------------------------------------------------------------------------------------\n",
      "17\n",
      "https://search.pstatic.net/common/?src=http%3A%2F%2Fimgnews.naver.net%2Fimage%2F5400%2F2018%2F07%2F18%2F0000145709_006_20180718154909626.jpg&type=a340\n",
      "----------------------------------------------------------------------------------------------------\n",
      "18\n",
      "data:image/gif;base64,R0lGODlhAQABAIAAAAAAAP///yH5BAEAAAAALAAAAAABAAEAAAIBRAA7\n",
      "----------------------------------------------------------------------------------------------------\n",
      "19\n",
      "data:image/gif;base64,R0lGODlhAQABAIAAAAAAAP///yH5BAEAAAAALAAAAAABAAEAAAIBRAA7\n",
      "----------------------------------------------------------------------------------------------------\n",
      "20\n",
      "data:image/gif;base64,R0lGODlhAQABAIAAAAAAAP///yH5BAEAAAAALAAAAAABAAEAAAIBRAA7\n",
      "----------------------------------------------------------------------------------------------------\n",
      "21\n",
      "data:image/gif;base64,R0lGODlhAQABAIAAAAAAAP///yH5BAEAAAAALAAAAAABAAEAAAIBRAA7\n",
      "----------------------------------------------------------------------------------------------------\n",
      "22\n",
      "data:image/gif;base64,R0lGODlhAQABAIAAAAAAAP///yH5BAEAAAAALAAAAAABAAEAAAIBRAA7\n",
      "----------------------------------------------------------------------------------------------------\n",
      "23\n",
      "data:image/gif;base64,R0lGODlhAQABAIAAAAAAAP///yH5BAEAAAAALAAAAAABAAEAAAIBRAA7\n",
      "----------------------------------------------------------------------------------------------------\n",
      "24\n",
      "data:image/gif;base64,R0lGODlhAQABAIAAAAAAAP///yH5BAEAAAAALAAAAAABAAEAAAIBRAA7\n",
      "----------------------------------------------------------------------------------------------------\n",
      "25\n",
      "data:image/gif;base64,R0lGODlhAQABAIAAAAAAAP///yH5BAEAAAAALAAAAAABAAEAAAIBRAA7\n",
      "----------------------------------------------------------------------------------------------------\n",
      "26\n",
      "data:image/gif;base64,R0lGODlhAQABAIAAAAAAAP///yH5BAEAAAAALAAAAAABAAEAAAIBRAA7\n",
      "----------------------------------------------------------------------------------------------------\n",
      "27\n",
      "data:image/gif;base64,R0lGODlhAQABAIAAAAAAAP///yH5BAEAAAAALAAAAAABAAEAAAIBRAA7\n",
      "----------------------------------------------------------------------------------------------------\n",
      "28\n",
      "data:image/gif;base64,R0lGODlhAQABAIAAAAAAAP///yH5BAEAAAAALAAAAAABAAEAAAIBRAA7\n",
      "----------------------------------------------------------------------------------------------------\n",
      "29\n",
      "data:image/gif;base64,R0lGODlhAQABAIAAAAAAAP///yH5BAEAAAAALAAAAAABAAEAAAIBRAA7\n",
      "----------------------------------------------------------------------------------------------------\n",
      "30\n",
      "data:image/gif;base64,R0lGODlhAQABAIAAAAAAAP///yH5BAEAAAAALAAAAAABAAEAAAIBRAA7\n",
      "----------------------------------------------------------------------------------------------------\n",
      "31\n",
      "data:image/gif;base64,R0lGODlhAQABAIAAAAAAAP///yH5BAEAAAAALAAAAAABAAEAAAIBRAA7\n",
      "----------------------------------------------------------------------------------------------------\n",
      "32\n",
      "data:image/gif;base64,R0lGODlhAQABAIAAAAAAAP///yH5BAEAAAAALAAAAAABAAEAAAIBRAA7\n",
      "----------------------------------------------------------------------------------------------------\n",
      "33\n",
      "data:image/gif;base64,R0lGODlhAQABAIAAAAAAAP///yH5BAEAAAAALAAAAAABAAEAAAIBRAA7\n",
      "----------------------------------------------------------------------------------------------------\n",
      "34\n",
      "data:image/gif;base64,R0lGODlhAQABAIAAAAAAAP///yH5BAEAAAAALAAAAAABAAEAAAIBRAA7\n",
      "----------------------------------------------------------------------------------------------------\n",
      "35\n",
      "data:image/gif;base64,R0lGODlhAQABAIAAAAAAAP///yH5BAEAAAAALAAAAAABAAEAAAIBRAA7\n",
      "----------------------------------------------------------------------------------------------------\n",
      "36\n",
      "data:image/gif;base64,R0lGODlhAQABAIAAAAAAAP///yH5BAEAAAAALAAAAAABAAEAAAIBRAA7\n",
      "----------------------------------------------------------------------------------------------------\n",
      "37\n",
      "data:image/gif;base64,R0lGODlhAQABAIAAAAAAAP///yH5BAEAAAAALAAAAAABAAEAAAIBRAA7\n",
      "----------------------------------------------------------------------------------------------------\n",
      "38\n",
      "data:image/gif;base64,R0lGODlhAQABAIAAAAAAAP///yH5BAEAAAAALAAAAAABAAEAAAIBRAA7\n",
      "----------------------------------------------------------------------------------------------------\n",
      "39\n",
      "data:image/gif;base64,R0lGODlhAQABAIAAAAAAAP///yH5BAEAAAAALAAAAAABAAEAAAIBRAA7\n",
      "----------------------------------------------------------------------------------------------------\n",
      "40\n",
      "data:image/gif;base64,R0lGODlhAQABAIAAAAAAAP///yH5BAEAAAAALAAAAAABAAEAAAIBRAA7\n",
      "----------------------------------------------------------------------------------------------------\n",
      "41\n",
      "data:image/gif;base64,R0lGODlhAQABAIAAAAAAAP///yH5BAEAAAAALAAAAAABAAEAAAIBRAA7\n",
      "----------------------------------------------------------------------------------------------------\n",
      "42\n",
      "data:image/gif;base64,R0lGODlhAQABAIAAAAAAAP///yH5BAEAAAAALAAAAAABAAEAAAIBRAA7\n",
      "----------------------------------------------------------------------------------------------------\n",
      "43\n",
      "data:image/gif;base64,R0lGODlhAQABAIAAAAAAAP///yH5BAEAAAAALAAAAAABAAEAAAIBRAA7\n",
      "----------------------------------------------------------------------------------------------------\n",
      "44\n",
      "data:image/gif;base64,R0lGODlhAQABAIAAAAAAAP///yH5BAEAAAAALAAAAAABAAEAAAIBRAA7\n",
      "----------------------------------------------------------------------------------------------------\n",
      "45\n",
      "data:image/gif;base64,R0lGODlhAQABAIAAAAAAAP///yH5BAEAAAAALAAAAAABAAEAAAIBRAA7\n",
      "----------------------------------------------------------------------------------------------------\n",
      "46\n",
      "data:image/gif;base64,R0lGODlhAQABAIAAAAAAAP///yH5BAEAAAAALAAAAAABAAEAAAIBRAA7\n",
      "----------------------------------------------------------------------------------------------------\n",
      "47\n",
      "data:image/gif;base64,R0lGODlhAQABAIAAAAAAAP///yH5BAEAAAAALAAAAAABAAEAAAIBRAA7\n",
      "----------------------------------------------------------------------------------------------------\n",
      "48\n",
      "data:image/gif;base64,R0lGODlhAQABAIAAAAAAAP///yH5BAEAAAAALAAAAAABAAEAAAIBRAA7\n",
      "----------------------------------------------------------------------------------------------------\n",
      "49\n",
      "data:image/gif;base64,R0lGODlhAQABAIAAAAAAAP///yH5BAEAAAAALAAAAAABAAEAAAIBRAA7\n",
      "----------------------------------------------------------------------------------------------------\n",
      "50\n",
      "data:image/gif;base64,R0lGODlhAQABAIAAAAAAAP///yH5BAEAAAAALAAAAAABAAEAAAIBRAA7\n",
      "----------------------------------------------------------------------------------------------------\n"
     ]
    }
   ],
   "source": [
    "for i in range(len(img_url)):\n",
    "    print(i+1)\n",
    "    print(img_url[i])\n",
    "    print(\"-\"*100)"
   ]
  },
  {
   "cell_type": "code",
   "execution_count": 61,
   "metadata": {},
   "outputs": [
    {
     "name": "stdout",
     "output_type": "stream",
     "text": [
      "https://search.pstatic.net/common/?src=http%3A%2F%2Fblogfiles.naver.net%2FMjAyMDA5MTVfMjkz%2FMDAxNjAwMTA2MzQ0NTg4.Yrn9Rc_b3QPR8wtNmxnRk6pmkRRw-C7o0UK7FWiRK88g.fKC7jymGtWzevmYbGggkVrYWq3YZy9AY-3-r78dG3lQg.GIF.dkfttl%2F3.gif&type=a340\n"
     ]
    }
   ],
   "source": [
    "print(img_url[0])"
   ]
  },
  {
   "cell_type": "code",
   "execution_count": 68,
   "metadata": {},
   "outputs": [],
   "source": [
    "# 파일 시스템을 위한 라이브러리(파일, 폴더에 접근)\n",
    "import os\n",
    "# 이미지의 url 값을 파일로 변형시켜주는 라이브러리\n",
    "from urllib.request import urlretrieve"
   ]
  },
  {
   "cell_type": "code",
   "execution_count": 69,
   "metadata": {},
   "outputs": [],
   "source": [
    "# 4-3. 다운받을 폴더 만들기\n",
    "# C:\\Users\\smhrd\\Desktop 청하짤폴더를 만들고 이미지 저장\n",
    "if not os.path.isdir('C:/Users/smhrd/Desktop/청하짤'):\n",
    "    os.mkdir('C:/Users/smhrd/Desktop/청하짤')"
   ]
  },
  {
   "cell_type": "code",
   "execution_count": 70,
   "metadata": {},
   "outputs": [],
   "source": [
    "# 4-4. 이미지 폴더에 이미지를 저장\n",
    "# 전체사진 인식을 하려면 시간이 필요\n",
    "count = 1\n",
    "for i in img_url:\n",
    "    # 파일저장 경로 urlretrieve()\n",
    "    urlretrieve(i, 'C:/Users/smhrd/Desktop/청하짤/'+str(count)+'.gif')\n",
    "    count += 1"
   ]
  },
  {
   "cell_type": "markdown",
   "metadata": {},
   "source": [
    "#### 스타벅스 매장 지점명, 주소, 전화번호 수집"
   ]
  },
  {
   "cell_type": "code",
   "execution_count": 210,
   "metadata": {},
   "outputs": [],
   "source": [
    "url = \"https://www.starbucks.co.kr/store/store_map.do\"\n",
    "driver = wb.Chrome()\n",
    "driver.get(url)"
   ]
  },
  {
   "cell_type": "code",
   "execution_count": 211,
   "metadata": {},
   "outputs": [],
   "source": [
    "# 1. 지역검색 버튼을 클릭 (클래스명 확인)\n",
    "city_tab = driver.find_element(By.CLASS_NAME,'loca_search')\n",
    "city_tab.click()"
   ]
  },
  {
   "cell_type": "code",
   "execution_count": 212,
   "metadata": {},
   "outputs": [],
   "source": [
    "# 2. 광주지역 클릭 (By.CSS_SELECTOR 사용)\n",
    "city = driver.find_element(By.CSS_SELECTOR,'div.loca_step1_cont > ul > li:nth-child(3) > a')\n",
    "city.click()"
   ]
  },
  {
   "cell_type": "code",
   "execution_count": 213,
   "metadata": {},
   "outputs": [],
   "source": [
    "# 3. 광주지역에서 전체 지역 클릭 (By.CSS_SELECTOR 사용)\n",
    "city_all = driver.find_element(By.CSS_SELECTOR,'#mCSB_2_container > ul > li:nth-child(1) > a')\n",
    "city_all.click()"
   ]
  },
  {
   "cell_type": "code",
   "execution_count": 214,
   "metadata": {},
   "outputs": [],
   "source": [
    "soup = bs(driver.page_source,'lxml')"
   ]
  },
  {
   "cell_type": "code",
   "execution_count": 215,
   "metadata": {},
   "outputs": [
    {
     "data": {
      "text/plain": [
       "'광주운남DT'"
      ]
     },
     "execution_count": 215,
     "metadata": {},
     "output_type": "execute_result"
    }
   ],
   "source": [
    "name=soup.select('#mCSB_3_container > ul > li > strong')[i].text.strip()\n",
    "name"
   ]
  },
  {
   "cell_type": "code",
   "execution_count": 217,
   "metadata": {},
   "outputs": [
    {
     "data": {
      "text/plain": [
       "<p class=\"result_details\">광주광역시 광산구 임방울대로 156 (운남동)<br/>1522-3232</p>"
      ]
     },
     "execution_count": 217,
     "metadata": {},
     "output_type": "execute_result"
    }
   ],
   "source": [
    "temp = soup.select('#mCSB_3_container > ul > li > p')[i]\n",
    "temp"
   ]
  },
  {
   "cell_type": "code",
   "execution_count": 218,
   "metadata": {},
   "outputs": [
    {
     "ename": "TypeError",
     "evalue": "expected string or bytes-like object",
     "output_type": "error",
     "traceback": [
      "\u001b[1;31m---------------------------------------------------------------------------\u001b[0m",
      "\u001b[1;31mTypeError\u001b[0m                                 Traceback (most recent call last)",
      "\u001b[1;32mc:\\Users\\smhrd\\crawling\\6days.ipynb 셀 27\u001b[0m in \u001b[0;36m<cell line: 8>\u001b[1;34m()\u001b[0m\n\u001b[0;32m      <a href='vscode-notebook-cell:/c%3A/Users/smhrd/crawling/6days.ipynb#X42sZmlsZQ%3D%3D?line=8'>9</a>\u001b[0m name \u001b[39m=\u001b[39m soup\u001b[39m.\u001b[39mselect(\u001b[39m'\u001b[39m\u001b[39m#mCSB_3_container > ul > li > strong\u001b[39m\u001b[39m'\u001b[39m)[i]\u001b[39m.\u001b[39mtext\u001b[39m.\u001b[39mstrip()\n\u001b[0;32m     <a href='vscode-notebook-cell:/c%3A/Users/smhrd/crawling/6days.ipynb#X42sZmlsZQ%3D%3D?line=9'>10</a>\u001b[0m temp \u001b[39m=\u001b[39m soup\u001b[39m.\u001b[39mselect(\u001b[39m'\u001b[39m\u001b[39m#mCSB_3_container > ul > li > p\u001b[39m\u001b[39m'\u001b[39m)\n\u001b[1;32m---> <a href='vscode-notebook-cell:/c%3A/Users/smhrd/crawling/6days.ipynb#X42sZmlsZQ%3D%3D?line=10'>11</a>\u001b[0m add \u001b[39m=\u001b[39m re\u001b[39m.\u001b[39;49msplit((\u001b[39m'\u001b[39;49m\u001b[39m<br/>\u001b[39;49m\u001b[39m'\u001b[39;49m), temp[\u001b[39m0\u001b[39;49m])\n\u001b[0;32m     <a href='vscode-notebook-cell:/c%3A/Users/smhrd/crawling/6days.ipynb#X42sZmlsZQ%3D%3D?line=11'>12</a>\u001b[0m tel \u001b[39m=\u001b[39m re\u001b[39m.\u001b[39msplit((\u001b[39m'\u001b[39m\u001b[39m<br/>\u001b[39m\u001b[39m'\u001b[39m), temp[\u001b[39m1\u001b[39m])\n\u001b[0;32m     <a href='vscode-notebook-cell:/c%3A/Users/smhrd/crawling/6days.ipynb#X42sZmlsZQ%3D%3D?line=13'>14</a>\u001b[0m names\u001b[39m.\u001b[39mappend(name)\n",
      "File \u001b[1;32mc:\\Users\\smhrd\\anaconda3\\lib\\re.py:231\u001b[0m, in \u001b[0;36msplit\u001b[1;34m(pattern, string, maxsplit, flags)\u001b[0m\n\u001b[0;32m    223\u001b[0m \u001b[39mdef\u001b[39;00m \u001b[39msplit\u001b[39m(pattern, string, maxsplit\u001b[39m=\u001b[39m\u001b[39m0\u001b[39m, flags\u001b[39m=\u001b[39m\u001b[39m0\u001b[39m):\n\u001b[0;32m    224\u001b[0m     \u001b[39m\"\"\"Split the source string by the occurrences of the pattern,\u001b[39;00m\n\u001b[0;32m    225\u001b[0m \u001b[39m    returning a list containing the resulting substrings.  If\u001b[39;00m\n\u001b[0;32m    226\u001b[0m \u001b[39m    capturing parentheses are used in pattern, then the text of all\u001b[39;00m\n\u001b[1;32m   (...)\u001b[0m\n\u001b[0;32m    229\u001b[0m \u001b[39m    and the remainder of the string is returned as the final element\u001b[39;00m\n\u001b[0;32m    230\u001b[0m \u001b[39m    of the list.\"\"\"\u001b[39;00m\n\u001b[1;32m--> 231\u001b[0m     \u001b[39mreturn\u001b[39;00m _compile(pattern, flags)\u001b[39m.\u001b[39;49msplit(string, maxsplit)\n",
      "\u001b[1;31mTypeError\u001b[0m: expected string or bytes-like object"
     ]
    }
   ],
   "source": [
    "import re\n",
    "\n",
    "# 지점명, 주소, 전화번호\n",
    "names = []\n",
    "adds = []\n",
    "tels = []\n",
    "\n",
    "for i in range(len(name)):\n",
    "    name = soup.select('#mCSB_3_container > ul > li > strong')[i].text.strip()\n",
    "    temp = soup.select('#mCSB_3_container > ul > li > p')\n",
    "    add = re.split(('<br/>'), temp[0])\n",
    "    tel = re.split(('<br/>'), temp[1])\n",
    "\n",
    "    names.append(name)\n",
    "    adds.append(add.text)\n",
    "    tels.append(tel.text)\n",
    "\n",
    "    print(\"지점명 : \" + name[i])\n",
    "    print(\"주소 : \" + add[i])\n",
    "    print(\"전화번호 : \" + tel[i])\n",
    "    print(\"-\"*100)\n",
    "\n",
    "# len(names), len(adds), len(tels)"
   ]
  },
  {
   "cell_type": "markdown",
   "metadata": {},
   "source": [
    "#### 스타벅스 음료 영양정보 가져오기"
   ]
  },
  {
   "cell_type": "code",
   "execution_count": 219,
   "metadata": {},
   "outputs": [],
   "source": [
    "driver = wb.Chrome()\n",
    "driver.get('https://www.starbucks.co.kr/menu/drink_list.do')"
   ]
  },
  {
   "cell_type": "code",
   "execution_count": 220,
   "metadata": {},
   "outputs": [],
   "source": [
    "# 1. 영양정보 버튼 클릭\n",
    "driver.find_element(By.CLASS_NAME, 'a2').click()"
   ]
  },
  {
   "cell_type": "code",
   "execution_count": 221,
   "metadata": {},
   "outputs": [],
   "source": [
    "# 페이지 요청하기\n",
    "soup = bs(driver.page_source,'lxml')"
   ]
  },
  {
   "cell_type": "code",
   "execution_count": 254,
   "metadata": {},
   "outputs": [
    {
     "data": {
      "text/plain": [
       "134"
      ]
     },
     "execution_count": 254,
     "metadata": {},
     "output_type": "execute_result"
    }
   ],
   "source": [
    "import re\n",
    "coffee_info = soup.select(\"#container > div.content > div.product_result_wrap.product_result_wrap01 > div > dl > dd > table > tbody > tr\")\n",
    "len(coffee_info)"
   ]
  },
  {
   "cell_type": "code",
   "execution_count": 256,
   "metadata": {},
   "outputs": [
    {
     "data": {
      "text/plain": [
       "(134, 134, 134, 134, 134, 134, 134)"
      ]
     },
     "execution_count": 256,
     "metadata": {},
     "output_type": "execute_result"
    }
   ],
   "source": [
    "#6가지 영양 가져오기\n",
    "menuName=[]\n",
    "kcal=[]\n",
    "sugar=[]\n",
    "protein=[]\n",
    "natrium=[]\n",
    "fat=[]\n",
    "cafeeine=[]\n",
    "\n",
    "length=soup.select(\".coffeeInfo.mb60>tbody>tr\")\n",
    "coffee_info=soup.select(\".coffeeInfo.mb60>tbody>tr\")\n",
    "\n",
    "for i in range(len(length)):\n",
    "\n",
    "    info=coffee_info[i].select('td')\n",
    "    menuName.append(info[0].text)\n",
    "    kcal.append(info[1].text)\n",
    "    sugar.append(info[2].text)\n",
    "    protein.append(info[3].text)\n",
    "    natrium.append(info[4].text)\n",
    "    fat.append(info[5].text)\n",
    "    cafeeine.append(info[6].text)\n",
    "    \n",
    "len(menuName),len(kcal),len(sugar),len(protein),len(natrium),len(fat),len(cafeeine)"
   ]
  },
  {
   "cell_type": "code",
   "execution_count": 258,
   "metadata": {},
   "outputs": [],
   "source": [
    "# coffe_info.csv 저장하기\n",
    "coffee_dic={'메뉴명':menuName, '칼로리':kcal, '설탕':sugar, '단백질':protein, '나트륨':natrium, '지방':fat, '카페인':cafeeine}\n",
    "coffee_info = pd.DataFrame(coffee_dic)\n",
    "coffee_info.head()\n",
    "\n",
    "coffee_info.to_csv('coffee_info.csv', encoding='utf-8')"
   ]
  },
  {
   "cell_type": "code",
   "execution_count": null,
   "metadata": {},
   "outputs": [],
   "source": []
  }
 ],
 "metadata": {
  "kernelspec": {
   "display_name": "Python 3 (ipykernel)",
   "language": "python",
   "name": "python3"
  },
  "language_info": {
   "codemirror_mode": {
    "name": "ipython",
    "version": 3
   },
   "file_extension": ".py",
   "mimetype": "text/x-python",
   "name": "python",
   "nbconvert_exporter": "python",
   "pygments_lexer": "ipython3",
   "version": "3.9.12"
  },
  "vscode": {
   "interpreter": {
    "hash": "3d897ffbc13b5710e71e9fb36eb41d8dd58a75d8f4bd294893ab0962f9ec9b14"
   }
  }
 },
 "nbformat": 4,
 "nbformat_minor": 2
}
