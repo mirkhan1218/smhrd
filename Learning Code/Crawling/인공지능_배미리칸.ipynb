{
 "cells": [
  {
   "cell_type": "code",
   "execution_count": 32,
   "id": "ea3f4915",
   "metadata": {},
   "outputs": [],
   "source": [
    "from selenium import webdriver as wb\n",
    "from selenium.webdriver.common.keys import Keys\n",
    "from selenium.webdriver.common.by import By\n",
    "from bs4 import BeautifulSoup as bs\n",
    "import time\n",
    "import pandas as pd"
   ]
  },
  {
   "cell_type": "markdown",
   "id": "8f382685",
   "metadata": {},
   "source": [
    "## Question 2"
   ]
  },
  {
   "cell_type": "code",
   "execution_count": 5,
   "id": "4897987f",
   "metadata": {},
   "outputs": [],
   "source": [
    "driver = wb.Chrome()\n",
    "driver.get(\"https://www.naver.com\")\n",
    "\n",
    "driver.find_element(by =\"id\", value=\"query\").send_keys(\"크롤링\")\n",
    "driver.find_element(by=\"id\", value=\"search_btn\").click()"
   ]
  },
  {
   "cell_type": "markdown",
   "id": "99a126c8",
   "metadata": {},
   "source": [
    "## Question 3"
   ]
  },
  {
   "cell_type": "code",
   "execution_count": 10,
   "id": "f4f16abb",
   "metadata": {},
   "outputs": [],
   "source": [
    "# 1.\n",
    "url=\"https://corners.gmarket.co.kr/Bestsellers\"\n",
    "driver = wb.Chrome()\n",
    "driver.get(url)\n",
    "\n",
    "soup = bs(driver.page_source, 'lxml')\n",
    "driver.close()\n",
    "\n",
    "name = soup.select(\"a.itemname\")\n",
    "price = soup.select(\"strong > span\")\n",
    "\n",
    "nameList = []\n",
    "priceList =[]\n",
    "\n",
    "for i in range(20) : \n",
    "    nameList.append(name[i].text)\n",
    "    priceList.append(price[i].text)\n",
    "    \n",
    "bestList = {\"상품명\" : nameList, \"가격\" : priceList}\n",
    "\n",
    "# 2.\n",
    "pdList = pd.DataFrame(bestList)\n",
    "pdList"
   ]
  },
  {
   "cell_type": "markdown",
   "id": "76619207",
   "metadata": {},
   "source": [
    "## Question 4"
   ]
  },
  {
   "cell_type": "code",
   "execution_count": 17,
   "id": "dbad719e",
   "metadata": {},
   "outputs": [],
   "source": [
    "# 1.\n",
    "url=\"https://www.melon.com/chart/index.htm\"\n",
    "driver = wb.Chrome()\n",
    "driver.get(url)\n",
    "soup = bs(driver.page_source, 'lxml')\n",
    "driver.close()\n",
    "\n",
    "title = soup.select(\"div.ellipsis.rank01 > span > a\")\n",
    "singer = soup.select(\"div.ellipsis.rank02 >  span.checkEllipsis\")\n",
    "\n",
    "titleList = []\n",
    "singerList = []\n",
    "rank = []\n",
    "for i in range(len(title)) : \n",
    "    titleList.append(title[i].text)\n",
    "    singerList.append(singer[i].text)\n",
    "    rank.append(i+1)\n",
    "    \n",
    "melon_chart = {\"순위\" : rank, \"제목\" : titleList, \"가수\" : singerList}\n",
    "\n",
    "# 2.\n",
    "melon_100 = pd.DataFrame(melon_chart)\n",
    "melon_100"
   ]
  },
  {
   "cell_type": "code",
   "execution_count": null,
   "id": "c662ca5b",
   "metadata": {},
   "outputs": [],
   "source": [
    "# 3.\n",
    "melon_100.set_index('순위', inplace=True)\n",
    "melon_100.head()\n",
    "\n",
    "melon_100.to_csv('melon_top100.csv', encoding='utf-8')"
   ]
  },
  {
   "cell_type": "markdown",
   "id": "0d8e59e4",
   "metadata": {},
   "source": [
    "## Question 5"
   ]
  },
  {
   "cell_type": "code",
   "execution_count": 37,
   "id": "03c94d88",
   "metadata": {},
   "outputs": [
    {
     "data": {
      "text/html": [
       "<div>\n",
       "<style scoped>\n",
       "    .dataframe tbody tr th:only-of-type {\n",
       "        vertical-align: middle;\n",
       "    }\n",
       "\n",
       "    .dataframe tbody tr th {\n",
       "        vertical-align: top;\n",
       "    }\n",
       "\n",
       "    .dataframe thead th {\n",
       "        text-align: right;\n",
       "    }\n",
       "</style>\n",
       "<table border=\"1\" class=\"dataframe\">\n",
       "  <thead>\n",
       "    <tr style=\"text-align: right;\">\n",
       "      <th></th>\n",
       "      <th>상품명</th>\n",
       "      <th>가격</th>\n",
       "    </tr>\n",
       "  </thead>\n",
       "  <tbody>\n",
       "    <tr>\n",
       "      <th>0</th>\n",
       "      <td>더블함박</td>\n",
       "      <td>6,700</td>\n",
       "    </tr>\n",
       "    <tr>\n",
       "      <th>1</th>\n",
       "      <td>해바라기</td>\n",
       "      <td>10,000</td>\n",
       "    </tr>\n",
       "    <tr>\n",
       "      <th>2</th>\n",
       "      <td>데미햄버그 불고기 파스타</td>\n",
       "      <td>5,200</td>\n",
       "    </tr>\n",
       "    <tr>\n",
       "      <th>3</th>\n",
       "      <td>데미햄버그 불고기 덮밥</td>\n",
       "      <td>4,800</td>\n",
       "    </tr>\n",
       "    <tr>\n",
       "      <th>4</th>\n",
       "      <td>핫 치즈 닭갈비덮밥</td>\n",
       "      <td>5,900</td>\n",
       "    </tr>\n",
       "    <tr>\n",
       "      <th>5</th>\n",
       "      <td>오리지널 치즈 닭갈비덮밥</td>\n",
       "      <td>5,900</td>\n",
       "    </tr>\n",
       "    <tr>\n",
       "      <th>6</th>\n",
       "      <td>매화(순살 고등어 간장구이)</td>\n",
       "      <td>10,000</td>\n",
       "    </tr>\n",
       "    <tr>\n",
       "      <th>7</th>\n",
       "      <td>진달래</td>\n",
       "      <td>7,500</td>\n",
       "    </tr>\n",
       "    <tr>\n",
       "      <th>8</th>\n",
       "      <td>개나리(순살 고등어 간장구이)</td>\n",
       "      <td>8,500</td>\n",
       "    </tr>\n",
       "  </tbody>\n",
       "</table>\n",
       "</div>"
      ],
      "text/plain": [
       "                상품명      가격\n",
       "0              더블함박   6,700\n",
       "1              해바라기  10,000\n",
       "2     데미햄버그 불고기 파스타   5,200\n",
       "3      데미햄버그 불고기 덮밥   4,800\n",
       "4        핫 치즈 닭갈비덮밥   5,900\n",
       "5     오리지널 치즈 닭갈비덮밥   5,900\n",
       "6   매화(순살 고등어 간장구이)  10,000\n",
       "7               진달래   7,500\n",
       "8  개나리(순살 고등어 간장구이)   8,500"
      ]
     },
     "execution_count": 37,
     "metadata": {},
     "output_type": "execute_result"
    }
   ],
   "source": [
    "# 1.\n",
    "url=\"https://www.hsd.co.kr/menu/menu_list\"\n",
    "driver = wb.Chrome()\n",
    "driver.get(url)\n",
    "time.sleep(1)\n",
    "addTab = driver.find_element(By.CLASS_NAME, 'c_05')\n",
    "addTab.click()\n",
    "time.sleep(1)\n",
    "\n",
    "soup = bs(driver.page_source,'lxml')\n",
    "\n",
    "name = soup.select(\"h4.h.fz_03\")\n",
    "price = soup.select(\"div.item-price >  strong\")\n",
    "\n",
    "nameList = []\n",
    "priceList = []\n",
    "for i in range(len(name)) : \n",
    "    nameList.append(name[i].text)\n",
    "    priceList.append(price[i].text)\n",
    "\n",
    "menu = {\"상품명\" : nameList, \"가격\" : priceList}\n",
    "\n",
    "# 2.\n",
    "menu_pd = pd.DataFrame(menu)\n",
    "menu_pd"
   ]
  },
  {
   "cell_type": "code",
   "execution_count": null,
   "id": "dc936b34",
   "metadata": {},
   "outputs": [],
   "source": [
    "# 3.\n",
    "menu_pd.head()\n",
    "menu_pd.to_csv('menu_hansod.csv', encoding='utf-8')"
   ]
  }
 ],
 "metadata": {
  "kernelspec": {
   "display_name": "Python 3 (ipykernel)",
   "language": "python",
   "name": "python3"
  },
  "language_info": {
   "codemirror_mode": {
    "name": "ipython",
    "version": 3
   },
   "file_extension": ".py",
   "mimetype": "text/x-python",
   "name": "python",
   "nbconvert_exporter": "python",
   "pygments_lexer": "ipython3",
   "version": "3.9.12"
  }
 },
 "nbformat": 4,
 "nbformat_minor": 5
}
