{
 "cells": [
  {
   "cell_type": "code",
   "execution_count": 1,
   "id": "908f42e8",
   "metadata": {},
   "outputs": [],
   "source": [
    "import requests as req\n",
    "from bs4 import BeautifulSoup as bs\n",
    "import pandas as pd"
   ]
  },
  {
   "cell_type": "code",
   "execution_count": 6,
   "id": "ae951eb7",
   "metadata": {},
   "outputs": [],
   "source": [
    "url_main = \"https://finance.naver.com\"\n",
    "url_sub = \"/marketindex\"\n",
    "page = url_main + url_sub\n",
    "res = req.get(page)\n",
    "soup = bs(res.content, 'lxml')"
   ]
  },
  {
   "cell_type": "code",
   "execution_count": 9,
   "id": "6600e80a",
   "metadata": {},
   "outputs": [
    {
     "name": "stdout",
     "output_type": "stream",
     "text": [
      "https://finance.naver.com/marketindex/exchangeList.naver\n"
     ]
    }
   ],
   "source": [
    "# iframe # frame_ex1\n",
    "frameSrc =  soup.find('iframe', id='frame_ex1')\n",
    "\n",
    "# url_main과 iframe의 src 속성값과 연결\n",
    "print(url_main + frameSrc['src'])"
   ]
  },
  {
   "cell_type": "code",
   "execution_count": 11,
   "id": "d917eef9",
   "metadata": {},
   "outputs": [],
   "source": [
    "replaPage = url_main + frameSrc['src']\n",
    "\n",
    "res = req.get(replaPage)\n",
    "soup = bs(res.content, 'lxml')"
   ]
  },
  {
   "cell_type": "code",
   "execution_count": 12,
   "id": "50671ab4",
   "metadata": {},
   "outputs": [
    {
     "data": {
      "text/plain": [
       "44"
      ]
     },
     "execution_count": 12,
     "metadata": {},
     "output_type": "execute_result"
    }
   ],
   "source": [
    "money = soup.select('td.tit > a')\n",
    "len(money)"
   ]
  },
  {
   "cell_type": "code",
   "execution_count": 13,
   "id": "e4d8ae41",
   "metadata": {},
   "outputs": [
    {
     "data": {
      "text/plain": [
       "44"
      ]
     },
     "execution_count": 13,
     "metadata": {},
     "output_type": "execute_result"
    }
   ],
   "source": [
    "sale = soup.select('td.sale')\n",
    "len(sale)"
   ]
  },
  {
   "cell_type": "code",
   "execution_count": 35,
   "id": "8ccff6b7",
   "metadata": {},
   "outputs": [
    {
     "data": {
      "text/plain": [
       "(44, 44, 44)"
      ]
     },
     "execution_count": 35,
     "metadata": {},
     "output_type": "execute_result"
    }
   ],
   "source": [
    "length = soup.select('td.tit > a')\n",
    "\n",
    "num = []    # 순번\n",
    "moneys = []    # 통화명\n",
    "sales = []    # 매매기준\n",
    "\n",
    "for i in range(len(length)):\n",
    "    money = soup.select('td.tit > a')[i].text.strip()\n",
    "    sale =  soup.select('td.sale')[i].text\n",
    "    \n",
    "    num.append(i+1)\n",
    "    moneys.append(money)\n",
    "    sales.append(sale)\n",
    "    \n",
    "len(num), len(moneys), len(sales)"
   ]
  },
  {
   "cell_type": "code",
   "execution_count": 36,
   "id": "4a12b45b",
   "metadata": {},
   "outputs": [
    {
     "data": {
      "text/html": [
       "<div>\n",
       "<style scoped>\n",
       "    .dataframe tbody tr th:only-of-type {\n",
       "        vertical-align: middle;\n",
       "    }\n",
       "\n",
       "    .dataframe tbody tr th {\n",
       "        vertical-align: top;\n",
       "    }\n",
       "\n",
       "    .dataframe thead th {\n",
       "        text-align: right;\n",
       "    }\n",
       "</style>\n",
       "<table border=\"1\" class=\"dataframe\">\n",
       "  <thead>\n",
       "    <tr style=\"text-align: right;\">\n",
       "      <th></th>\n",
       "      <th>통화명</th>\n",
       "      <th>매매기준</th>\n",
       "    </tr>\n",
       "    <tr>\n",
       "      <th>Num</th>\n",
       "      <th></th>\n",
       "      <th></th>\n",
       "    </tr>\n",
       "  </thead>\n",
       "  <tbody>\n",
       "    <tr>\n",
       "      <th>1</th>\n",
       "      <td>미국 USD</td>\n",
       "      <td>1,325.90</td>\n",
       "    </tr>\n",
       "    <tr>\n",
       "      <th>2</th>\n",
       "      <td>유럽연합 EUR</td>\n",
       "      <td>1,336.77</td>\n",
       "    </tr>\n",
       "    <tr>\n",
       "      <th>3</th>\n",
       "      <td>일본 JPY (100엔)</td>\n",
       "      <td>973.92</td>\n",
       "    </tr>\n",
       "    <tr>\n",
       "      <th>4</th>\n",
       "      <td>중국 CNY</td>\n",
       "      <td>194.73</td>\n",
       "    </tr>\n",
       "    <tr>\n",
       "      <th>5</th>\n",
       "      <td>홍콩 HKD</td>\n",
       "      <td>169.02</td>\n",
       "    </tr>\n",
       "  </tbody>\n",
       "</table>\n",
       "</div>"
      ],
      "text/plain": [
       "               통화명      매매기준\n",
       "Num                         \n",
       "1           미국 USD  1,325.90\n",
       "2         유럽연합 EUR  1,336.77\n",
       "3    일본 JPY (100엔)    973.92\n",
       "4           중국 CNY    194.73\n",
       "5           홍콩 HKD    169.02"
      ]
     },
     "execution_count": 36,
     "metadata": {},
     "output_type": "execute_result"
    }
   ],
   "source": [
    "# num, 통화명, 매매기준일 값을 DataFrame으로 만들기\n",
    "money_info = {'Num':num, '통화명':moneys, '매매기준':sales}\n",
    "money = pd.DataFrame(money_info)\n",
    "money.set_index('Num', inplace=True)\n",
    "money.head()"
   ]
  },
  {
   "cell_type": "code",
   "execution_count": 32,
   "id": "d73905ee",
   "metadata": {},
   "outputs": [],
   "source": [
    "# money.csv 저장하기\n",
    "money.to_csv(\"money.csv\", encoding=\"utf-8\")"
   ]
  },
  {
   "cell_type": "markdown",
   "id": "8fd18cd5",
   "metadata": {},
   "source": [
    "#### 페이지 이동하면서 추출하기"
   ]
  },
  {
   "cell_type": "code",
   "execution_count": 42,
   "id": "673872e8",
   "metadata": {},
   "outputs": [
    {
     "data": {
      "text/plain": [
       "'[programming] [react] react 작업환경 설'"
      ]
     },
     "execution_count": 42,
     "metadata": {},
     "output_type": "execute_result"
    }
   ],
   "source": [
    "url_main = 'https://pjt3591oo.github.io/'\n",
    "res=req.get(url_main)\n",
    "soup = bs(res.content, 'lxml')"
   ]
  },
  {
   "cell_type": "code",
   "execution_count": 44,
   "id": "42787bde",
   "metadata": {},
   "outputs": [
    {
     "data": {
      "text/plain": [
       "10"
      ]
     },
     "execution_count": 44,
     "metadata": {},
     "output_type": "execute_result"
    }
   ],
   "source": [
    "titles =  soup.select('div.p > h3 > a')\n",
    "len(titles)"
   ]
  },
  {
   "cell_type": "code",
   "execution_count": 45,
   "id": "2d8b8d43",
   "metadata": {},
   "outputs": [
    {
     "data": {
      "text/plain": [
       "10"
      ]
     },
     "execution_count": 45,
     "metadata": {},
     "output_type": "execute_result"
    }
   ],
   "source": [
    "contents = soup.select('div.p > h4')\n",
    "len(contents)"
   ]
  },
  {
   "cell_type": "code",
   "execution_count": 46,
   "id": "237257a5",
   "metadata": {},
   "outputs": [
    {
     "data": {
      "text/plain": [
       "10"
      ]
     },
     "execution_count": 46,
     "metadata": {},
     "output_type": "execute_result"
    }
   ],
   "source": [
    "authors = soup.find_all('span', 'date')\n",
    "len(authors)"
   ]
  },
  {
   "cell_type": "code",
   "execution_count": 47,
   "id": "16323e28",
   "metadata": {},
   "outputs": [
    {
     "data": {
      "text/plain": [
       "'박정태'"
      ]
     },
     "execution_count": 47,
     "metadata": {},
     "output_type": "execute_result"
    }
   ],
   "source": [
    "authors[0].text[-3:]    # 뒤에 세글자 이름만 출력"
   ]
  },
  {
   "cell_type": "code",
   "execution_count": 64,
   "id": "239a6914",
   "metadata": {
    "collapsed": true
   },
   "outputs": [
    {
     "name": "stdout",
     "output_type": "stream",
     "text": [
      "제목 : [programming] [react] react 작업환경 설\n",
      "내용 : react를 시작하기 전에 환경셋팅을 해보자\n",
      "작성자 : 박정태\n",
      "----------------------------------------------------------------------------------------------------\n",
      "제목 : [programming] drag and drop을 이용하여 파일 업로드를 해보자\n",
      "내용 : query의 외부 라이브러리가 아닌 drag, drop 이벤트를 활용하여 기능 구현해보기\n",
      "작성자 : 박정태\n",
      "----------------------------------------------------------------------------------------------------\n",
      "제목 : [database] mysqldump를 이용하여 데이터 백업, 복원하기\n",
      "내용 : mysqldump를 이용하여 디비 백업과 source를 이용하여 데이터 복원을 해보자\n",
      "작성자 : 박정태\n",
      "----------------------------------------------------------------------------------------------------\n",
      "제목 : [database] mysql 원격접속하는 방법\n",
      "내용 : mysql 디비설정, 유저설정을 통해 원격접속\n",
      "작성자 : 박정태\n",
      "----------------------------------------------------------------------------------------------------\n",
      "제목 : [node.js] 파일 리더기 만들기 - 사용 모듈 정리, pdf와 hwp 구조\n",
      "내용 : docx, hwp, pdf 파일\n",
      "작성자 : 박정태\n",
      "----------------------------------------------------------------------------------------------------\n",
      "제목 : [node.js] 파일 리더기 만들기 - pdf를 html로 변환, docx를 pdf로 변환\n",
      "내용 : pdf파일 html로 변경하기\n",
      "작성자 : 박정태\n",
      "----------------------------------------------------------------------------------------------------\n",
      "제목 : [programming] git 원격 저장소 바꾸기\n",
      "내용 : remote set-url을 이용하여 원격 저장소를 바꾸자\n",
      "작성자 : 박정태\n",
      "----------------------------------------------------------------------------------------------------\n",
      "제목 : [programming] python working directory를 바꿔보자\n",
      "내용 : working directory설정을 하여 경로 문제를 해결하자\n",
      "작성자 : 박정태\n",
      "----------------------------------------------------------------------------------------------------\n",
      "제목 : [server] docker commends\n",
      "내용 : 도커의 명령어들을 간단하게 알아보기\n",
      "작성자 : 박정태\n",
      "----------------------------------------------------------------------------------------------------\n",
      "제목 : [programming] python utc를 timestamp로 바꾸는 방법\n",
      "내용 : python에서 utc를 timestamp로 바꾸는 방법\n",
      "작성자 : 박정태\n",
      "----------------------------------------------------------------------------------------------------\n",
      "제목 : [programming] ubuntu에 php 개발환경 셋팅\n",
      "내용 : 우분투에 php를 설치해보자\n",
      "작성자 : 박정태\n",
      "----------------------------------------------------------------------------------------------------\n",
      "제목 : [server] azure-cli를 이용하여 azure 사용하기\n",
      "내용 : 대시보드를 사용하지 않고 azure-cli로 azure를 이용하기\n",
      "작성자 : 박정태\n",
      "----------------------------------------------------------------------------------------------------\n",
      "제목 : [tools] ssh-keygen을 이용한 ssh 키 파일 생성\n",
      "내용 : 여러가지 인증 방법 중 ssh를 이용하기 위한 키 파일 생성방법\n",
      "작성자 : 박정태\n",
      "----------------------------------------------------------------------------------------------------\n",
      "제목 : [programming] 제너레이터(generator)를 활용한 효율적인 코드작성\n",
      "내용 : 효율적인 코드 작성을 위한 generator 사용방법 입니다.\n",
      "작성자 : 박정태\n",
      "----------------------------------------------------------------------------------------------------\n",
      "제목 : [node.js] Jade Template Engine을 활용한 효율적 관리\n",
      "내용 : \n",
      "작성자 : 박정태\n",
      "----------------------------------------------------------------------------------------------------\n",
      "제목 : [tools] vim 각종 설정들로 부터 귀차니즘을 벗어나자\n",
      "내용 : \n",
      "작성자 : 박정태\n",
      "----------------------------------------------------------------------------------------------------\n",
      "제목 : [node.js] sequelize - Migrations[번역]\n",
      "내용 : \n",
      "작성자 : 박정태\n",
      "----------------------------------------------------------------------------------------------------\n",
      "제목 : [node.js] sequelize - Usage[번역]\n",
      "내용 : \n",
      "작성자 : 박정태\n",
      "----------------------------------------------------------------------------------------------------\n",
      "제목 : [node.js] sequelize - Hooks[번역]\n",
      "내용 : \n",
      "작성자 : 박정태\n",
      "----------------------------------------------------------------------------------------------------\n",
      "제목 : [node.js] sequelize - Querying[번역]\n",
      "내용 : \n",
      "작성자 : 박정태\n",
      "----------------------------------------------------------------------------------------------------\n",
      "제목 : [node.js] sequelize - Working With Legacy Tables[번역]\n",
      "내용 : \n",
      "작성자 : 박정태\n",
      "----------------------------------------------------------------------------------------------------\n",
      "제목 : [node.js] sequelize - Getting Started[번역]\n",
      "내용 : \n",
      "작성자 : 박정태\n",
      "----------------------------------------------------------------------------------------------------\n",
      "제목 : [node.js] sequelize - Home[번역]\n",
      "내용 : \n",
      "작성자 : 박정태\n",
      "----------------------------------------------------------------------------------------------------\n",
      "제목 : [machine-learning] Classification using Naive Bayes\n",
      "내용 : \n",
      "작성자 : 박정태\n",
      "----------------------------------------------------------------------------------------------------\n",
      "제목 : [framework] Structure aiohttp Of python\n",
      "내용 : python 경량 서버 프레임 워크인 apihttp에 대한 boilerplate작성 및 설명입니다.\n",
      "작성자 : 박정태\n",
      "----------------------------------------------------------------------------------------------------\n",
      "제목 : [framework] Structure Express Of Node\n",
      "내용 : \n",
      "작성자 : 박정태\n",
      "----------------------------------------------------------------------------------------------------\n",
      "제목 : [programming] Javascript Asynchronous, synchronous and Promise\n",
      "내용 : \n",
      "작성자 : 박정태\n",
      "----------------------------------------------------------------------------------------------------\n",
      "제목 : [database] RDBMS vs NoSQL vs InMemory\n",
      "내용 : Database에 대한 설명입니다.\n",
      "작성자 : 박정태\n",
      "----------------------------------------------------------------------------------------------------\n",
      "제목 : [news] Django 1.11 Release\n",
      "내용 : Django1.11 버전 release note입니다\n",
      "작성자 : 박정태\n",
      "----------------------------------------------------------------------------------------------------\n",
      "제목 : [programming] javascript arrow function과 array.prototype의 조합\n",
      "내용 : javascript의 화살표 함수에 대한 글입니다.\n",
      "작성자 : 박정태\n",
      "----------------------------------------------------------------------------------------------------\n",
      "제목 : [intro] Welcome to mung\n",
      "내용 : \n",
      "작성자 : 박정태\n",
      "----------------------------------------------------------------------------------------------------\n",
      "종료!\n"
     ]
    }
   ],
   "source": [
    "num = 1\n",
    "\n",
    "url_main = 'https://pjt3591oo.github.io/'\n",
    "\n",
    "while True:\n",
    "    if num == 1:\n",
    "        page = url_main\n",
    "        \n",
    "    else:\n",
    "        url_sub = 'page'+str(num)\n",
    "        page = url_main + url_sub\n",
    "    \n",
    "    res = req.get(page)\n",
    "    soup = bs(res.content, 'lxml')\n",
    "    \n",
    "    titles =  soup.select('div.p > h3 > a')\n",
    "    contents = soup.select('div.p > h4')\n",
    "    authors = soup.find_all('span', 'date')\n",
    "    \n",
    "    for i in range(len(contents)):\n",
    "        print('제목 : ' + titles[i].text)\n",
    "        print('내용 : ' + contents[i].text.strip())\n",
    "        print('작성자 : ' + authors[i].text[-3:])\n",
    "        print(\"-\" * 100)\n",
    "    \n",
    "    num += 1\n",
    "    \n",
    "    if res.status_code != 200:\n",
    "        print('종료!')\n",
    "        break;"
   ]
  },
  {
   "cell_type": "markdown",
   "id": "0adf9ac7",
   "metadata": {},
   "source": [
    "#### 멜론 Top 50위 노래제목, 가수, 앨범수집"
   ]
  },
  {
   "cell_type": "code",
   "execution_count": 70,
   "id": "f359f809",
   "metadata": {},
   "outputs": [],
   "source": [
    "url = 'https://www.melon.com/chart/'\n",
    "h = {'user-agent':'Mozilla/5.0 (Windows NT 10.0; Win64; x64) AppleWebKit/537.36 (KHTML, like Gecko) Chrome/104.0.0.0 Safari/537.36'}\n",
    "res = req.get(url, headers = h)\n",
    "soup = bs(res.content, 'lxml')"
   ]
  },
  {
   "cell_type": "code",
   "execution_count": 74,
   "id": "3eab7a67",
   "metadata": {},
   "outputs": [
    {
     "data": {
      "text/plain": [
       "100"
      ]
     },
     "execution_count": 74,
     "metadata": {},
     "output_type": "execute_result"
    }
   ],
   "source": [
    "titles = soup.select('div.ellipsis.rank01>span>a')\n",
    "len(titles)"
   ]
  },
  {
   "cell_type": "code",
   "execution_count": 73,
   "id": "4a065c61",
   "metadata": {},
   "outputs": [
    {
     "data": {
      "text/plain": [
       "100"
      ]
     },
     "execution_count": 73,
     "metadata": {},
     "output_type": "execute_result"
    }
   ],
   "source": [
    "singer = soup.select('div.ellipsis.rank02>a+ span')\n",
    "len(singer)"
   ]
  },
  {
   "cell_type": "code",
   "execution_count": 78,
   "id": "005281fc",
   "metadata": {},
   "outputs": [
    {
     "data": {
      "text/plain": [
       "100"
      ]
     },
     "execution_count": 78,
     "metadata": {},
     "output_type": "execute_result"
    }
   ],
   "source": [
    "albums = soup.select('div.ellipsis.rank03>a')\n",
    "len(albums)"
   ]
  },
  {
   "cell_type": "code",
   "execution_count": 97,
   "id": "a0688fe4",
   "metadata": {},
   "outputs": [
    {
     "data": {
      "text/plain": [
       "(50, 50, 50)"
      ]
     },
     "execution_count": 97,
     "metadata": {},
     "output_type": "execute_result"
    }
   ],
   "source": [
    "# 1. 반복문을 써서 제목 가수 앨범을 리스트에 추가\n",
    "\n",
    "rank = []\n",
    "titles = []\n",
    "singers = []\n",
    "albums = []\n",
    "\n",
    "length = soup.select('div.ellipsis.rank01>span>a', limit = 50)\n",
    "\n",
    "for i in range(len(length)):\n",
    "    title = soup.select('div.ellipsis.rank01>span>a', limit = 50)[i].text\n",
    "    singer = soup.select('div.ellipsis.rank02>a+span', limit = 50)[i].text\n",
    "    album = soup.select('div.ellipsis.rank03>a', limit = 50)[i].text\n",
    "    \n",
    "    rank.append(i+1)\n",
    "    titles.append(title)\n",
    "    singers.append(singer)\n",
    "    albums.append(album)\n",
    "    \n",
    "len(titles), len(singers), len(albums)"
   ]
  },
  {
   "cell_type": "code",
   "execution_count": 98,
   "id": "79c5af58",
   "metadata": {},
   "outputs": [],
   "source": [
    "# DataFrame 안에 제목 가수 앨범명을 넣어서 melon.csv로 저장\n",
    "df = {'순위':rank, '제목':titles, '가수':singers, '앨범명':albums}\n",
    "sing = pd.DataFrame(df)\n",
    "sing.set_index('순위', inplace=True)\n",
    "sing.head()\n",
    "\n",
    "sing.to_csv('melon.csv', encoding='utf-8')"
   ]
  },
  {
   "cell_type": "markdown",
   "id": "d9c5d0da",
   "metadata": {},
   "source": [
    "#### 이미지 저장하기"
   ]
  },
  {
   "cell_type": "code",
   "execution_count": 99,
   "id": "7c84ed6e",
   "metadata": {},
   "outputs": [
    {
     "data": {
      "text/plain": [
       "100"
      ]
     },
     "execution_count": 99,
     "metadata": {},
     "output_type": "execute_result"
    }
   ],
   "source": [
    "images = soup.select('a.image_typeAll>img')\n",
    "len(images)"
   ]
  },
  {
   "cell_type": "code",
   "execution_count": 100,
   "id": "22a98b34",
   "metadata": {},
   "outputs": [
    {
     "data": {
      "text/plain": [
       "'https://cdnimg.melon.co.kr/cm2/album/images/110/11/565/11011565_20220801102637_500.jpg/melon/resize/120/quality/80/optimize'"
      ]
     },
     "execution_count": 100,
     "metadata": {},
     "output_type": "execute_result"
    }
   ],
   "source": [
    "images[0].attrs['src']"
   ]
  },
  {
   "cell_type": "code",
   "execution_count": 101,
   "id": "8a351097",
   "metadata": {},
   "outputs": [
    {
     "data": {
      "text/plain": [
       "'https://cdnimg.melon.co.kr/cm2/album/images/110/11/565/11011565_20220801102637_500.jpg/melon/resize/120/quality/80/optimize'"
      ]
     },
     "execution_count": 101,
     "metadata": {},
     "output_type": "execute_result"
    }
   ],
   "source": [
    "images[0].get('src')"
   ]
  },
  {
   "cell_type": "code",
   "execution_count": 104,
   "id": "3c4dba09",
   "metadata": {},
   "outputs": [],
   "source": [
    "img_list = []\n",
    "\n",
    "for i in images:\n",
    "    img_list.append(i.get('src'))"
   ]
  },
  {
   "cell_type": "code",
   "execution_count": 105,
   "id": "64360052",
   "metadata": {},
   "outputs": [],
   "source": [
    "from urllib.request import urlretrieve"
   ]
  },
  {
   "cell_type": "code",
   "execution_count": 109,
   "id": "1ced8b10",
   "metadata": {},
   "outputs": [],
   "source": [
    "# 1.png ~ 100.png\n",
    "cnt = 0\n",
    "for src in img_list:\n",
    "    cnt += 1\n",
    "    \n",
    "    # urlretrieve('이미지주소', '저장할 파일이름')\n",
    "    urlretrieve(src,\"./image/{}.png\".format(cnt))"
   ]
  },
  {
   "cell_type": "markdown",
   "id": "da34b47b",
   "metadata": {},
   "source": [
    "#### 샌드위치 맛집"
   ]
  },
  {
   "cell_type": "code",
   "execution_count": 135,
   "id": "31e1c916",
   "metadata": {},
   "outputs": [],
   "source": [
    "url_main = 'https://www.chicagomag.com/'\n",
    "url_sub = '/Chicago-Magazine/November-2012/Best-Sandwiches-Chicago/'\n",
    "url = url_main + url_sub\n",
    "h = {'user-agent':'Mozilla/5.0 (Windows NT 10.0; Win64; x64) AppleWebKit/537.36 (KHTML, like Gecko) Chrome/104.0.0.0 Safari/537.36'}\n",
    "res = req.get(url, headers = h)\n",
    "soup = bs(res.content, 'lxml')"
   ]
  },
  {
   "cell_type": "code",
   "execution_count": 136,
   "id": "a1355307",
   "metadata": {},
   "outputs": [
    {
     "data": {
      "text/plain": [
       "'/Chicago-Magazine/November-2012/Best-Sandwiches-in-Chicago-Old-Oak-Tap-BLT/'"
      ]
     },
     "execution_count": 136,
     "metadata": {},
     "output_type": "execute_result"
    }
   ],
   "source": [
    "temp = soup.select('div.sammyListing>a')[0]['href']\n",
    "temp"
   ]
  },
  {
   "cell_type": "code",
   "execution_count": 137,
   "id": "1efeeb87",
   "metadata": {},
   "outputs": [
    {
     "data": {
      "text/plain": [
       "'\\n1\\nBLT\\nOld Oak Tap\\nRead more \\n'"
      ]
     },
     "execution_count": 137,
     "metadata": {},
     "output_type": "execute_result"
    }
   ],
   "source": [
    "temp2 = soup.select('div.sammy')[0].text\n",
    "temp2"
   ]
  },
  {
   "cell_type": "code",
   "execution_count": 145,
   "id": "b6e9827d",
   "metadata": {},
   "outputs": [
    {
     "data": {
      "text/plain": [
       "['BLT', 'Old Oak Tap', 'Read more ']"
      ]
     },
     "execution_count": 145,
     "metadata": {},
     "output_type": "execute_result"
    }
   ],
   "source": [
    "import re\n",
    "\n",
    "tmp = soup.select('div.sammyListing')\n",
    "temp3 = re.split(('\\n'),tmp[0].text)\n",
    "temp3"
   ]
  },
  {
   "cell_type": "code",
   "execution_count": 151,
   "id": "e73790a6",
   "metadata": {},
   "outputs": [
    {
     "data": {
      "text/plain": [
       "(50, 50, 50, 50)"
      ]
     },
     "execution_count": 151,
     "metadata": {},
     "output_type": "execute_result"
    }
   ],
   "source": [
    "rank=[]\n",
    "main_menu=[]\n",
    "cafe_name=[]\n",
    "url_add=[]\n",
    "\n",
    "list_soup = soup.find_all('div','sammy')\n",
    "\n",
    "for i in list_soup:\n",
    "    rank.append(i.select_one('.sammyRank').text)\n",
    "    \n",
    "    tmp=soup.select_one('div.sammyListing').text\n",
    "    \n",
    "    main_menu.append(re.split(('\\n'), tmp)[0])\n",
    "    cafe_name.append(re.split(('\\n'), tmp)[1])\n",
    "    url_add.append(url_main + i.select('a')[0]['href'])\n",
    "    \n",
    "len(rank),len(main_menu),len(cafe_name),len(url_add)"
   ]
  },
  {
   "cell_type": "code",
   "execution_count": null,
   "id": "9a77e8b3",
   "metadata": {},
   "outputs": [],
   "source": []
  }
 ],
 "metadata": {
  "kernelspec": {
   "display_name": "Python 3 (ipykernel)",
   "language": "python",
   "name": "python3"
  },
  "language_info": {
   "codemirror_mode": {
    "name": "ipython",
    "version": 3
   },
   "file_extension": ".py",
   "mimetype": "text/x-python",
   "name": "python",
   "nbconvert_exporter": "python",
   "pygments_lexer": "ipython3",
   "version": "3.9.12"
  }
 },
 "nbformat": 4,
 "nbformat_minor": 5
}
