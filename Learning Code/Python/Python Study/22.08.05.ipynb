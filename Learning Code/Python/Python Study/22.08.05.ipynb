{
 "cells": [
  {
   "cell_type": "markdown",
   "id": "29b8eaec",
   "metadata": {},
   "source": [
    "### 딕셔너리\n",
    "- key와 value가 한 쌍을 이루는 자료형\n",
    "- {}, k:v 이용"
   ]
  },
  {
   "cell_type": "code",
   "execution_count": 1,
   "id": "ed0af4ab",
   "metadata": {},
   "outputs": [],
   "source": [
    "# 딕셔너리 생성\n",
    "dic_1 = {'name':'세연쌤','age':21, 'phone':'010-0000-0000'}"
   ]
  },
  {
   "cell_type": "code",
   "execution_count": 3,
   "id": "96d46649",
   "metadata": {},
   "outputs": [
    {
     "data": {
      "text/plain": [
       "dict"
      ]
     },
     "execution_count": 3,
     "metadata": {},
     "output_type": "execute_result"
    }
   ],
   "source": [
    "# 자료형 타입 확인 함수\n",
    "type(dic_1)"
   ]
  },
  {
   "cell_type": "code",
   "execution_count": 7,
   "id": "6340c598",
   "metadata": {},
   "outputs": [],
   "source": [
    "# 딕셔너리 값 추가\n",
    "dic_1['birth'] = '03/20'"
   ]
  },
  {
   "cell_type": "code",
   "execution_count": 9,
   "id": "7aca9cd2",
   "metadata": {},
   "outputs": [
    {
     "data": {
      "text/plain": [
       "{'name': '세연쌤', 'age': 21, 'phone': '010-0000-0000', 'birth': '03/20'}"
      ]
     },
     "execution_count": 9,
     "metadata": {},
     "output_type": "execute_result"
    }
   ],
   "source": [
    "dic_1"
   ]
  },
  {
   "cell_type": "code",
   "execution_count": 10,
   "id": "d7426347",
   "metadata": {},
   "outputs": [],
   "source": [
    "dic_1['like'] = 'money'"
   ]
  },
  {
   "cell_type": "code",
   "execution_count": 11,
   "id": "0ca247cd",
   "metadata": {},
   "outputs": [
    {
     "data": {
      "text/plain": [
       "{'name': '세연쌤',\n",
       " 'age': 21,\n",
       " 'phone': '010-0000-0000',\n",
       " 'birth': '03/20',\n",
       " 'like': 'money'}"
      ]
     },
     "execution_count": 11,
     "metadata": {},
     "output_type": "execute_result"
    }
   ],
   "source": [
    "dic_1"
   ]
  },
  {
   "cell_type": "code",
   "execution_count": 12,
   "id": "b30388e7",
   "metadata": {},
   "outputs": [],
   "source": [
    "dic_test = {'노래제목':'아무노래'}\n",
    "dic_test['가수'] = '지코'\n",
    "dic_test['날짜'] = '2020.01.13'"
   ]
  },
  {
   "cell_type": "code",
   "execution_count": 13,
   "id": "966b88f9",
   "metadata": {},
   "outputs": [
    {
     "data": {
      "text/plain": [
       "{'노래제목': '아무노래', '가수': '지코', '날짜': '2020.01.13'}"
      ]
     },
     "execution_count": 13,
     "metadata": {},
     "output_type": "execute_result"
    }
   ],
   "source": [
    "dic_test"
   ]
  },
  {
   "cell_type": "code",
   "execution_count": 14,
   "id": "42aae1a9",
   "metadata": {},
   "outputs": [
    {
     "data": {
      "text/plain": [
       "'아무노래'"
      ]
     },
     "execution_count": 14,
     "metadata": {},
     "output_type": "execute_result"
    }
   ],
   "source": [
    "# 딕셔너리 값 가져오기\n",
    "# 딕셔너리[key]\n",
    "dic_test['노래제목']"
   ]
  },
  {
   "cell_type": "code",
   "execution_count": 16,
   "id": "4e76e97b",
   "metadata": {},
   "outputs": [
    {
     "data": {
      "text/plain": [
       "{'name': '세연쌤',\n",
       " 'age': 21,\n",
       " 'phone': '010-0000-0000',\n",
       " 'birth': '03/20',\n",
       " 'like': 'money'}"
      ]
     },
     "execution_count": 16,
     "metadata": {},
     "output_type": "execute_result"
    }
   ],
   "source": [
    "dic_1"
   ]
  },
  {
   "cell_type": "code",
   "execution_count": 17,
   "id": "409e6c13",
   "metadata": {},
   "outputs": [
    {
     "data": {
      "text/plain": [
       "21"
      ]
     },
     "execution_count": 17,
     "metadata": {},
     "output_type": "execute_result"
    }
   ],
   "source": [
    "dic_1['age']"
   ]
  },
  {
   "cell_type": "code",
   "execution_count": 18,
   "id": "8d43f18f",
   "metadata": {
    "collapsed": true
   },
   "outputs": [
    {
     "ename": "TypeError",
     "evalue": "'dict' object is not callable",
     "output_type": "error",
     "traceback": [
      "\u001b[1;31m---------------------------------------------------------------------------\u001b[0m",
      "\u001b[1;31mTypeError\u001b[0m                                 Traceback (most recent call last)",
      "Input \u001b[1;32mIn [18]\u001b[0m, in \u001b[0;36m<cell line: 2>\u001b[1;34m()\u001b[0m\n\u001b[0;32m      1\u001b[0m \u001b[38;5;66;03m# 없는 key 값은 가져올 수 없다 (에러)\u001b[39;00m\n\u001b[1;32m----> 2\u001b[0m \u001b[43mdic_1\u001b[49m\u001b[43m(\u001b[49m\u001b[38;5;124;43m'\u001b[39;49m\u001b[38;5;124;43mmoney\u001b[39;49m\u001b[38;5;124;43m'\u001b[39;49m\u001b[43m)\u001b[49m\n",
      "\u001b[1;31mTypeError\u001b[0m: 'dict' object is not callable"
     ]
    }
   ],
   "source": [
    "# 없는 key 값은 가져올 수 없다 (에러)\n",
    "dic_1('money')"
   ]
  },
  {
   "cell_type": "code",
   "execution_count": 19,
   "id": "57c33b17",
   "metadata": {},
   "outputs": [
    {
     "data": {
      "text/plain": [
       "'money'"
      ]
     },
     "execution_count": 19,
     "metadata": {},
     "output_type": "execute_result"
    }
   ],
   "source": [
    "# 딕셔너리 값 가져오기 2\n",
    "# 딕셔너리.get(key)\n",
    "dic_1.get('like')"
   ]
  },
  {
   "cell_type": "code",
   "execution_count": 22,
   "id": "0f4f3f03",
   "metadata": {},
   "outputs": [
    {
     "name": "stdout",
     "output_type": "stream",
     "text": [
      "None\n"
     ]
    }
   ],
   "source": [
    "# 없는 key값은 None\n",
    "print(dic_1.get('gold'))"
   ]
  },
  {
   "cell_type": "code",
   "execution_count": 23,
   "id": "793508f4",
   "metadata": {},
   "outputs": [],
   "source": [
    "# 딕셔너리 값 수정\n",
    "dic_1['age'] = 22"
   ]
  },
  {
   "cell_type": "code",
   "execution_count": 24,
   "id": "202d1bdd",
   "metadata": {},
   "outputs": [
    {
     "data": {
      "text/plain": [
       "{'name': '세연쌤',\n",
       " 'age': 22,\n",
       " 'phone': '010-0000-0000',\n",
       " 'birth': '03/20',\n",
       " 'like': 'money'}"
      ]
     },
     "execution_count": 24,
     "metadata": {},
     "output_type": "execute_result"
    }
   ],
   "source": [
    "# key 값이 중복될 수 없다\n",
    "dic_1"
   ]
  },
  {
   "cell_type": "code",
   "execution_count": 27,
   "id": "597e7388",
   "metadata": {},
   "outputs": [],
   "source": [
    "dic_1['age'] = {'작년':20, '올해':21, '내년':22}"
   ]
  },
  {
   "cell_type": "code",
   "execution_count": 29,
   "id": "7879b78a",
   "metadata": {},
   "outputs": [
    {
     "data": {
      "text/plain": [
       "{'name': '세연쌤',\n",
       " 'age': {'작년': 20, '올해': 21, '내년': 22},\n",
       " 'phone': '010-0000-0000',\n",
       " 'birth': '03/20',\n",
       " 'like': 'money'}"
      ]
     },
     "execution_count": 29,
     "metadata": {},
     "output_type": "execute_result"
    }
   ],
   "source": [
    "dic_1"
   ]
  },
  {
   "cell_type": "code",
   "execution_count": 30,
   "id": "84eb31d6",
   "metadata": {},
   "outputs": [
    {
     "data": {
      "text/plain": [
       "21"
      ]
     },
     "execution_count": 30,
     "metadata": {},
     "output_type": "execute_result"
    }
   ],
   "source": [
    "dic_1['age']['올해']"
   ]
  },
  {
   "cell_type": "code",
   "execution_count": 31,
   "id": "d2350fc7",
   "metadata": {},
   "outputs": [],
   "source": [
    "# 딕셔너리 값 삭제\n",
    "# del 딕셔너리['key']\n",
    "del dic_1['phone']"
   ]
  },
  {
   "cell_type": "code",
   "execution_count": 32,
   "id": "dab77b89",
   "metadata": {},
   "outputs": [
    {
     "data": {
      "text/plain": [
       "{'name': '세연쌤',\n",
       " 'age': {'작년': 20, '올해': 21, '내년': 22},\n",
       " 'birth': '03/20',\n",
       " 'like': 'money'}"
      ]
     },
     "execution_count": 32,
     "metadata": {},
     "output_type": "execute_result"
    }
   ],
   "source": [
    "dic_1"
   ]
  },
  {
   "cell_type": "markdown",
   "id": "d0b91dff",
   "metadata": {},
   "source": [
    "##### 딕셔너리 관련 함수"
   ]
  },
  {
   "cell_type": "code",
   "execution_count": 33,
   "id": "29ee94a1",
   "metadata": {},
   "outputs": [
    {
     "data": {
      "text/plain": [
       "dict_keys(['name', 'age', 'birth', 'like'])"
      ]
     },
     "execution_count": 33,
     "metadata": {},
     "output_type": "execute_result"
    }
   ],
   "source": [
    "# key 값만 뽑는 함수\n",
    "dic_1.keys()"
   ]
  },
  {
   "cell_type": "code",
   "execution_count": 34,
   "id": "52059cc7",
   "metadata": {},
   "outputs": [
    {
     "data": {
      "text/plain": [
       "dict_values(['세연쌤', {'작년': 20, '올해': 21, '내년': 22}, '03/20', 'money'])"
      ]
     },
     "execution_count": 34,
     "metadata": {},
     "output_type": "execute_result"
    }
   ],
   "source": [
    "# value 값만 뽑는 함수\n",
    "dic_1.values()"
   ]
  },
  {
   "cell_type": "code",
   "execution_count": 35,
   "id": "81ff5a85",
   "metadata": {},
   "outputs": [
    {
     "name": "stdout",
     "output_type": "stream",
     "text": [
      "name\n",
      "age\n",
      "birth\n",
      "like\n"
     ]
    }
   ],
   "source": [
    "# for문 - key 값 가져오기\n",
    "for k in dic_1.keys():\n",
    "    print(k)"
   ]
  },
  {
   "cell_type": "code",
   "execution_count": 36,
   "id": "aed2fa6e",
   "metadata": {},
   "outputs": [
    {
     "name": "stdout",
     "output_type": "stream",
     "text": [
      "세연쌤\n",
      "{'작년': 20, '올해': 21, '내년': 22}\n",
      "03/20\n",
      "money\n"
     ]
    }
   ],
   "source": [
    "# for문 - values 값 가져오기\n",
    "for k in dic_1.values():\n",
    "    print(k)"
   ]
  },
  {
   "cell_type": "code",
   "execution_count": 38,
   "id": "c5f81cd9",
   "metadata": {},
   "outputs": [
    {
     "data": {
      "text/plain": [
       "dict_items([('name', '세연쌤'), ('age', {'작년': 20, '올해': 21, '내년': 22}), ('birth', '03/20'), ('like', 'money')])"
      ]
     },
     "execution_count": 38,
     "metadata": {},
     "output_type": "execute_result"
    }
   ],
   "source": [
    "dic_1.items()"
   ]
  },
  {
   "cell_type": "code",
   "execution_count": 40,
   "id": "69617911",
   "metadata": {},
   "outputs": [
    {
     "name": "stdout",
     "output_type": "stream",
     "text": [
      "('name', '세연쌤')\n",
      "('age', {'작년': 20, '올해': 21, '내년': 22})\n",
      "('birth', '03/20')\n",
      "('like', 'money')\n"
     ]
    }
   ],
   "source": [
    "# for문 - key, values 쌍 가져오기\n",
    "for item in dic_1.items():\n",
    "    print(item)"
   ]
  },
  {
   "cell_type": "code",
   "execution_count": 41,
   "id": "5a0d7d0f",
   "metadata": {},
   "outputs": [
    {
     "name": "stdout",
     "output_type": "stream",
     "text": [
      "name\n",
      "세연쌤\n",
      "-----\n",
      "age\n",
      "{'작년': 20, '올해': 21, '내년': 22}\n",
      "-----\n",
      "birth\n",
      "03/20\n",
      "-----\n",
      "like\n",
      "money\n",
      "-----\n"
     ]
    }
   ],
   "source": [
    "for k, v in dic_1.items():\n",
    "    print(k)\n",
    "    print(v)\n",
    "    print('-----')"
   ]
  },
  {
   "cell_type": "markdown",
   "id": "35ed85b2",
   "metadata": {},
   "source": [
    "#### in, not in\n",
    "- key에 한해서 동작한다"
   ]
  },
  {
   "cell_type": "code",
   "execution_count": 42,
   "id": "3602aa83",
   "metadata": {},
   "outputs": [
    {
     "data": {
      "text/plain": [
       "{'name': '세연쌤',\n",
       " 'age': {'작년': 20, '올해': 21, '내년': 22},\n",
       " 'birth': '03/20',\n",
       " 'like': 'money'}"
      ]
     },
     "execution_count": 42,
     "metadata": {},
     "output_type": "execute_result"
    }
   ],
   "source": [
    "dic_1"
   ]
  },
  {
   "cell_type": "code",
   "execution_count": 43,
   "id": "f2f32c2a",
   "metadata": {},
   "outputs": [
    {
     "data": {
      "text/plain": [
       "True"
      ]
     },
     "execution_count": 43,
     "metadata": {},
     "output_type": "execute_result"
    }
   ],
   "source": [
    "'name' in dic_1"
   ]
  },
  {
   "cell_type": "code",
   "execution_count": 44,
   "id": "1354800f",
   "metadata": {},
   "outputs": [
    {
     "data": {
      "text/plain": [
       "4"
      ]
     },
     "execution_count": 44,
     "metadata": {},
     "output_type": "execute_result"
    }
   ],
   "source": []
  },
  {
   "cell_type": "code",
   "execution_count": null,
   "id": "573f4c4c",
   "metadata": {},
   "outputs": [],
   "source": []
  },
  {
   "cell_type": "markdown",
   "id": "447aaf6c",
   "metadata": {},
   "source": [
    "### 함수(function)\n",
    "- 실행할 명령들을 독립적으로 실행할 수 있게 모아둔 집합"
   ]
  },
  {
   "cell_type": "code",
   "execution_count": 47,
   "id": "865ca901",
   "metadata": {},
   "outputs": [],
   "source": [
    "# 함수 정의\n",
    "def number_sum(num1, num2):\n",
    "    return num1 + num2"
   ]
  },
  {
   "cell_type": "code",
   "execution_count": 48,
   "id": "76d0649c",
   "metadata": {},
   "outputs": [
    {
     "data": {
      "text/plain": [
       "23"
      ]
     },
     "execution_count": 48,
     "metadata": {},
     "output_type": "execute_result"
    }
   ],
   "source": [
    "number_sum(3, 20)    # 함수 호출"
   ]
  },
  {
   "cell_type": "code",
   "execution_count": 49,
   "id": "36fce21f",
   "metadata": {},
   "outputs": [],
   "source": [
    "def number_minus(num1, num2):\n",
    "    return num1 - num2"
   ]
  },
  {
   "cell_type": "code",
   "execution_count": 52,
   "id": "a37f9877",
   "metadata": {},
   "outputs": [
    {
     "name": "stdout",
     "output_type": "stream",
     "text": [
      "첫 번째 정수 입력 >> 10\n",
      "두 번째 정수 입력 >> 3\n",
      "7\n"
     ]
    }
   ],
   "source": [
    "num1 = int(input(\"첫 번째 정수 입력 >> \"))\n",
    "num2 = int(input(\"두 번째 정수 입력 >> \"))\n",
    "result = number_minus(num1, num2)\n",
    "print(result)"
   ]
  },
  {
   "cell_type": "code",
   "execution_count": 59,
   "id": "a513f650",
   "metadata": {},
   "outputs": [
    {
     "data": {
      "text/plain": [
       "'치킨 피자 아이스크림'"
      ]
     },
     "execution_count": 59,
     "metadata": {},
     "output_type": "execute_result"
    }
   ],
   "source": [
    "# replace(대체할 문자, 바꿀 문자) 문자열 함수\n",
    "'치킨 피자 탕수육'.replace('탕수육','아이스크림')"
   ]
  },
  {
   "cell_type": "code",
   "execution_count": 61,
   "id": "c6936575",
   "metadata": {},
   "outputs": [
    {
     "data": {
      "text/plain": [
       "'치킨 피자'"
      ]
     },
     "execution_count": 61,
     "metadata": {},
     "output_type": "execute_result"
    }
   ],
   "source": [
    "# 문자열 삭제 효과\n",
    "'치킨 피자 탕수육'.replace(' 탕수육','')"
   ]
  },
  {
   "cell_type": "code",
   "execution_count": 62,
   "id": "4abf8e68",
   "metadata": {},
   "outputs": [],
   "source": [
    "def s_replace(s):\n",
    "    return s.replace('ㅋ','')"
   ]
  },
  {
   "cell_type": "code",
   "execution_count": 63,
   "id": "4e4281fb",
   "metadata": {},
   "outputs": [
    {
     "name": "stdout",
     "output_type": "stream",
     "text": [
      "문자열 입력 >> ㅋ을 지워주세요ㅋㅋㅋㅋㅋㅋㅋ\n",
      "을 지워주세요\n"
     ]
    }
   ],
   "source": [
    "s = input(\"문자열 입력 >> \")\n",
    "result = s_replace(s)\n",
    "print(result)"
   ]
  },
  {
   "cell_type": "code",
   "execution_count": 64,
   "id": "d2245c43",
   "metadata": {},
   "outputs": [
    {
     "name": "stdout",
     "output_type": "stream",
     "text": [
      "\n"
     ]
    }
   ],
   "source": [
    "print()    # Shift + tab -> 함수에 대한 설명(Dostring)을 볼수 있음"
   ]
  },
  {
   "cell_type": "code",
   "execution_count": 65,
   "id": "4e87df70",
   "metadata": {
    "scrolled": true
   },
   "outputs": [
    {
     "ename": "TypeError",
     "evalue": "s_replace() missing 1 required positional argument: 's'",
     "output_type": "error",
     "traceback": [
      "\u001b[1;31m---------------------------------------------------------------------------\u001b[0m",
      "\u001b[1;31mTypeError\u001b[0m                                 Traceback (most recent call last)",
      "Input \u001b[1;32mIn [65]\u001b[0m, in \u001b[0;36m<cell line: 1>\u001b[1;34m()\u001b[0m\n\u001b[1;32m----> 1\u001b[0m \u001b[43ms_replace\u001b[49m\u001b[43m(\u001b[49m\u001b[43m)\u001b[49m\n",
      "\u001b[1;31mTypeError\u001b[0m: s_replace() missing 1 required positional argument: 's'"
     ]
    }
   ],
   "source": [
    "s_replace()"
   ]
  },
  {
   "cell_type": "code",
   "execution_count": 69,
   "id": "cad10999",
   "metadata": {},
   "outputs": [],
   "source": [
    "# 함수 정의\n",
    "def s_replace(str1):\n",
    "    \"\"\"'ㅋ'문자열을 제거해주는 함수\n",
    "    ㅋ을 제거한다.\n",
    "    독스트링 작성\"\"\"\n",
    "    result = s.replace('ㅋ','')    \n",
    "    return result"
   ]
  },
  {
   "cell_type": "code",
   "execution_count": null,
   "id": "64d39725",
   "metadata": {},
   "outputs": [],
   "source": []
  },
  {
   "cell_type": "markdown",
   "id": "f17b4102",
   "metadata": {},
   "source": [
    "###가변 매개변수"
   ]
  },
  {
   "cell_type": "code",
   "execution_count": null,
   "id": "02306498",
   "metadata": {},
   "outputs": [],
   "source": [
    "# 두 개의 매개변수를 받도록 만듬!\n",
    "number_minus(1,3,7)\n",
    "# 매개변수 갯수가 안 맞으면 에러!"
   ]
  },
  {
   "cell_type": "code",
   "execution_count": 72,
   "id": "2b79ba26",
   "metadata": {},
   "outputs": [],
   "source": [
    "def add(*args):    # 가변 매개변수\n",
    "    print(args)"
   ]
  },
  {
   "cell_type": "code",
   "execution_count": 73,
   "id": "ef7415a0",
   "metadata": {},
   "outputs": [
    {
     "name": "stdout",
     "output_type": "stream",
     "text": [
      "(1, 2, 3, 4, 5)\n"
     ]
    }
   ],
   "source": [
    "add(1,2,3,4,5)\n",
    "# 가변 매개변수 : 튜플 형태로 저장"
   ]
  }
 ],
 "metadata": {
  "kernelspec": {
   "display_name": "Python 3 (ipykernel)",
   "language": "python",
   "name": "python3"
  },
  "language_info": {
   "codemirror_mode": {
    "name": "ipython",
    "version": 3
   },
   "file_extension": ".py",
   "mimetype": "text/x-python",
   "name": "python",
   "nbconvert_exporter": "python",
   "pygments_lexer": "ipython3",
   "version": "3.9.12"
  }
 },
 "nbformat": 4,
 "nbformat_minor": 5
}
