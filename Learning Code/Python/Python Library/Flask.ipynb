{
 "cells": [
  {
   "cell_type": "code",
   "execution_count": 1,
   "id": "3d09b79c",
   "metadata": {},
   "outputs": [
    {
     "name": "stdout",
     "output_type": "stream",
     "text": [
      "Requirement already satisfied: flask in c:\\users\\smhrd\\anaconda3\\lib\\site-packages (1.1.2)\n",
      "Requirement already satisfied: Werkzeug>=0.15 in c:\\users\\smhrd\\anaconda3\\lib\\site-packages (from flask) (2.0.3)\n",
      "Requirement already satisfied: Jinja2>=2.10.1 in c:\\users\\smhrd\\anaconda3\\lib\\site-packages (from flask) (2.11.3)\n",
      "Requirement already satisfied: itsdangerous>=0.24 in c:\\users\\smhrd\\anaconda3\\lib\\site-packages (from flask) (2.0.1)\n",
      "Requirement already satisfied: click>=5.1 in c:\\users\\smhrd\\anaconda3\\lib\\site-packages (from flask) (8.0.4)\n",
      "Requirement already satisfied: colorama in c:\\users\\smhrd\\anaconda3\\lib\\site-packages (from click>=5.1->flask) (0.4.4)\n",
      "Requirement already satisfied: MarkupSafe>=0.23 in c:\\users\\smhrd\\anaconda3\\lib\\site-packages (from Jinja2>=2.10.1->flask) (2.0.1)\n"
     ]
    }
   ],
   "source": [
    "!pip install flask"
   ]
  },
  {
   "cell_type": "code",
   "execution_count": 2,
   "id": "1afca3ad",
   "metadata": {},
   "outputs": [
    {
     "name": "stdout",
     "output_type": "stream",
     "text": [
      "Collecting flask_cors\n",
      "  Downloading Flask_Cors-3.0.10-py2.py3-none-any.whl (14 kB)\n",
      "Requirement already satisfied: Six in c:\\users\\smhrd\\anaconda3\\lib\\site-packages (from flask_cors) (1.16.0)\n",
      "Requirement already satisfied: Flask>=0.9 in c:\\users\\smhrd\\anaconda3\\lib\\site-packages (from flask_cors) (1.1.2)\n",
      "Requirement already satisfied: click>=5.1 in c:\\users\\smhrd\\anaconda3\\lib\\site-packages (from Flask>=0.9->flask_cors) (8.0.4)\n",
      "Requirement already satisfied: Werkzeug>=0.15 in c:\\users\\smhrd\\anaconda3\\lib\\site-packages (from Flask>=0.9->flask_cors) (2.0.3)\n",
      "Requirement already satisfied: Jinja2>=2.10.1 in c:\\users\\smhrd\\anaconda3\\lib\\site-packages (from Flask>=0.9->flask_cors) (2.11.3)\n",
      "Requirement already satisfied: itsdangerous>=0.24 in c:\\users\\smhrd\\anaconda3\\lib\\site-packages (from Flask>=0.9->flask_cors) (2.0.1)\n",
      "Requirement already satisfied: colorama in c:\\users\\smhrd\\anaconda3\\lib\\site-packages (from click>=5.1->Flask>=0.9->flask_cors) (0.4.4)\n",
      "Requirement already satisfied: MarkupSafe>=0.23 in c:\\users\\smhrd\\anaconda3\\lib\\site-packages (from Jinja2>=2.10.1->Flask>=0.9->flask_cors) (2.0.1)\n",
      "Installing collected packages: flask-cors\n",
      "Successfully installed flask-cors-3.0.10\n"
     ]
    }
   ],
   "source": [
    "!pip install flask_cors"
   ]
  },
  {
   "cell_type": "code",
   "execution_count": 2,
   "id": "f5261beb",
   "metadata": {},
   "outputs": [
    {
     "name": "stdout",
     "output_type": "stream",
     "text": [
      " * Serving Flask app \"__main__\" (lazy loading)\n",
      " * Environment: production\n",
      "\u001b[31m   WARNING: This is a development server. Do not use it in a production deployment.\u001b[0m\n",
      "\u001b[2m   Use a production WSGI server instead.\u001b[0m\n",
      " * Debug mode: off\n"
     ]
    },
    {
     "name": "stderr",
     "output_type": "stream",
     "text": [
      " * Running on http://127.0.0.1:3300/ (Press CTRL+C to quit)\n",
      "127.0.0.1 - - [28/Sep/2022 14:24:25] \"GET / HTTP/1.1\" 404 -\n",
      "127.0.0.1 - - [28/Sep/2022 14:24:25] \"GET /favicon.ico HTTP/1.1\" 404 -\n"
     ]
    }
   ],
   "source": [
    "#flask == python 서버 구축 프레임워크\n",
    "from flask import Flask, request, redirect, jsonify\n",
    "from flask_cors import CORS\n",
    "\n",
    "#flask 서버 객체 생성\n",
    "# __name__ : 파일명을 담고있는 전역변수\n",
    "app = Flask(__name__)\n",
    "\n",
    "# Ajax : 동일출처(CORS) : 같은서버 내에서만 통신 가능\n",
    "# 동일 출처 정책 완화\n",
    "CORS(app)\n",
    "\n",
    "# route : controller, 요청을 구분하는단위\n",
    "# app.route(\"/urlmapping\", methods=[\"Get? or Post?\"])\n",
    "@app.route(\"/test\", methods=['GET', 'POST'])\n",
    "def test():\n",
    "    \n",
    "    return \"Hello world\" # out print\n",
    "\n",
    "@app.route(\"/test2\", methods=['GET', 'POST'])\n",
    "def test2():\n",
    "    return redirect(\"http://www.naver.com/\")\n",
    "\n",
    "@app.route(\"/json\", methods=['GET', 'POST'])\n",
    "def json():\n",
    "    json = [\n",
    "        {\n",
    "            'title' : '근린공원',\n",
    "            'price' : '리뷰리뷰'\n",
    "        },\n",
    "        {\n",
    "            'title' : '제목2',\n",
    "            'price' : '115000'\n",
    "        },\n",
    "        {\n",
    "            'title' : '제목3',\n",
    "            'price' : '135000'\n",
    "        }\n",
    "    ]\n",
    "    \n",
    "    # 어떻게 json을??\n",
    "    # return data --> ajax res\n",
    "    return jsonify(json)\n",
    "\n",
    "\n",
    "\n",
    "\n",
    "# 서버 실행\n",
    "if __name__ == '__main__':\n",
    "    app.run(host=\"127.0.0.1\", port=3300)"
   ]
  },
  {
   "cell_type": "code",
   "execution_count": null,
   "id": "e9b679aa",
   "metadata": {},
   "outputs": [],
   "source": []
  }
 ],
 "metadata": {
  "kernelspec": {
   "display_name": "Python 3 (ipykernel)",
   "language": "python",
   "name": "python3"
  },
  "language_info": {
   "codemirror_mode": {
    "name": "ipython",
    "version": 3
   },
   "file_extension": ".py",
   "mimetype": "text/x-python",
   "name": "python",
   "nbconvert_exporter": "python",
   "pygments_lexer": "ipython3",
   "version": "3.9.12"
  }
 },
 "nbformat": 4,
 "nbformat_minor": 5
}
