{
 "cells": [
  {
   "cell_type": "markdown",
   "id": "14975ee7",
   "metadata": {},
   "source": [
    "#### 라이브러리 불러오기"
   ]
  },
  {
   "cell_type": "code",
   "execution_count": 1,
   "id": "f4b86573",
   "metadata": {},
   "outputs": [],
   "source": [
    "import numpy as np"
   ]
  },
  {
   "cell_type": "markdown",
   "id": "e6a82ec4",
   "metadata": {},
   "source": [
    "### 1차원 배열(array) 만들기"
   ]
  },
  {
   "cell_type": "code",
   "execution_count": 2,
   "id": "ce024f84",
   "metadata": {},
   "outputs": [],
   "source": [
    "list1 = [1,2,3,4,5]"
   ]
  },
  {
   "cell_type": "code",
   "execution_count": 3,
   "id": "e3ac917d",
   "metadata": {},
   "outputs": [
    {
     "data": {
      "text/plain": [
       "list"
      ]
     },
     "execution_count": 3,
     "metadata": {},
     "output_type": "execute_result"
    }
   ],
   "source": [
    "type(list1)"
   ]
  },
  {
   "cell_type": "code",
   "execution_count": 22,
   "id": "9129a24d",
   "metadata": {},
   "outputs": [
    {
     "data": {
      "text/plain": [
       "array([1, 2, 3, 4, 5])"
      ]
     },
     "execution_count": 22,
     "metadata": {},
     "output_type": "execute_result"
    }
   ],
   "source": [
    "arr1 = np.array(list1)    # numpy에 있는 array라는 자료형\n",
    "arr1"
   ]
  },
  {
   "cell_type": "code",
   "execution_count": 6,
   "id": "27a13245",
   "metadata": {},
   "outputs": [
    {
     "data": {
      "text/plain": [
       "numpy.ndarray"
      ]
     },
     "execution_count": 6,
     "metadata": {},
     "output_type": "execute_result"
    }
   ],
   "source": [
    "type(arr1)"
   ]
  },
  {
   "cell_type": "markdown",
   "id": "dc1f9627",
   "metadata": {},
   "source": [
    "### 2차원 배열 생성하기!"
   ]
  },
  {
   "cell_type": "code",
   "execution_count": 17,
   "id": "97d35495",
   "metadata": {},
   "outputs": [
    {
     "data": {
      "text/plain": [
       "array([[1, 2, 3],\n",
       "       [4, 5, 6]])"
      ]
     },
     "execution_count": 17,
     "metadata": {},
     "output_type": "execute_result"
    }
   ],
   "source": [
    "list2 = [[1,2,3],[4,5,6]]    # 2차원 list를 생성\n",
    "arr2 = np.array(list2)    # 2차원 numpy 배열을 생성\n",
    "arr2    # 2차원 array"
   ]
  },
  {
   "cell_type": "markdown",
   "id": "dd4bdae5",
   "metadata": {},
   "source": [
    "### 데이터 확인하기\n",
    "- 배열의 크기 (shape) -> (행, 열)\n",
    "- 배열의 개수 (size) -> 요소의 개수\n",
    "- 배열의 차원 (ndim)"
   ]
  },
  {
   "cell_type": "code",
   "execution_count": 18,
   "id": "c8240aef",
   "metadata": {},
   "outputs": [
    {
     "data": {
      "text/plain": [
       "(2, 3)"
      ]
     },
     "execution_count": 18,
     "metadata": {},
     "output_type": "execute_result"
    }
   ],
   "source": [
    "# 배열의 크기 : 배열.shape\n",
    "arr2.shape    # (행, 열)"
   ]
  },
  {
   "cell_type": "code",
   "execution_count": 19,
   "id": "0f46ae9e",
   "metadata": {},
   "outputs": [
    {
     "data": {
      "text/plain": [
       "6"
      ]
     },
     "execution_count": 19,
     "metadata": {},
     "output_type": "execute_result"
    }
   ],
   "source": [
    "# 배열의 개수 확인 : 배열.size\n",
    "arr2.size    # 총 요소의 개수"
   ]
  },
  {
   "cell_type": "code",
   "execution_count": 24,
   "id": "dad9f0a8",
   "metadata": {},
   "outputs": [
    {
     "name": "stdout",
     "output_type": "stream",
     "text": [
      "1\n",
      "2\n"
     ]
    }
   ],
   "source": [
    "# 배열의 차원 확인 : 배열.ndim\n",
    "print(arr1.ndim)\n",
    "print(arr2.ndim)"
   ]
  },
  {
   "cell_type": "code",
   "execution_count": 45,
   "id": "f7958845",
   "metadata": {},
   "outputs": [
    {
     "data": {
      "text/plain": [
       "dtype('int32')"
      ]
     },
     "execution_count": 45,
     "metadata": {},
     "output_type": "execute_result"
    }
   ],
   "source": [
    "# 배열의 데이터 타입 확인 : dtype\n",
    "arr2.dtype"
   ]
  },
  {
   "attachments": {
    "image-2.png": {
     "image/png": "[encoded data removed]"
    },
    "image.png": {
     "image/png": "[encoded data removed]"
    }
   },
   "cell_type": "markdown",
   "id": "d5fd1200",
   "metadata": {},
   "source": [
    "### 3차원 배열의 데이터 확인하기\n",
    "![image-2.png](attachment:image-2.png)\n",
    "![image.png](attachment:image.png)"
   ]
  },
  {
   "cell_type": "code",
   "execution_count": 38,
   "id": "be7b20ee",
   "metadata": {},
   "outputs": [
    {
     "name": "stdout",
     "output_type": "stream",
     "text": [
      "배열의 크기 : (2, 2, 2)\n",
      "배열의 요소 개수 : 8\n",
      "배열의 차원 : 3\n"
     ]
    }
   ],
   "source": [
    "list3 = [[[1,2],[3,4]],[[5,6],[7,8]]]\n",
    "arr3 = np.array(list3)\n",
    "\n",
    "print(f'배열의 크기 : {arr3.shape}')\n",
    "print(f'배열의 요소 개수 : {arr3.size}')\n",
    "print(f'배열의 차원 : {arr3.ndim}')"
   ]
  },
  {
   "cell_type": "markdown",
   "id": "2838ef33",
   "metadata": {},
   "source": [
    "#### 배열의 연산\n",
    "- 요소별 연산이 가능하다!"
   ]
  },
  {
   "cell_type": "code",
   "execution_count": 39,
   "id": "8ff00812",
   "metadata": {},
   "outputs": [
    {
     "data": {
      "text/plain": [
       "[1, 2, 3, 4, 5, 6]"
      ]
     },
     "execution_count": 39,
     "metadata": {},
     "output_type": "execute_result"
    }
   ],
   "source": [
    "list1 = [1,2,3]\n",
    "list2 = [4,5,6]\n",
    "list1 + list2"
   ]
  },
  {
   "cell_type": "code",
   "execution_count": 41,
   "id": "864381b6",
   "metadata": {},
   "outputs": [
    {
     "data": {
      "text/plain": [
       "array([1, 2, 3, 4, 5])"
      ]
     },
     "execution_count": 41,
     "metadata": {},
     "output_type": "execute_result"
    }
   ],
   "source": [
    "arr1"
   ]
  },
  {
   "cell_type": "code",
   "execution_count": 40,
   "id": "7c18860a",
   "metadata": {},
   "outputs": [
    {
     "data": {
      "text/plain": [
       "array([ 2,  4,  6,  8, 10])"
      ]
     },
     "execution_count": 40,
     "metadata": {},
     "output_type": "execute_result"
    }
   ],
   "source": [
    "arr1 + arr1"
   ]
  },
  {
   "cell_type": "code",
   "execution_count": 44,
   "id": "d92eb624",
   "metadata": {},
   "outputs": [
    {
     "data": {
      "text/plain": [
       "array([1.2, 2.2, 3.3, 4.4, 5.5])"
      ]
     },
     "execution_count": 44,
     "metadata": {},
     "output_type": "execute_result"
    }
   ],
   "source": [
    "# 정수형과 실수형도 연산이 가능하다\n",
    "arr4 = np.array([1.2,2.2,3.3,4.4,5.5])\n",
    "arr4"
   ]
  },
  {
   "cell_type": "code",
   "execution_count": 43,
   "id": "b7fa49e9",
   "metadata": {},
   "outputs": [
    {
     "data": {
      "text/plain": [
       "array([ 2.2,  4.2,  6.3,  8.4, 10.5])"
      ]
     },
     "execution_count": 43,
     "metadata": {},
     "output_type": "execute_result"
    }
   ],
   "source": [
    "arr1+arr4"
   ]
  },
  {
   "cell_type": "markdown",
   "id": "c301dc9e",
   "metadata": {},
   "source": [
    "### 인덱싱, 슬라이싱\n",
    "- 인덱싱 : 가리킨다 라는 의미 -> 한개의 데이터를 찾아온다\n",
    "- 슬라이싱 : 잘라온다 라는 의미 -> 한개 이상의 데이터를 찾아온다 (범위)\n",
    "- 하는 이유 : 내가 원하는 데이터에 접근 하기 위해서,\n",
    "- 손쉽게 데이터를 찾아가기 위해서"
   ]
  },
  {
   "cell_type": "code",
   "execution_count": 46,
   "id": "6c0d09d6",
   "metadata": {},
   "outputs": [
    {
     "data": {
      "text/plain": [
       "array([[1, 2, 3],\n",
       "       [4, 5, 6]])"
      ]
     },
     "execution_count": 46,
     "metadata": {},
     "output_type": "execute_result"
    }
   ],
   "source": [
    "arr = np.array([[1,2,3],[4,5,6]])\n",
    "arr"
   ]
  },
  {
   "cell_type": "code",
   "execution_count": 48,
   "id": "22fe4141",
   "metadata": {},
   "outputs": [
    {
     "data": {
      "text/plain": [
       "2"
      ]
     },
     "execution_count": 48,
     "metadata": {},
     "output_type": "execute_result"
    }
   ],
   "source": [
    "# 숫자 2 가져오기 (인덱싱)\n",
    "arr[0][1]"
   ]
  },
  {
   "cell_type": "code",
   "execution_count": 50,
   "id": "25a3dfb9",
   "metadata": {},
   "outputs": [
    {
     "data": {
      "text/plain": [
       "2"
      ]
     },
     "execution_count": 50,
     "metadata": {},
     "output_type": "execute_result"
    }
   ],
   "source": [
    "# 2차원 배열 인덱싱하는 또 다른 방법\n",
    "arr[0,1]    # [행,열]"
   ]
  },
  {
   "cell_type": "code",
   "execution_count": 54,
   "id": "c5ee7df3",
   "metadata": {},
   "outputs": [
    {
     "data": {
      "text/plain": [
       "array([0, 1, 2, 3, 4, 5, 6, 7, 8, 9])"
      ]
     },
     "execution_count": 54,
     "metadata": {},
     "output_type": "execute_result"
    }
   ],
   "source": [
    "# 슬라이싱 -> 2~5 슬라이싱\n",
    "arr_1 = np.array([0,1,2,3,4,5,6,7,8,9])\n",
    "arr_1"
   ]
  },
  {
   "cell_type": "code",
   "execution_count": 56,
   "id": "0f9c0fea",
   "metadata": {},
   "outputs": [
    {
     "data": {
      "text/plain": [
       "array([2, 3, 4, 5])"
      ]
     },
     "execution_count": 56,
     "metadata": {},
     "output_type": "execute_result"
    }
   ],
   "source": [
    "arr_1[2:6]    # 슬라이싱 -> 변수명[시작 : 끝 + 1]"
   ]
  },
  {
   "cell_type": "code",
   "execution_count": 57,
   "id": "a2434e44",
   "metadata": {},
   "outputs": [
    {
     "data": {
      "text/plain": [
       "array([3, 4, 5, 6, 7, 8, 9])"
      ]
     },
     "execution_count": 57,
     "metadata": {},
     "output_type": "execute_result"
    }
   ],
   "source": [
    "# 3~ 끝 슬라이싱\n",
    "arr_1[3:]"
   ]
  },
  {
   "cell_type": "code",
   "execution_count": null,
   "id": "04df5b5f",
   "metadata": {},
   "outputs": [],
   "source": [
    "# [:끝값 +1] : 처음부터 내가 가져오고 싶은 값까지\n",
    "# [시작:] : 내가 가져오고 싶은 값부터 끝까지\n",
    "# [:] : 전체 데이터를 출력하고 싶을때"
   ]
  },
  {
   "cell_type": "markdown",
   "id": "163d31f0",
   "metadata": {},
   "source": [
    "### BMI 지수 구하기"
   ]
  },
  {
   "cell_type": "code",
   "execution_count": 60,
   "id": "460f9aeb",
   "metadata": {},
   "outputs": [
    {
     "data": {
      "text/plain": [
       "array([[175.2   , 180.3   , 175.    , 169.2   , 185.2   , 188.    ,\n",
       "        177.6   , 178.2   , 177.    , 179.    ],\n",
       "       [144.5824, 193.952 , 174.5568, 152.7372, 121.22  , 156.9248,\n",
       "        160.892 , 151.8556, 163.096 , 180.728 ]])"
      ]
     },
     "execution_count": 60,
     "metadata": {},
     "output_type": "execute_result"
    }
   ],
   "source": [
    "# 데이터 로드하기!\n",
    "data = np.loadtxt('height_weight(p).txt', delimiter = ',')\n",
    "data"
   ]
  },
  {
   "cell_type": "code",
   "execution_count": 68,
   "id": "e220b559",
   "metadata": {},
   "outputs": [
    {
     "name": "stdout",
     "output_type": "stream",
     "text": [
      "[65.6404096 88.054208  79.2487872 69.3426888 55.03388   71.2438592\n",
      " 73.044968  68.9424424 74.045584  82.050512 ]\n",
      "[1.752 1.803 1.75  1.692 1.852 1.88  1.776 1.782 1.77  1.79 ]\n"
     ]
    },
    {
     "data": {
      "text/plain": [
       "array([21.3846959 , 27.08685992, 25.877155  , 24.22144007, 16.04531206,\n",
       "       20.15727116, 23.1581776 , 21.71057199, 23.63483801, 25.60797478])"
      ]
     },
     "execution_count": 68,
     "metadata": {},
     "output_type": "execute_result"
    }
   ],
   "source": [
    "# 몸무게 데이터 (p) 인덱싱\n",
    "\n",
    "# 몸무게 데이터 (p) -> (kg) *0.454\n",
    "weight = data[1,:] * 0.454\n",
    "\n",
    "\n",
    "# 키테이터 (cm) 인덱싱\n",
    "\n",
    "#키테이터 (cm) -> (m) /100\n",
    "\n",
    "height = data[0,:] / 100\n",
    "\n",
    "print(weight)\n",
    "print(height)\n",
    "\n",
    "bmi = weight/height**2\n",
    "bmi"
   ]
  },
  {
   "cell_type": "markdown",
   "id": "5c5d8bec",
   "metadata": {},
   "source": [
    "### 여러가지 방법으로 넘파이 배열 생성하기\n",
    "- 배열을 특정한 값으로 초기화 해서 생성하기"
   ]
  },
  {
   "cell_type": "code",
   "execution_count": 4,
   "id": "32601146",
   "metadata": {},
   "outputs": [],
   "source": [
    "# 배열 안의 모든 데이터 0으로 초기화해서 생성하는 방법\n",
    "# np.zeros((행,열)) (배열의 크기 -> 튜플형태로 작성할것!)\n",
    "arr_zero = np.zeros((2,3))"
   ]
  },
  {
   "cell_type": "code",
   "execution_count": null,
   "id": "a3c2ea1d",
   "metadata": {},
   "outputs": [],
   "source": [
    "# 소괄호 안쪽에 숫자 하나만 적어주면 1차원 배열이 생성된다\n",
    "np.zeros(10)"
   ]
  },
  {
   "cell_type": "code",
   "execution_count": 5,
   "id": "549ebea2",
   "metadata": {},
   "outputs": [
    {
     "data": {
      "text/plain": [
       "array([[1., 1., 1., 1.],\n",
       "       [1., 1., 1., 1.],\n",
       "       [1., 1., 1., 1.]])"
      ]
     },
     "execution_count": 5,
     "metadata": {},
     "output_type": "execute_result"
    }
   ],
   "source": [
    "# 배열안의 모든 데이터를 1로 초기화해서 생성\n",
    "# np.ones((배열의 크기(행,열)))\n",
    "np.ones((3,4))    # 3행 4열"
   ]
  },
  {
   "cell_type": "code",
   "execution_count": 7,
   "id": "ba128aa9",
   "metadata": {},
   "outputs": [
    {
     "data": {
      "text/plain": [
       "array([[7, 7, 7],\n",
       "       [7, 7, 7]])"
      ]
     },
     "execution_count": 7,
     "metadata": {},
     "output_type": "execute_result"
    }
   ],
   "source": [
    "# 내가 원하는 특정값으로 초기화해서 배열 생성\n",
    "# np.full((행,열), 내가 원하는 특정값)\n",
    "np.full((2,3),7)"
   ]
  },
  {
   "cell_type": "markdown",
   "id": "1c5e6a81",
   "metadata": {},
   "source": [
    "- 1부터 50까지 숫자데이터를 가지고 있는 1차원 배열 생성"
   ]
  },
  {
   "cell_type": "code",
   "execution_count": 22,
   "id": "341921e5",
   "metadata": {},
   "outputs": [
    {
     "data": {
      "text/plain": [
       "array([ 1,  2,  3,  4,  5,  6,  7,  8,  9, 10, 11, 12, 13, 14, 15, 16, 17,\n",
       "       18, 19, 20, 21, 22, 23, 24, 25, 26, 27, 28, 29, 30, 31, 32, 33, 34,\n",
       "       35, 36, 37, 38, 39, 40, 41, 42, 43, 44, 45, 46, 47, 48, 49, 50])"
      ]
     },
     "execution_count": 22,
     "metadata": {},
     "output_type": "execute_result"
    }
   ],
   "source": [
    "# range(시작, 끝+1, 증감값)\n",
    "list_a = []\n",
    "for i in range(1,51):\n",
    "    list_a.append(i)\n",
    "    \n",
    "np.array(list_a)"
   ]
  },
  {
   "cell_type": "code",
   "execution_count": 24,
   "id": "c25f72e2",
   "metadata": {},
   "outputs": [
    {
     "data": {
      "text/plain": [
       "array([ 1,  2,  3,  4,  5,  6,  7,  8,  9, 10, 11, 12, 13, 14, 15, 16, 17,\n",
       "       18, 19, 20, 21, 22, 23, 24, 25, 26, 27, 28, 29, 30, 31, 32, 33, 34,\n",
       "       35, 36, 37, 38, 39, 40, 41, 42, 43, 44, 45, 46, 47, 48, 49, 50])"
      ]
     },
     "execution_count": 24,
     "metadata": {},
     "output_type": "execute_result"
    }
   ],
   "source": [
    "# 순차적으로 증가하거나 감소하는 배열을 생성\n",
    "# arange(시작, 끝+, 증감값)\n",
    "np.arange(1,51)"
   ]
  },
  {
   "cell_type": "code",
   "execution_count": 26,
   "id": "8ac9d901",
   "metadata": {},
   "outputs": [
    {
     "data": {
      "text/plain": [
       "array([ 1,  5,  9, 13, 17, 21, 25, 29, 33, 37, 41, 45, 49])"
      ]
     },
     "execution_count": 26,
     "metadata": {},
     "output_type": "execute_result"
    }
   ],
   "source": [
    "# 1부터 51ㄲ지 증가하는 배열\n",
    "np.arange(1,52,4)"
   ]
  },
  {
   "cell_type": "markdown",
   "id": "c7346d0e",
   "metadata": {},
   "source": [
    "- 랜덤값으로 초기화 하면서 생성"
   ]
  },
  {
   "cell_type": "code",
   "execution_count": 28,
   "id": "63b4167c",
   "metadata": {},
   "outputs": [
    {
     "data": {
      "text/plain": [
       "array([[50, 12, 32],\n",
       "       [46, 12,  8]])"
      ]
     },
     "execution_count": 28,
     "metadata": {},
     "output_type": "execute_result"
    }
   ],
   "source": [
    "# np.random.randint(시작, 끝+1, size = (배열의 크기))\n",
    "np.random.randint(1,51,size = (2,3))     # 2행 3열"
   ]
  },
  {
   "cell_type": "code",
   "execution_count": 30,
   "id": "cbde4ac3",
   "metadata": {},
   "outputs": [
    {
     "data": {
      "text/plain": [
       "3"
      ]
     },
     "execution_count": 30,
     "metadata": {},
     "output_type": "execute_result"
    }
   ],
   "source": [
    "np.random.randint(1,6)"
   ]
  },
  {
   "cell_type": "code",
   "execution_count": 33,
   "id": "c33c66e1",
   "metadata": {},
   "outputs": [
    {
     "data": {
      "text/plain": [
       "array([[ 1,  2,  3,  4,  5,  6,  7,  8,  9, 10],\n",
       "       [11, 12, 13, 14, 15, 16, 17, 18, 19, 20],\n",
       "       [21, 22, 23, 24, 25, 26, 27, 28, 29, 30],\n",
       "       [31, 32, 33, 34, 35, 36, 37, 38, 39, 40],\n",
       "       [41, 42, 43, 44, 45, 46, 47, 48, 49, 50]])"
      ]
     },
     "execution_count": 33,
     "metadata": {},
     "output_type": "execute_result"
    }
   ],
   "source": [
    "# 스스로 1차원 배열 1~50까지 출력\n",
    "np.arange(1,51)\n",
    "# 2차원 배열로 만들기 (5행10열) : .reshape(행,열)\n",
    "arr_2 = np.arange(1,51).reshape(5,10)\n",
    "arr_2"
   ]
  },
  {
   "cell_type": "code",
   "execution_count": 42,
   "id": "2051964e",
   "metadata": {},
   "outputs": [
    {
     "data": {
      "text/plain": [
       "array([15, 16, 17])"
      ]
     },
     "execution_count": 42,
     "metadata": {},
     "output_type": "execute_result"
    }
   ],
   "source": [
    "# arr_2에서 15,16,17출력하기\n",
    "arr_2[1][4:7]\n",
    "arr_2[1,4:7]    # [행,열]"
   ]
  },
  {
   "cell_type": "code",
   "execution_count": 46,
   "id": "1db01810",
   "metadata": {},
   "outputs": [
    {
     "data": {
      "text/plain": [
       "array([ 1, 11, 21, 31, 41])"
      ]
     },
     "execution_count": 46,
     "metadata": {},
     "output_type": "execute_result"
    }
   ],
   "source": [
    "# 전체 행의 0열만 가저오기!\n",
    "arr_2[:,0]"
   ]
  },
  {
   "cell_type": "code",
   "execution_count": 48,
   "id": "911f91a9",
   "metadata": {},
   "outputs": [
    {
     "data": {
      "text/plain": [
       "array([21, 22, 23, 24, 25, 26, 27, 28, 29, 30])"
      ]
     },
     "execution_count": 48,
     "metadata": {},
     "output_type": "execute_result"
    }
   ],
   "source": [
    "# 3행의 전체 열\n",
    "arr_2[2]"
   ]
  },
  {
   "cell_type": "code",
   "execution_count": 70,
   "id": "ba60dfda",
   "metadata": {},
   "outputs": [
    {
     "data": {
      "text/plain": [
       "array([22, 33])"
      ]
     },
     "execution_count": 70,
     "metadata": {},
     "output_type": "execute_result"
    }
   ],
   "source": [
    "# 22,33 출력\n",
    "arr_2[[2,3],[1,2]]\n",
    "# [[행],[열]]\n",
    "# [[행1,행2,행3],[열1,열2,열]]\n",
    "# 여러개의 데이터를 가져오고싶을때 묶어서 적어주기"
   ]
  },
  {
   "cell_type": "markdown",
   "id": "415dce69",
   "metadata": {},
   "source": [
    "### 불리언 색인(인덱싱)\n",
    "- 조건에 해당하는(True) 값들만 출력할때 사용\n",
    "- 내가 찾고자하는 원본데이터 [조건식]"
   ]
  },
  {
   "cell_type": "code",
   "execution_count": 71,
   "id": "11d8e9dc",
   "metadata": {},
   "outputs": [
    {
     "data": {
      "text/plain": [
       "array([65, 90, 70, 80, 55])"
      ]
     },
     "execution_count": 71,
     "metadata": {},
     "output_type": "execute_result"
    }
   ],
   "source": [
    "# 임의의 점수데이터\n",
    "score = np.array([65,90,70,80,55])\n",
    "score"
   ]
  },
  {
   "cell_type": "code",
   "execution_count": 72,
   "id": "ddc82ed1",
   "metadata": {},
   "outputs": [
    {
     "data": {
      "text/plain": [
       "array([False,  True,  True,  True, False])"
      ]
     },
     "execution_count": 72,
     "metadata": {},
     "output_type": "execute_result"
    }
   ],
   "source": [
    "# 현재는 논리연산의 결과\n",
    "score >= 70"
   ]
  },
  {
   "cell_type": "code",
   "execution_count": 74,
   "id": "8b94cc0d",
   "metadata": {},
   "outputs": [
    {
     "data": {
      "text/plain": [
       "array([90, 70, 80])"
      ]
     },
     "execution_count": 74,
     "metadata": {},
     "output_type": "execute_result"
    }
   ],
   "source": [
    "# 논리연산이 참인 값들만 가져온다\n",
    "score[score >= 70]"
   ]
  },
  {
   "cell_type": "code",
   "execution_count": 80,
   "id": "21330359",
   "metadata": {},
   "outputs": [
    {
     "data": {
      "text/plain": [
       "array([22, 33])"
      ]
     },
     "execution_count": 80,
     "metadata": {},
     "output_type": "execute_result"
    }
   ],
   "source": [
    "arr_2[(arr_2 == 22) | (arr_2 == 33)]"
   ]
  },
  {
   "cell_type": "code",
   "execution_count": 82,
   "id": "51b30b17",
   "metadata": {},
   "outputs": [
    {
     "data": {
      "text/plain": [
       "array(['주희', '진영', '진이', '현성', '준기'], dtype='<U2')"
      ]
     },
     "execution_count": 82,
     "metadata": {},
     "output_type": "execute_result"
    }
   ],
   "source": [
    "# 이름 데이터\n",
    "name = np.array(['주희','진영','진이','현성','준기'])\n",
    "name"
   ]
  },
  {
   "cell_type": "code",
   "execution_count": 86,
   "id": "17b8647c",
   "metadata": {},
   "outputs": [
    {
     "data": {
      "text/plain": [
       "array(['진영', '진이', '현성'], dtype='<U2')"
      ]
     },
     "execution_count": 86,
     "metadata": {},
     "output_type": "execute_result"
    }
   ],
   "source": [
    "# 점수가 70점 이상인 친구들만 출력\n",
    "name[score>=70]"
   ]
  },
  {
   "cell_type": "markdown",
   "id": "20bdcc99",
   "metadata": {},
   "source": [
    "### 범용함수\n",
    "- 넘파이에서 제공해주는 함수"
   ]
  },
  {
   "cell_type": "code",
   "execution_count": 91,
   "id": "098c6040",
   "metadata": {},
   "outputs": [
    {
     "name": "stdout",
     "output_type": "stream",
     "text": [
      "[[3 0 6 7 6]\n",
      " [5 1 7 8 4]]\n",
      "47\n"
     ]
    }
   ],
   "source": [
    "# sum() -> 모든 값을 더해서 출력해준다\n",
    "arr = np.random.randint(0,10,size=(2,5))\n",
    "print(arr)\n",
    "print(np.sum(arr))"
   ]
  },
  {
   "cell_type": "code",
   "execution_count": 93,
   "id": "3cdbafe9",
   "metadata": {},
   "outputs": [
    {
     "data": {
      "text/plain": [
       "4.7"
      ]
     },
     "execution_count": 93,
     "metadata": {},
     "output_type": "execute_result"
    }
   ],
   "source": [
    "# mean() -> 평균값을 구해주는 함수\n",
    "np.mean(arr)"
   ]
  },
  {
   "cell_type": "code",
   "execution_count": 96,
   "id": "a7ccc963",
   "metadata": {},
   "outputs": [
    {
     "data": {
      "text/plain": [
       "array([1., 2., 3., 4., 5.])"
      ]
     },
     "execution_count": 96,
     "metadata": {},
     "output_type": "execute_result"
    }
   ],
   "source": [
    "# sqrt() -> 제곱근을 구해주는 함수\n",
    "arr1 = np.array([1,4,9,16,25])\n",
    "np.sqrt(arr1)"
   ]
  },
  {
   "cell_type": "code",
   "execution_count": 97,
   "id": "dee8e674",
   "metadata": {},
   "outputs": [
    {
     "data": {
      "text/plain": [
       "array([1, 5, 6, 8, 3])"
      ]
     },
     "execution_count": 97,
     "metadata": {},
     "output_type": "execute_result"
    }
   ],
   "source": [
    "# abs() -> 절대값을 구해주는 함수\n",
    "arr2 = np.array([1,-5,6,-8,-3])\n",
    "np.abs(arr2)"
   ]
  }
 ],
 "metadata": {
  "kernelspec": {
   "display_name": "Python 3 (ipykernel)",
   "language": "python",
   "name": "python3"
  },
  "language_info": {
   "codemirror_mode": {
    "name": "ipython",
    "version": 3
   },
   "file_extension": ".py",
   "mimetype": "text/x-python",
   "name": "python",
   "nbconvert_exporter": "python",
   "pygments_lexer": "ipython3",
   "version": "3.9.12"
  }
 },
 "nbformat": 4,
 "nbformat_minor": 5
}
