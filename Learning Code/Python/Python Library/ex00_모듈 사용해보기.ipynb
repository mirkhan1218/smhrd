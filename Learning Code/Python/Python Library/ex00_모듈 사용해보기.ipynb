{
 "cells": [
  {
   "cell_type": "markdown",
   "id": "b1fb62cd",
   "metadata": {},
   "source": [
    "### 모듈 사용해보기~\n",
    "- 주의! : 현재 script 파일과 모듈파일(*.py)이 같은 공간에 위치해야한다!"
   ]
  },
  {
   "cell_type": "code",
   "execution_count": 1,
   "id": "505853e0",
   "metadata": {},
   "outputs": [],
   "source": [
    "# 모듈 불러오기\n",
    "# 로딩할때 저장해준 파일이름과 똑같아야한다!\n",
    "import Module as md"
   ]
  },
  {
   "cell_type": "code",
   "execution_count": 2,
   "id": "18eae6cd",
   "metadata": {},
   "outputs": [
    {
     "data": {
      "text/plain": [
       "16"
      ]
     },
     "execution_count": 2,
     "metadata": {},
     "output_type": "execute_result"
    }
   ],
   "source": [
    "# 더하기 기능 사용해보기\n",
    "md.add_num(8,8)"
   ]
  },
  {
   "cell_type": "code",
   "execution_count": 3,
   "id": "81c9ad1d",
   "metadata": {},
   "outputs": [
    {
     "data": {
      "text/plain": [
       "1"
      ]
     },
     "execution_count": 3,
     "metadata": {},
     "output_type": "execute_result"
    }
   ],
   "source": [
    "# 빼기 기능 사용해보기\n",
    "md.sub_num(8,7)"
   ]
  },
  {
   "cell_type": "code",
   "execution_count": null,
   "id": "89d49c2f",
   "metadata": {},
   "outputs": [],
   "source": [
    "# kernel이 다시 실행되면 import도 반드시 다시 해줘야한다!"
   ]
  },
  {
   "cell_type": "code",
   "execution_count": 1,
   "id": "0f58ca0b",
   "metadata": {},
   "outputs": [],
   "source": [
    "# 데이터가 많아서 무거운 라이브러리를 사용할떄는 특정 함수만 가져와서 사용할수도 있다\n",
    "from Module import add_num"
   ]
  },
  {
   "cell_type": "code",
   "execution_count": 2,
   "id": "bfca7330",
   "metadata": {},
   "outputs": [
    {
     "data": {
      "text/plain": [
       "16"
      ]
     },
     "execution_count": 2,
     "metadata": {},
     "output_type": "execute_result"
    }
   ],
   "source": [
    "add_num(8,8)"
   ]
  },
  {
   "cell_type": "code",
   "execution_count": null,
   "id": "2914ebb2",
   "metadata": {},
   "outputs": [],
   "source": [
    "sub_num(8,7)"
   ]
  },
  {
   "cell_type": "markdown",
   "id": "1676cfa9",
   "metadata": {},
   "source": [
    "#### 라이브러리 로딩하는 방법 (2가지)\n",
    "1. 라이브러리 전체를 로딩하는 방법\n",
    "2. 라이브러리 안에서 필요한 함수만 골라서 호출하는 방법"
   ]
  },
  {
   "cell_type": "code",
   "execution_count": null,
   "id": "9a246d5d",
   "metadata": {},
   "outputs": [],
   "source": []
  },
  {
   "cell_type": "code",
   "execution_count": null,
   "id": "7cc6b95a",
   "metadata": {},
   "outputs": [],
   "source": []
  }
 ],
 "metadata": {
  "kernelspec": {
   "display_name": "Python 3 (ipykernel)",
   "language": "python",
   "name": "python3"
  },
  "language_info": {
   "codemirror_mode": {
    "name": "ipython",
    "version": 3
   },
   "file_extension": ".py",
   "mimetype": "text/x-python",
   "name": "python",
   "nbconvert_exporter": "python",
   "pygments_lexer": "ipython3",
   "version": "3.9.12"
  }
 },
 "nbformat": 4,
 "nbformat_minor": 5
}
