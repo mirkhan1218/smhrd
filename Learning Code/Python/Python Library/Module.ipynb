{
 "cells": [
  {
   "cell_type": "markdown",
   "id": "aa01bf8e",
   "metadata": {},
   "source": [
    "## 모듈 생성하기"
   ]
  },
  {
   "cell_type": "code",
   "execution_count": 1,
   "id": "9fbd9e9d",
   "metadata": {},
   "outputs": [],
   "source": [
    "# 간단한 더하기를 해주는 함수를 만들자!"
   ]
  },
  {
   "cell_type": "code",
   "execution_count": 2,
   "id": "5c8b0cbc",
   "metadata": {},
   "outputs": [],
   "source": [
    "def add_num(num1, num2):\n",
    "    return num1 + num2"
   ]
  },
  {
   "cell_type": "code",
   "execution_count": null,
   "id": "06a8c526",
   "metadata": {},
   "outputs": [],
   "source": [
    "# 빼기 해주는 함수 정의하기"
   ]
  },
  {
   "cell_type": "code",
   "execution_count": 3,
   "id": "f5eb16d9",
   "metadata": {},
   "outputs": [],
   "source": [
    "def sub_num(num1, num2):\n",
    "    return num1 - num2"
   ]
  },
  {
   "cell_type": "code",
   "execution_count": null,
   "id": "92314131",
   "metadata": {},
   "outputs": [],
   "source": []
  }
 ],
 "metadata": {
  "kernelspec": {
   "display_name": "Python 3 (ipykernel)",
   "language": "python",
   "name": "python3"
  },
  "language_info": {
   "codemirror_mode": {
    "name": "ipython",
    "version": 3
   },
   "file_extension": ".py",
   "mimetype": "text/x-python",
   "name": "python",
   "nbconvert_exporter": "python",
   "pygments_lexer": "ipython3",
   "version": "3.9.12"
  },
  "vscode": {
   "interpreter": {
    "hash": "9907b05ad5677b1cfcca22bd1a12faf7a7b5a0b41431806ea6144102cc530b51"
   }
  }
 },
 "nbformat": 4,
 "nbformat_minor": 5
}
